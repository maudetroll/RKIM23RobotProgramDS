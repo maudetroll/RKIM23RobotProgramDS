{
 "cells": [
  {
   "cell_type": "markdown",
   "metadata": {
    "tags": []
   },
   "source": [
    "Introduction\n",
    "============\n",
    "\n",
    "This is interactive notebook regarding \"Introduction to path planning\". (Author: Björn Hein)\n",
    "\n",
    "License is based on Creative Commons: Attribution-NonCommercial 4.0 International (CC BY-NC 4.0) (pls. check: http://creativecommons.org/licenses/by-nc/4.0/)\n",
    "\n",
    "This notebook imports all discussed algorithms and does a comparison\n",
    "\n",
    "**Attention**: This worksheet has external dependencies \n",
    "\n",
    "* to the files \"InnoKonz2dEnv.py\" or \"InnoKonzShapelyEnv.py\". These files contain simple 2D environments based on numpy arrays or the shapely library with an interface for the use as collision checking in the algorithms.\n",
    "* to all modules like \"**Algorithm**.py\", which contains the corresponding algorithms \n",
    "\n",
    "Important links are:\n",
    "\n",
    "* General Info: http://www.python.org\n",
    "* Python tutorial http://www.python.org/doc/tut/\n",
    "* NetworkX http://networkx.github.io/\n",
    "* NumPy and SciPy Guide http://docs.scipy.org/\n",
    "* Matplotlib gallery http://matplotlib.sourceforge.net/gallery.html\n",
    "\n",
    "\n",
    "Remember that:\n",
    "\n",
    "* you have to press ctrl-return or shift-return, to execute the code in the code sections, only then the variables are \"generated\" and can be used\n",
    "* you can execute the whole notebook by Cell->runAll"
   ]
  },
  {
   "cell_type": "markdown",
   "metadata": {},
   "source": [
    "Adding all planners\n",
    "===========\n"
   ]
  },
  {
   "cell_type": "code",
   "execution_count": 1,
   "metadata": {
    "tags": []
   },
   "outputs": [],
   "source": [
    "import sys\n",
    "sys.path.append(\"templates\")\n",
    "%load_ext autoreload\n",
    "%autoreload 2"
   ]
  },
  {
   "cell_type": "code",
   "execution_count": 2,
   "metadata": {
    "tags": []
   },
   "outputs": [],
   "source": [
    "from IPPerfMonitor import IPPerfMonitor\n",
    "\n",
    "import IPBasicPRM\n",
    "import IPVISBasicPRM\n",
    "import IPBasicPRM_Roundtrip\n",
    "\n",
    "import IPVisibilityPRM\n",
    "import IPVISVisibilityPRM\n",
    "\n",
    "#import IPKClosestPRM # for visualization IKVISBasicPRM is used\n",
    "\n",
    "import IPLazyPRM\n",
    "import IPVISLazyPRM\n"
   ]
  },
  {
   "cell_type": "markdown",
   "metadata": {},
   "source": [
    "Set-up of the test scenario and the configuration for all planner\n",
    "===================================\n",
    "\n",
    "Following a procedure to compare all discussed planners are shown:\n",
    "\n",
    "1. Configuration for every planner is defined\n",
    "2. The configuration and the planner is stored in the variable setup, a Python dict()\n",
    "3. the variable setup is then used to uniformly call the planning calls\n"
   ]
  },
  {
   "cell_type": "code",
   "execution_count": 3,
   "metadata": {
    "collapsed": false,
    "jupyter": {
     "outputs_hidden": false
    },
    "tags": []
   },
   "outputs": [],
   "source": [
    "plannerFactory = dict()\n",
    "\n",
    "basicConfig = dict()\n",
    "basicConfig[\"radius\"] = 3\n",
    "basicConfig[\"numNodes\"] = 200\n",
    "plannerFactory[\"basePRM\"] = [IPBasicPRM.BasicPRM, basicConfig, IPVISBasicPRM.basicPRMVisualize]\n",
    "\n",
    "\n",
    "plannerFactory[\"basePRM2\"] = [IPBasicPRM.BasicPRM, basicConfig, IPVISBasicPRM.basicPRMVisualize]\n",
    "\n",
    "visbilityConfig = dict()\n",
    "visbilityConfig[\"ntry\"] = 300\n",
    "plannerFactory[\"visibilityPRM\"] = [IPVisibilityPRM.VisPRM, visbilityConfig, IPVISVisibilityPRM.visibilityPRMVisualize ]\n",
    "\n",
    "lazyConfig = dict()\n",
    "lazyConfig[\"initialRoadmapSize\"] = 10\n",
    "lazyConfig[\"updateRoadmapSize\"]  = 5 \n",
    "lazyConfig[\"kNearest\"] = 8\n",
    "plannerFactory[\"lazyPRM\"] = [IPLazyPRM.LazyPRM, lazyConfig, IPVISLazyPRM.lazyPRMVisualize]"
   ]
  },
  {
   "cell_type": "code",
   "execution_count": 4,
   "metadata": {
    "collapsed": false,
    "jupyter": {
     "outputs_hidden": false
    },
    "tags": []
   },
   "outputs": [],
   "source": [
    "class ResultCollection (object):\n",
    "    \n",
    "    def __init__(self, plannerFactoryName, planner, benchmark, solution, perfDataFrame):\n",
    "        self.plannerFactoryName = plannerFactoryName\n",
    "        self.planner = planner\n",
    "        self.benchmark = benchmark\n",
    "        self.solution = solution\n",
    "        self.perfDataFrame = perfDataFrame"
   ]
  },
  {
   "cell_type": "code",
   "execution_count": 5,
   "metadata": {
    "collapsed": false,
    "jupyter": {
     "outputs_hidden": false
    },
    "tags": []
   },
   "outputs": [],
   "source": [
    "import IPTestSuiteSS2023\n",
    "import importlib"
   ]
  },
  {
   "cell_type": "code",
   "execution_count": 6,
   "metadata": {
    "tags": []
   },
   "outputs": [
    {
     "data": {
      "text/plain": [
       "<module 'IPTestSuiteSS2023' from '/home/maurice/Dokumente/Projekt_Roboterprogrammierung/Projekt_GIT/RKIM23RobotProgramDS/01_gegebeneNotebooks/IPTestSuiteSS2023.py'>"
      ]
     },
     "execution_count": 6,
     "metadata": {},
     "output_type": "execute_result"
    }
   ],
   "source": [
    "importlib.reload(IPTestSuiteSS2023)"
   ]
  },
  {
   "cell_type": "code",
   "execution_count": 7,
   "metadata": {
    "collapsed": false,
    "jupyter": {
     "outputs_hidden": false
    },
    "tags": []
   },
   "outputs": [
    {
     "name": "stdout",
     "output_type": "stream",
     "text": [
      "Trap\n",
      "Bottleneck\n",
      "Fat bottleneck\n",
      "Spirals\n",
      "B_rush\n",
      "Triangle fun\n",
      "busv1013\n",
      "Wall of Dots\n",
      "FunFunFun\n",
      "Snowman\n",
      "circle od death\n",
      "Multibottleneck\n",
      "House of the rising sun\n",
      "Boring\n",
      "Person\n",
      "Linien\n",
      "osm_field\n",
      "4 Rechtecke\n",
      "5er Würfel\n",
      "Gitter\n",
      "Labyrinth\n",
      "FindMyWay\n",
      "channing\n",
      "never_ending_spiral\n",
      "vojo_1020\n"
     ]
    }
   ],
   "source": [
    "fullBenchList = IPTestSuiteSS2023.benchList\n",
    "\n",
    "for benchmark in fullBenchList:\n",
    "    print(benchmark.name)"
   ]
  },
  {
   "cell_type": "code",
   "execution_count": 8,
   "metadata": {
    "collapsed": false,
    "jupyter": {
     "outputs_hidden": false
    },
    "tags": []
   },
   "outputs": [
    {
     "name": "stdout",
     "output_type": "stream",
     "text": [
      "basePRM [<class 'IPBasicPRM.BasicPRM'>, {'radius': 3, 'numNodes': 200}, <function basicPRMVisualize at 0x7faef43bd3a0>]\n",
      "Planning: basePRM - Trap\n",
      "PLANNING ERROR ! PLANNING ERROR ! PLANNING ERROR \n",
      "Planning: basePRM - Bottleneck\n",
      "PLANNING ERROR ! PLANNING ERROR ! PLANNING ERROR \n",
      "Planning: basePRM - Fat bottleneck\n",
      "PLANNING ERROR ! PLANNING ERROR ! PLANNING ERROR \n",
      "basePRM2 [<class 'IPBasicPRM.BasicPRM'>, {'radius': 3, 'numNodes': 200}, <function basicPRMVisualize at 0x7faef43bd3a0>]\n",
      "Planning: basePRM2 - Trap\n",
      "PLANNING ERROR ! PLANNING ERROR ! PLANNING ERROR \n",
      "Planning: basePRM2 - Bottleneck\n",
      "PLANNING ERROR ! PLANNING ERROR ! PLANNING ERROR \n",
      "Planning: basePRM2 - Fat bottleneck\n",
      "PLANNING ERROR ! PLANNING ERROR ! PLANNING ERROR \n",
      "visibilityPRM [<class 'IPVisibilityPRM.VisPRM'>, {'ntry': 300}, <function visibilityPRMVisualize at 0x7faeaf81c360>]\n",
      "Planning: visibilityPRM - Trap\n",
      "PLANNING ERROR ! PLANNING ERROR ! PLANNING ERROR \n",
      "Planning: visibilityPRM - Bottleneck\n",
      "PLANNING ERROR ! PLANNING ERROR ! PLANNING ERROR \n",
      "Planning: visibilityPRM - Fat bottleneck\n",
      "PLANNING ERROR ! PLANNING ERROR ! PLANNING ERROR \n",
      "lazyPRM [<class 'IPLazyPRM.LazyPRM'>, {'initialRoadmapSize': 10, 'updateRoadmapSize': 5, 'kNearest': 8}, <function lazyPRMVisualize at 0x7faeae585ee0>]\n",
      "Planning: lazyPRM - Trap\n",
      "PLANNING ERROR ! PLANNING ERROR ! PLANNING ERROR \n",
      "Planning: lazyPRM - Bottleneck\n",
      "PLANNING ERROR ! PLANNING ERROR ! PLANNING ERROR \n",
      "Planning: lazyPRM - Fat bottleneck\n",
      "PLANNING ERROR ! PLANNING ERROR ! PLANNING ERROR \n"
     ]
    }
   ],
   "source": [
    "resultList = list()\n",
    "testList = fullBenchList[0:3]\n",
    "\n",
    "for key,producer in list(plannerFactory.items()):\n",
    "    print(key, producer)\n",
    "    for benchmark in testList:\n",
    "        print (\"Planning: \" + key + \" - \" + benchmark.name)\n",
    "        #planner = IPBasicPRM.BasicPRM(benchmark.collisionChecker)\n",
    "        planner = producer[0](benchmark.collisionChecker)\n",
    "        IPPerfMonitor.clearData()\n",
    "        try:\n",
    "            #pfadhin = planner.planPathRound(benchmark.startList,benchmark.goalList,producer[1])\n",
    "            #pfadzurueck = planner.planPathRound(benchmark.goalList,benchmark.startList,producer[1])\n",
    "            #solution = pfadhin\n",
    "            #print(solution)\n",
    "            resultList.append(ResultCollection(key,\n",
    "                                           planner, \n",
    "                                           benchmark, \n",
    "                                           planner.planPathRound(benchmark.startList,benchmark.goalList,producer[1]),\n",
    "                                           IPPerfMonitor.dataFrame()\n",
    "                                          ),\n",
    "                        )\n",
    "            \n",
    "            #a = planner.planPath(benchmark.startList,benchmark.goalList,producer[1])\n",
    "            # \n",
    "        except Exception as e:\n",
    "        #    throw e\n",
    "            print (\"PLANNING ERROR ! PLANNING ERROR ! PLANNING ERROR \")\n",
    "            pass\n",
    "            \n",
    "\n"
   ]
  },
  {
   "cell_type": "code",
   "execution_count": 9,
   "metadata": {
    "tags": []
   },
   "outputs": [],
   "source": [
    "import matplotlib.pyplot as plt\n",
    "\n",
    "for result in resultList:\n",
    "    \n",
    "    fig_local = plt.figure(figsize=(10,10))\n",
    "    ax = fig_local.add_subplot(1,1,1)\n",
    "    title = result.plannerFactoryName + \" - \" + result.benchmark.name\n",
    "    if result.solution == []:\n",
    "        title += \" (No path found!)\"\n",
    "    title += \"\\n Assumed complexity level \" + str(result.benchmark.level)\n",
    "    ax.set_title(title)\n",
    "    try:\n",
    "        #IPVISBasicsPRM.basicPRMVisualize(result.planner, result.solution, ax=ax, nodeSize=100))\n",
    "        plannerFactory[result.plannerFactoryName][2](result.planner, result.solution, ax=ax, nodeSize=100)\n",
    "    except Exception as e:\n",
    "        print (\"Error\")\n",
    "        print(e)\n",
    "        pass\n",
    "    "
   ]
  },
  {
   "cell_type": "code",
   "execution_count": 10,
   "metadata": {
    "collapsed": false,
    "jupyter": {
     "outputs_hidden": false
    },
    "tags": []
   },
   "outputs": [
    {
     "data": {
      "image/png": "[encoded data removed]",
      "text/plain": [
       "<Figure size 640x480 with 3 Axes>"
      ]
     },
     "metadata": {},
     "output_type": "display_data"
    },
    {
     "data": {
      "image/png": "[encoded data removed]",
      "text/plain": [
       "<Figure size 640x480 with 3 Axes>"
      ]
     },
     "metadata": {},
     "output_type": "display_data"
    },
    {
     "data": {
      "image/png": "[encoded data removed]",
      "text/plain": [
       "<Figure size 640x480 with 3 Axes>"
      ]
     },
     "metadata": {},
     "output_type": "display_data"
    }
   ],
   "source": [
    "import numpy as np\n",
    "for bench in testList:\n",
    "    title = bench.name\n",
    "    pathLength = dict()\n",
    "    planningTime = dict()\n",
    "    roadmapSize  = dict()\n",
    "    \n",
    "    try:\n",
    "        for result in resultList:\n",
    "            if result.benchmark.name == bench.name:\n",
    "                #print result.benchmark.name  + \" - \" +  result.plannerFactoryName, len(result.solution)\n",
    "                pathLength[result.plannerFactoryName] = len(result.solution)\n",
    "                planningTime[result.plannerFactoryName] = result.perfDataFrame.groupby([\"name\"]).sum(numeric_only=True)[\"time\"][\"planPath\"]\n",
    "                roadmapSize[result.plannerFactoryName] = result.planner.graph.size()\n",
    "\n",
    "\n",
    "        fig, ax = plt.subplots()\n",
    "\n",
    "        width = 0.2\n",
    "\n",
    "        ax.bar(np.arange(len(pathLength.keys())), pathLength.values(),width, color=\"blue\")\n",
    "        ax.set_ylabel(title + \" Path length (number of nodes!)\", color=\"blue\")\n",
    "        ax.set_xticks(np.arange(len(pathLength.keys())) + width)\n",
    "        ax.set_xticklabels(pathLength.keys())\n",
    "\n",
    "        ax2 = ax.twinx()\n",
    "        bar = ax2.bar(np.arange(len(pathLength.keys()))+width, planningTime.values(),width, color=\"red\")\n",
    "        ax2.set_ylabel(title + \" Planning time\", color=\"y\")\n",
    "\n",
    "        # Add coloring and patterns on axis two\n",
    "        hatches = ['x' if length==0 else '' for length in pathLength.values()]\n",
    "        color   = ['red' if length==0 else 'yellow' for length in pathLength.values()]\n",
    "        for i,thisbar in enumerate(bar.patches):\n",
    "            thisbar.set_facecolor(color[i])\n",
    "            thisbar.set_hatch(hatches[i])\n",
    "\n",
    "        # Multiple axes \n",
    "        ax3 = ax.twinx()\n",
    "        ax3.bar(np.arange(len(pathLength.keys()))+2*width, roadmapSize.values(),width, color=\"purple\")\n",
    "        ax3.set_ylabel(title + \" Roadmap size\",  color=\"purple\")\n",
    "        ax3.spines['right'].set_position(('axes', 1.15))\n",
    "        ax3.spines['right'].set_color(\"purple\")\n",
    "    except:\n",
    "        pass\n",
    "\n",
    "\n",
    "    \n",
    "        \n",
    "    "
   ]
  },
  {
   "cell_type": "markdown",
   "metadata": {},
   "source": [
    "result.perfDataFrame.groupby([\"name\"]).sum()"
   ]
  },
  {
   "cell_type": "code",
   "execution_count": 11,
   "metadata": {},
   "outputs": [
    {
     "ename": "NameError",
     "evalue": "name 'result' is not defined",
     "output_type": "error",
     "traceback": [
      "\u001b[0;31m---------------------------------------------------------------------------\u001b[0m",
      "\u001b[0;31mNameError\u001b[0m                                 Traceback (most recent call last)",
      "Cell \u001b[0;32mIn[11], line 1\u001b[0m\n\u001b[0;32m----> 1\u001b[0m result\u001b[38;5;241m.\u001b[39mperfDataFrame\u001b[38;5;241m.\u001b[39mgroupby([\u001b[38;5;124m\"\u001b[39m\u001b[38;5;124mname\u001b[39m\u001b[38;5;124m\"\u001b[39m])\u001b[38;5;241m.\u001b[39msum(numeric_only\u001b[38;5;241m=\u001b[39m\u001b[38;5;28;01mTrue\u001b[39;00m)\n",
      "\u001b[0;31mNameError\u001b[0m: name 'result' is not defined"
     ]
    }
   ],
   "source": [
    "result.perfDataFrame.groupby([\"name\"]).sum(numeric_only=True)"
   ]
  },
  {
   "cell_type": "code",
   "execution_count": null,
   "metadata": {},
   "outputs": [],
   "source": [
    "result.perfDataFrame[result.perfDataFrame[\"name\"]==\"planPath\"]"
   ]
  },
  {
   "cell_type": "code",
   "execution_count": null,
   "metadata": {},
   "outputs": [],
   "source": [
    "result.perfDataFrame[result.perfDataFrame[\"name\"]==\"planPath\"][result.perfDataFrame[\"retVal\"]==False][\"time\"].sum(numeric_only=True)"
   ]
  },
  {
   "cell_type": "code",
   "execution_count": null,
   "metadata": {},
   "outputs": [],
   "source": []
  },
  {
   "cell_type": "code",
   "execution_count": null,
   "metadata": {},
   "outputs": [],
   "source": []
  }
 ],
 "metadata": {
  "kernelspec": {
   "display_name": "Python 3 (ipykernel)",
   "language": "python",
   "name": "python3"
  },
  "language_info": {
   "codemirror_mode": {
    "name": "ipython",
    "version": 3
   },
   "file_extension": ".py",
   "mimetype": "text/x-python",
   "name": "python",
   "nbconvert_exporter": "python",
   "pygments_lexer": "ipython3",
   "version": "3.11.5"
  }
 },
 "nbformat": 4,
 "nbformat_minor": 4
}
