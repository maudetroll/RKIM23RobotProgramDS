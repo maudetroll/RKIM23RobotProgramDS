{
 "cells": [
  {
   "cell_type": "markdown",
   "metadata": {},
   "source": [
    "Probabilistic Roadmap Planners (PRM)\n",
    "====================================\n",
    "\n",
    "**Topic**: Introduction to PRM planners\n",
    "\n",
    "Version | Author\n",
    "------------ | -------------\n",
    "0.2 | Björn Hein\n",
    "\n",
    "\n",
    "This worksheet **explains the basic concepts of path planning using a probablistic roadmap approach (PRM)** \n",
    "\n",
    "License is based on Creative Commons: Attribution-NonCommercial 4.0 International (CC BY-NC 4.0) (pls. check: http://creativecommons.org/licenses/by-nc/4.0/)\n",
    "\n",
    "This work-sheet should include all necessary incredience to implement a basic PRM algorithm.\n",
    "\n",
    "**Prerequisite**:\n",
    "\n",
    "* Please read the notebook IP-3-0-Introduction-to-NetworkX for understanding the networkx graph library and it's use\n",
    "\n",
    "**Dependencies**:\n",
    "\n",
    "* Be aware, you will need the files: IPBenchmark.py (Definition of benchmarks), IPEnvironment.py (the CollisionChecker is defined there), IPPerfMonitor.py (will be discussed later)\n",
    "\n",
    "Important links are:\n",
    "\n",
    "    General Info: http://www.python.org\n",
    "    Python tutorial http://www.python.org/doc/tut/\n",
    "    NetworkX http://networkx.github.io/\n",
    "    NumPy and SciPy Guide http://docs.scipy.org/\n",
    "    Matplotlib gallery http://matplotlib.sourceforge.net/gallery.html\n",
    "\n",
    "Remember that:\n",
    "\n",
    "    you have to press ctrl-return or shift-return, to execute the code in the code sections, only then the variables are \"generated\" and can be used\n",
    "    you can execute the whole notebook by Cell->runAll\n",
    "\n",
    "\n",
    "\n"
   ]
  },
  {
   "cell_type": "markdown",
   "metadata": {},
   "source": [
    "# Why probabilistic\n",
    "\n",
    "* Existing **complete algorithms** become practically useless unless DOF is low (between 3 and 6).\n",
    "  * Computation complexity for high-dimensional configuration spaces grows exponentially\n",
    "  * Complete, general purpose algorithms are at best exponential.\n",
    "* Complete solutions can hardly be used for rigid objects translating and rotating in 3D.\n",
    "* Complete solutions can only used for 6-DOF manipulator arms when using “complicated-hard-to-implement” extensions.\n"
   ]
  },
  {
   "cell_type": "markdown",
   "metadata": {},
   "source": [
    "**General Idea**: Trade a **limited amount of completeness** against a **major gain in computing efficiency**.\n",
    "\n",
    "With PRMs, we only get one glimpse of C-Space.\n"
   ]
  },
  {
   "cell_type": "markdown",
   "metadata": {},
   "source": [
    "# PRM - Principle\n",
    "\n",
    "PRMs search takes place in implicit C-Space (C). The planner consists of two phases:\n",
    "\n",
    "  * **Learning Phase**\n",
    "    * Create randomly chosen [or in other sophisticated ways] configurations in C-space\n",
    "    * Connect configurations by a local planner\n",
    "    * Create Graph\n",
    "      * each configuration is a node\n",
    "      * a path between two configurations is an edge between corresponding nodes\n",
    "  * A **Query Phase** \n",
    "    * Find a path from the start and goal configurations to two nodes of the roadmap\n",
    "    * Search the graph to find a sequence of edges connecting those nodes in the roadmap --> collision free path\n",
    "    "
   ]
  },
  {
   "cell_type": "markdown",
   "metadata": {},
   "source": [
    "## Learning Phase\n",
    "\n",
    "1. **Start** with an **empty Graph**: $G = (V, E)$\n",
    "2. **Repeatedly** generate a random **free configuration** and **add** it to V\n",
    "3. **For every new node** (vertex), $c$, select a number of nodes $n_i$ from $V$ and try to connect $c$ to each of them using a line test.\n",
    "4. **If a path is found** between $c$ and the selected node $n$, **the edge** $(c,n)$ is added to $E$. \n",
    "\n",
    "**Remark**: There are now plenty ways to change/adpat this algorithm. Therefore there are a huge number of publications about this algorithm.\n"
   ]
  },
  {
   "cell_type": "markdown",
   "metadata": {},
   "source": [
    "## Basic - PRM - Algorithm\n",
    "\n",
    "Graph: $G(V,E)$\n",
    "\n",
    "1. $V \\leftarrow \\emptyset$ and $E \\leftarrow \\emptyset$\n",
    "2. Loop\n",
    "   \n",
    "   1. $c \\leftarrow$ a **randomly** chosen **free configuration** \n",
    "   2. $V_c \\leftarrow$ a set of candidate neighbors of $c$ chosen from $V$\n",
    "   3. $V \\leftarrow V \\cup \\{c\\}$   \n",
    "   4. **ForAll** $n \\in V_c$ in order of increasing distance from $c$ and $n$ do\n",
    "      \n",
    "      * **if** ( not in same_connected_component(c,n) **AND** line between $c$ and $n$ is collision free) **then**\n",
    "      \n",
    "        * $E \\leftarrow E \\cup \\{(c,n)\\}$\n",
    "        * update G's connected components"
   ]
  },
  {
   "cell_type": "markdown",
   "metadata": {},
   "source": [
    "### Example\n",
    "\n",
    "#### Set-up\n",
    "\n",
    "<img src=\"img-ip-5-0/prm_init.png\" width=400em/>\n",
    "\n",
    "#### Generate randomly free configuration\n",
    "\n",
    "1. Generate a vertex $n$ depending on a chosen sampling strategy (Important parameter regarding planning time).\n",
    "\n",
    "   * “Basic-PRM” uses uniform sampling over the given limits of every dimension of $C$ using the uniform probability distribution over this interval. \n",
    "\n",
    "* Check whether configuration $n$ is “free”\n",
    "* If $n$ is collision free, add $n$ to $V$, otherwise discard.\n",
    "\n",
    "<img src=\"img-ip-5-0/prm_1.png\" width=400em/>\n",
    "\n",
    "### Find neighbours $V_c$\n",
    "\n",
    "* $V_c = \\{ c' \\in V | D(c,c') \\leq maxdist\\}$, $V_c$: all nodes, that are in a given distance defined by a distance-function $D$.\n",
    "* $D$ is typically the Euclidean distance of node $c$ and node $c'$\n",
    "\n",
    "<img src=\"img-ip-5-0/prm_2.png\" width=400em/>\n",
    "\n",
    "According to the algorithm (s. step B.), all neighbor nodes of the new generate node $c$ are generated and stored in $V_c$. As there are now nodes nearby (green circle is empty), a new node is generated\n",
    "\n",
    "<img src=\"img-ip-5-0/prm_3.png\" width=400em/>\n",
    "\n",
    "Again no node nearby the newly generated node. Therefore $V_c$ is empty. Generate new nodes \n",
    "\n",
    "<img src=\"img-ip-5-0/prm_4.png\" width=400em/>\n",
    "\n",
    "This repeats until there are nodes neraby the new generated node\n",
    "\n",
    "<img src=\"img-ip-5-0/prm_5.png\" width=400em/>\n",
    "\n",
    "In increasing distance test, whether the newly generated node can be collision-free connected to the nearby nodes stored in $V_c$.\n",
    "\n",
    "<img src=\"img-ip-5-0/prm_6.png\" width=400em/>\n",
    "\n",
    "and\n",
    "\n",
    "<img src=\"img-ip-5-0/prm_7.png\" width=400em/>\n",
    "\n",
    "Keep repeating the gneration of new nodes\n",
    "\n",
    "<img src=\"img-ip-5-0/prm_8.png\" width=400em/>\n",
    "\n",
    "until you can connect them collision free:\n",
    "\n",
    "<img src=\"img-ip-5-0/prm_9.png\" width=400em/>\n",
    "\n",
    "if yes, then generate an edge $\\{(c,c')\\}$ to $E$: $E \\leftarrow E \\cup \\{(c,c')\\}$ and update the connected components:\n",
    "\n",
    "<img src=\"img-ip-5-0/prm_10.png\" width=400em/>\n",
    "\n",
    "continue until all nodes in $V_c$ are tested:\n",
    "\n",
    "<img src=\"img-ip-5-0/prm_11.png\" width=400em/>\n",
    "\n",
    "and update the connected components:\n",
    "\n",
    "<img src=\"img-ip-5-0/prm_12.png\" width=400em/>\n",
    "\n"
   ]
  },
  {
   "cell_type": "markdown",
   "metadata": {},
   "source": [
    "continue generating nodes and connecting them:\n",
    "\n",
    "<img src=\"img-ip-5-0/prm_14.png\" width=400em/>\n",
    "\n",
    "Continue but **take care of the second condition (s. if-clause in D.)**. \n",
    "\n",
    "<img src=\"img-ip-5-0/prm_15.png\" width=400em/>\n",
    "\n",
    "Always connect to the nearest neighbour:\n",
    "\n",
    "<img src=\"img-ip-5-0/prm_16.png\" width=400em/>\n",
    "\n",
    "and update the connected component:\n",
    "\n",
    "<img src=\"img-ip-5-0/prm_17.png\" width=400em/>\n",
    "\n",
    "But besides checking for a collision-free connection (this is only one part of the if-clause)\n",
    "\n",
    "<img src=\"img-ip-5-0/prm_18.png\" width=400em/>\n",
    "\n",
    "The node should not already be in the same connected component. If so, don't add the connection:\n",
    "\n",
    "<img src=\"img-ip-5-0/prm_17.png\" width=400em/>\n",
    "\n",
    "Continue this algorithm (learning-phase) until a given criteria (e.g. numbers of nodes to be generated randomly. At the end - hopefully - a good roadmap is generated.\n",
    "\n",
    "<img src=\"img-ip-5-0/prm_19.png\" width=400em/>\n",
    "\n"
   ]
  },
  {
   "cell_type": "markdown",
   "metadata": {},
   "source": [
    "#### Query phase\n",
    "\n",
    "Now that the roadmap is generated, we are able to search a collision free path on that roadmap.\n",
    "\n",
    "Therefore the start and the goal positions are added to the graph and it is tried to connect them to nodes on the graph (typically the nearest one. If not possible looking in increasing distance).\n",
    "\n",
    "Connect start $s$ and goal $g$ to nearst nodes on the $G$: $\\hat{s}$ and $\\hat{g}$\n",
    "\n",
    "<img src=\"img-ip-5-0/prm_20.png\" width=400em/>\n",
    "\n",
    "Search path in roadmap using a graph search algorithm. A typicall one is the $A^*$ (A-star):\n",
    "\n",
    "<img src=\"img-ip-5-0/prm_21.png\" width=400em/>\n",
    "\n",
    "Then collect the path:\n",
    "\n",
    "<img src=\"img-ip-5-0/prm_22.png\" width=400em/>\n",
    "\n"
   ]
  },
  {
   "cell_type": "markdown",
   "metadata": {},
   "source": [
    "**Remark**: The algorithm will not find the shortest path! See following example:\n",
    "\n",
    "<img src=\"img-ip-5-0/prm_23.png\" width=400em/>\n",
    "\n"
   ]
  },
  {
   "cell_type": "markdown",
   "metadata": {},
   "source": [
    "Setting up a basic PRM-Algorithm\n",
    "==============================="
   ]
  },
  {
   "cell_type": "markdown",
   "metadata": {},
   "source": [
    "Import modules\n",
    "--------------\n",
    "\n",
    "following modules will be needed to run this notebook, especially two new modules are used **random** and **scipy.spatial.distance**:"
   ]
  },
  {
   "cell_type": "code",
   "execution_count": null,
   "metadata": {
    "collapsed": false,
    "jupyter": {
     "outputs_hidden": false
    }
   },
   "outputs": [],
   "source": [
    "import matplotlib.pyplot as plt \n",
    "%matplotlib inline\n",
    "\n",
    "import networkx as nx  # Library for hanling graphs (please check 4_Introduction_Graph)\n",
    "import random # possibility to create random numbers (The \"P\" in PRM)\n",
    "import numpy as np\n",
    "import math\n",
    "\n",
    "# sort nearest neighbour brute force\n",
    "import heapq\n",
    "\n",
    "# reduce coding effort by using function provided by scipy\n",
    "from scipy.spatial.distance import euclidean"
   ]
  },
  {
   "cell_type": "markdown",
   "metadata": {},
   "source": [
    "Needed functionality\n",
    "--------------------\n",
    "\n",
    "* Random position generator (Sampling strategy)\n",
    "* Computation of **nearest neighbours** for a given node\n",
    "* Test of connected components\n",
    "* Collision test (point and **line**): Please take care, we also need a **line test**.\n"
   ]
  },
  {
   "cell_type": "markdown",
   "metadata": {},
   "source": [
    "Random position generator\n",
    "-------------------------\n",
    "\n",
    "Generate random posistion in configuration space."
   ]
  },
  {
   "cell_type": "code",
   "execution_count": null,
   "metadata": {
    "collapsed": false,
    "jupyter": {
     "outputs_hidden": false
    }
   },
   "outputs": [],
   "source": [
    "dim = 2\n",
    "# configure random generator with in the limits of [0,100]\n",
    "# (should normally be the limits of the planning space e.g. limits of the joints of the robot\n",
    "print(\"A random number\", random.uniform(-90,90))"
   ]
  },
  {
   "cell_type": "code",
   "execution_count": null,
   "metadata": {},
   "outputs": [],
   "source": [
    "pos = []\n",
    "for i in range(dim):\n",
    "    pos.append(random.uniform(-90,90))\n",
    "print(pos)\n",
    "    "
   ]
  },
  {
   "cell_type": "code",
   "execution_count": null,
   "metadata": {
    "collapsed": false,
    "jupyter": {
     "outputs_hidden": false
    }
   },
   "outputs": [],
   "source": [
    "pos = [random.uniform(-90,90) for i in range(dim)] \n",
    "print(\"A random position\", pos)\n",
    "#pos = [random.uniform(0,100),  random.uniform(0,100), random.uniform(0,100),random.uniform(0,100),random.uniform(0,100),random.uniform(0,100)] \n",
    "#print(\"A random position\", pos)"
   ]
  },
  {
   "cell_type": "markdown",
   "metadata": {},
   "source": [
    "Nearest Neighbours\n",
    "------------------"
   ]
  },
  {
   "cell_type": "markdown",
   "metadata": {},
   "source": [
    "Find the nearest neighbours in a given distance (= radius). See following situations:\n",
    "\n",
    "At the beginning:\n",
    "\n",
    "<img src=\"img-ip-5-0/prm_2.png\" width=400em/>\n",
    "\n",
    "or having already done some iterations\n",
    "\n",
    "<img src=\"img-ip-5-0/prm_15.png\" width=400em/>\n",
    "\n",
    "### Brute Force\n",
    "\n",
    "The examples are using the graph library NetworkX. For deeper information, please consult the corresponding notebook or  check:  NetworkX http://networkx.github.io/. "
   ]
  },
  {
   "cell_type": "code",
   "execution_count": null,
   "metadata": {
    "collapsed": false,
    "jupyter": {
     "outputs_hidden": false
    }
   },
   "outputs": [],
   "source": [
    "def nearestNeighboursX(pos, graph, radius):\n",
    "    \"\"\" Brute Force method to find all nodes of a \n",
    "    graph near the given position **pos** with in the distance of\n",
    "    **radius** in **increasing order**\"\"\"\n",
    "    \n",
    "    heap = list()\n",
    "    for node in graph.nodes(data=True): # using (data=True) will generate a list of nodes with all attributes\n",
    "        if euclidean(node[1]['pos'],pos) < radius:\n",
    "            # use a heap-queue to sort the nodes in increasing order\n",
    "            heapq.heappush(heap, (euclidean(node[1]['pos'] ,pos), node))\n",
    "            #if len(heap) > 2 :\n",
    "            #    break\n",
    "\n",
    "    result = list()\n",
    "    while len(heap) > 0 :\n",
    "         result.append(heapq.heappop(heap)) \n",
    "    \n",
    "    return result"
   ]
  },
  {
   "cell_type": "markdown",
   "metadata": {},
   "source": [
    "Check connectivity\n",
    "------------------\n",
    "\n",
    "\n",
    "As previously described, we need the functionality to test whether a node is in the same connected component. Following situation should be \"filtered out\". Therefore it is essential to find out, whethere a node is already in the same connected component.\n",
    "\n",
    "\n",
    "<img src=\"img-ip-5-0/prm_18.png\" width=400em/>\n",
    "\n"
   ]
  },
  {
   "cell_type": "code",
   "execution_count": null,
   "metadata": {
    "collapsed": false,
    "jupyter": {
     "outputs_hidden": false
    }
   },
   "outputs": [],
   "source": [
    "def inSameConnectedComponent(node1, node2, graph):\n",
    "    \"\"\" Check whether to nodes are part of the same connected component using\n",
    "        functionality from NetworkX\n",
    "    \"\"\"\n",
    "    for connectedComponent in nx.connected_components(graph):\n",
    "        if (node1 in connectedComponent) & (node2 in connectedComponent):\n",
    "            return True\n",
    "        \n",
    "    return False"
   ]
  },
  {
   "cell_type": "code",
   "execution_count": null,
   "metadata": {
    "collapsed": false,
    "jupyter": {
     "outputs_hidden": false
    }
   },
   "outputs": [],
   "source": [
    "G_graph = nx.Graph()\n",
    "G_graph.add_node(\"A\", pos = [0,1])\n",
    "\n",
    "G_graph.add_node(\"B\", pos = [10,1])\n",
    "G_graph.add_node(\"C\", pos = [1,10])\n",
    "G_graph.add_node(\"D\", pos = [1,12])\n",
    "G_graph.add_node(\"E\", pos = [12,12])\n",
    "\n",
    "\n",
    "#G_graph.add_edge(\"A\",\"B\")\n",
    "G_graph.add_edge(\"B\",\"C\")\n",
    "G_graph.add_edge(\"D\",\"E\")\n",
    "G_graph.add_edge(\"B\",\"E\")\n",
    "\n",
    "\n",
    "\n",
    "pos = nx.get_node_attributes(G_graph,'pos')\n",
    "\n",
    "nx.draw(G_graph, pos = pos, with_labels=True)   "
   ]
  },
  {
   "cell_type": "code",
   "execution_count": null,
   "metadata": {},
   "outputs": [],
   "source": [
    " path = nx.shortest_path(G_graph,\"C\",\"D\")"
   ]
  },
  {
   "cell_type": "code",
   "execution_count": null,
   "metadata": {},
   "outputs": [],
   "source": [
    "print(path)"
   ]
  },
  {
   "cell_type": "code",
   "execution_count": null,
   "metadata": {
    "collapsed": false,
    "jupyter": {
     "outputs_hidden": false
    }
   },
   "outputs": [],
   "source": [
    "for comp in nx.connected_components(G_graph):\n",
    "    print(comp)\n",
    "    print (\"Is A in this component?\", \"A\" in comp)\n"
   ]
  },
  {
   "cell_type": "markdown",
   "metadata": {},
   "source": [
    "Basic Approach\n",
    "==============\n",
    "\n",
    "As discussed in the lecture, the basic PRM consists of two phases: **Learning Phase** and the **Query Phase**. In the Learning Phase a roadmap is generated. In the Query Phase the start position and the goal position are connected to that roadmap and a path on this roadmap is searched.\n",
    "\n",
    "Learning Phase\n",
    "--------------\n",
    "In the Learning Phase the roadmap is generated.\n",
    "\n",
    "### Simple approach\n",
    "In a straight forward approach the roadmap is constructed by \n",
    "\n",
    "1. randomly generating free nodes\n",
    "2. connect these free nodes to nodes of the roadmap in a certain distance or/and restrict this to certain amount of nodes from the roadmap\n",
    "\n"
   ]
  },
  {
   "cell_type": "markdown",
   "metadata": {},
   "source": [
    "\n",
    "\n",
    "Generate **random free** nodes:\n",
    "\n",
    "<img src=\"img-ip-5-0/prm_1.png\" width=400em/>\n",
    "\n",
    "Following function can be defined\n"
   ]
  },
  {
   "cell_type": "code",
   "execution_count": null,
   "metadata": {
    "collapsed": false,
    "jupyter": {
     "outputs_hidden": false
    }
   },
   "outputs": [],
   "source": [
    "import random\n",
    "\n",
    "def getRandomFreePosition(collChecker):\n",
    "    limits = collChecker.getEnvironmentLimits()        \n",
    "    pos = [random.uniform(limit[0],limit[1]) for limit in limits]\n",
    "    while collChecker.pointInCollision(pos):\n",
    "        pos = [random.uniform(limit[0],limit[1]) for limit in limits]\n",
    "    return pos"
   ]
  },
  {
   "cell_type": "code",
   "execution_count": null,
   "metadata": {
    "collapsed": false,
    "jupyter": {
     "outputs_hidden": false
    }
   },
   "outputs": [],
   "source": [
    "def learnRoadmapNearestNeighbour(graph, dim, radius, numNodes, collisionChecker):\n",
    "    i = 1\n",
    "    while i < numNodes:\n",
    "        \n",
    "        # Generate a 'randomly chosen, free configuration'\n",
    "        pos = getRandomFreePosition(collisionChecker)\n",
    "        \n",
    "        # Find set of candidates to connect to sorted by distance\n",
    "        result = nearestNeighboursX(pos, graph, radius)\n",
    "        \n",
    "        # check connection\n",
    "        graph.add_node(i, pos=pos)\n",
    "        for idx, data in enumerate(result):\n",
    "            if not inSameConnectedComponent(i,data[1][0],graph):\n",
    "                if not collisionChecker.lineInCollision(pos,data[1][1]['pos']):\n",
    "                    graph.add_edge(i,data[1][0])\n",
    "                    \n",
    "        i+=1\n"
   ]
  },
  {
   "cell_type": "markdown",
   "metadata": {},
   "source": [
    "Query Phase\n",
    "------------\n",
    "\n",
    "In the query phase start and goal are connected to the roadmap - if possible ...\n"
   ]
  },
  {
   "cell_type": "code",
   "execution_count": null,
   "metadata": {
    "collapsed": false,
    "jupyter": {
     "outputs_hidden": false
    }
   },
   "outputs": [],
   "source": [
    "def findPath(graph, start, goal,collisionChecker):\n",
    "    # find nearest, collision-free connection between node on graph and start\n",
    "    result = nearestNeighboursX(start, graph, radius)\n",
    "    for node in result:\n",
    "        if not collisionChecker.lineInCollision(start,node[1][1]['pos']):\n",
    "            graph.add_node(\"start\", pos=start)\n",
    "            graph.add_edge(\"start\",node[1][0])\n",
    "            break;\n",
    "    # find nearest, collision-free connection between node on graph and goal\n",
    "    result = nearestNeighboursX(goal, graph, radius)\n",
    "    \n",
    "    for node in result:\n",
    "        if not collisionChecker.lineInCollision(goal,node[1][1]['pos']):\n",
    "            graph.add_node(\"goal\", pos=goal)\n",
    "            graph.add_edge(\"goal\",node[1][0])\n",
    "            break;\n",
    "    # find shortest path on graph\n",
    "    path = nx.shortest_path(graph,\"start\",\"goal\")\n",
    "    # return nodelist\n",
    "    return path\n",
    "    "
   ]
  },
  {
   "cell_type": "markdown",
   "metadata": {},
   "source": [
    "Result of Query Phase:\n",
    "\n",
    "<img src=\"img-ip-5-0/prm_19.png\" width=400em/>"
   ]
  },
  {
   "cell_type": "markdown",
   "metadata": {},
   "source": [
    "Tests\n",
    "-----\n",
    "\n",
    "Following a function for:\n",
    "\n",
    "* Visualizing the graph\n",
    "* the obstacles\n",
    "* the solution\n"
   ]
  },
  {
   "cell_type": "code",
   "execution_count": null,
   "metadata": {},
   "outputs": [],
   "source": [
    "def basicPRMVisualize(graph, collChecker, solution, nodeSize=300.0, ax=None):\n",
    "    # get a list of posiations of all nodes by returning the content of the attribute 'pos'\n",
    "    pos = nx.get_node_attributes(graph,'pos')\n",
    "    \n",
    "    # draw graph (nodes colorized by degree)\n",
    "    nx.draw_networkx_nodes(graph, pos,  cmap=plt.cm.Blues, ax = ax, node_size=nodeSize)\n",
    "    nx.draw_networkx_edges(graph,pos,\n",
    "                                 ax = ax\n",
    "                                 )\n",
    "    \n",
    "   \n",
    "    \n",
    "\n",
    "    collChecker.drawObstacles(ax)\n",
    "    \n",
    "    \n",
    "    # draw nodes based on solution path\n",
    "    Gsp = nx.subgraph(graph,solution)\n",
    "    nx.draw_networkx_nodes(Gsp,pos,\n",
    "                            node_size=300,\n",
    "                             node_color='g',  ax = ax)\n",
    "        \n",
    "    # draw edges based on solution path\n",
    "    nx.draw_networkx_edges(Gsp,pos,alpha=0.8,edge_color='g',width=10,  ax = ax)\n",
    "        \n",
    "    # draw start and goal\n",
    "    if \"start\" in graph.nodes(): \n",
    "        nx.draw_networkx_nodes(graph,pos,nodelist=[\"start\"],\n",
    "                                   node_size=300,\n",
    "                                   node_color='#00dd00',  ax = ax)\n",
    "    if \"goal\" in graph.nodes():\n",
    "        nx.draw_networkx_nodes(graph,pos,nodelist=[\"goal\"],\n",
    "                                   node_size=300,\n",
    "                                   node_color='#DD0000', ax = ax)\n",
    "\n"
   ]
  },
  {
   "cell_type": "markdown",
   "metadata": {},
   "source": [
    "# Benchmarking"
   ]
  },
  {
   "cell_type": "code",
   "execution_count": null,
   "metadata": {
    "collapsed": false,
    "jupyter": {
     "outputs_hidden": false
    }
   },
   "outputs": [],
   "source": [
    "from IPBenchmark import Benchmark\n",
    "from shapely.geometry import Point, Polygon, LineString\n",
    "\n",
    "from IPEnvironment import CollisionChecker"
   ]
  },
  {
   "cell_type": "code",
   "execution_count": null,
   "metadata": {},
   "outputs": [],
   "source": []
  },
  {
   "cell_type": "code",
   "execution_count": null,
   "metadata": {
    "collapsed": false,
    "jupyter": {
     "outputs_hidden": false
    }
   },
   "outputs": [],
   "source": [
    "benchList = list()\n",
    "\n",
    "trapField = dict()\n",
    "trapField[\"obs1\"] =   LineString([(6, 18), (6, 8), (16, 8), (16,18)]).buffer(1.0)\n",
    "description = \"Following the direct connection from goal to start would lead the algorithm into a trap.\"\n",
    "benchList.append(Benchmark(\"Trap\", CollisionChecker(trapField), [[10,15]], [[10,1]], description, 2))\n",
    "\n",
    "bottleNeckField = dict()\n",
    "bottleNeckField[\"obs1\"] = LineString([(0, 13), (11, 13)]).buffer(.5)\n",
    "bottleNeckField[\"obs2\"] = LineString([(13, 13), (23,13)]).buffer(.5)\n",
    "description = \"Planer has to find a narrow passage.\"\n",
    "benchList.append(Benchmark(\"Bottleneck\", CollisionChecker(bottleNeckField), [[4,15]], [[18,1]], description, 2))\n",
    "\n",
    "\n",
    "fatBottleNeckField = dict()\n",
    "fatBottleNeckField[\"obs1\"] = Polygon([(0, 8), (11, 8),(11, 15), (0, 15)]).buffer(.5)\n",
    "fatBottleNeckField[\"obs2\"] = Polygon([(13, 8), (24, 8),(24, 15), (13, 15)]).buffer(.5)\n",
    "description = \"Planer has to find a narrow passage with a significant extend.\"\n",
    "benchList.append(Benchmark(\"Fat bottleneck\", CollisionChecker(fatBottleNeckField), [[4,21]], [[18,1]], description, 2))\n",
    "\n"
   ]
  },
  {
   "cell_type": "code",
   "execution_count": null,
   "metadata": {
    "tags": []
   },
   "outputs": [],
   "source": [
    "for benchmark in benchList:\n",
    "    try:\n",
    "        print (\"Planning: \", benchmark.name)\n",
    "        collChecker = benchmark.collisionChecker\n",
    "        G = nx.Graph()\n",
    "        radius = 5.00\n",
    "        numNodes = 200\n",
    "        learnRoadmapNearestNeighbour(G, dim, radius, numNodes, collChecker)\n",
    "        solution = findPath(G,benchmark.startList[0],benchmark.goalList[0], collChecker)\n",
    "        print(solution, len(solution))\n",
    "        print(len(G.nodes()))\n",
    "        \n",
    "    except Exception as e:\n",
    "        solution = []\n",
    "        print (\"Failed\", e)\n",
    "    # draw the planning\n",
    "    fig = plt.figure(figsize=(5,5))\n",
    "    ax = fig.add_subplot(1,1,1)\n",
    "    limits=collChecker.getEnvironmentLimits()\n",
    "    ax.set_xlim(limits[0])\n",
    "    ax.set_ylim(limits[1])\n",
    "    ax.set_title(benchmark.name)\n",
    "    basicPRMVisualize(G,collChecker,solution,nodeSize=80,ax=ax)"
   ]
  },
  {
   "cell_type": "markdown",
   "metadata": {},
   "source": [
    "Experiments\n",
    "-------------\n",
    "\n",
    "* Try the different ways to build up the roadmap and how this affects the structure of the roadmap by uncommenting corresponding function call\n",
    "* Try different radius\n",
    "* Try different size of roadmap\n",
    "\n"
   ]
  },
  {
   "cell_type": "code",
   "execution_count": null,
   "metadata": {},
   "outputs": [],
   "source": []
  },
  {
   "cell_type": "code",
   "execution_count": null,
   "metadata": {},
   "outputs": [],
   "source": []
  }
 ],
 "metadata": {
  "kernelspec": {
   "display_name": "Python 3 (ipykernel)",
   "language": "python",
   "name": "python3"
  },
  "language_info": {
   "codemirror_mode": {
    "name": "ipython",
    "version": 3
   },
   "file_extension": ".py",
   "mimetype": "text/x-python",
   "name": "python",
   "nbconvert_exporter": "python",
   "pygments_lexer": "ipython3",
   "version": "3.10.11"
  }
 },
 "nbformat": 4,
 "nbformat_minor": 4
}
