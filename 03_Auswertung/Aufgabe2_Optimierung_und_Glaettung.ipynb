{
 "cells": [
  {
   "cell_type": "markdown",
   "id": "c392a756-eb1b-4ea9-bd17-6d55249eaa2e",
   "metadata": {},
   "source": [
    "# Aufgabe 2"
   ]
  },
  {
   "cell_type": "markdown",
   "id": "94888f4e-8126-4d03-b049-926da8d956e7",
   "metadata": {},
   "source": [
    "Wie können Bewegungsbahnen optimiert oder geglättet werden? Nachfolgend sind mögliche Ansätze ausformuliert."
   ]
  },
  {
   "cell_type": "markdown",
   "id": "bcf3e387-dbfe-4c8a-a2e4-2f1c325168ab",
   "metadata": {},
   "source": [
    "### Glättung mittels Überschleifen durch Hilfspunkt\n",
    "\n",
    "Zu Beginn werden um die beiden Interimspunkte (Zwischenziele) Hilfspunkte in der Größe einer 3x3 - Matrix gesetzt. Der mittlere Punkt der Matrix stellt jeweils den Interimspunkt dar (Matrixeintrag: 2. Zeile / 2. Spalte). <br>\n",
    "\n",
    "Danach werden zwischen den außenliegenden Hilfspunkten kollisionsfreie Verbindungen, welche sich nicht gegenseitig überschneiden, eingezeichnet. Im Bild markiert die rote Gerade eine Kollision. Diese wird nicht weiter berücksichtigt. <br>\n",
    "Die eingefügten Verbindungen haben jeweils einen Mittelpunkt, welcher sich mit der Hälfte des Abstandes zwischen den beiden Hilfspunkten berechnen lässt.\n",
    "\n",
    "Zwischen diesen hier im Bild gezeigten, drei gelben Mittelpunkten kann eine Gerade (Zwischengerade) aufgestellt werden. Durch eine größere Matrix ergeben sich mehr Zwischenpunkte. Jeder Punkt der Gerade stellt einen Überschleifpunkt dar. Der maximale Überschleifpunkt liegt auf der Zwischengerade im Schnittpunkt der X- bzw. Y-Ebene der Interimspunkte.\n",
    "\n",
    "Der im Bild blaue Pfeil gibt den gewünschten Abstand zwischen Hindernis und dem Überschleifpunkt an. Dieser ist frei wählbar und kann über einen Parameter angegeben werden.\n",
    "Anschließend wird eine kollisionsfreie Kurve zwischen den Interimspunkten eingezeichnet, welche ebenfalls den Überschleifpunkt schneidet.\n",
    "\n",
    "Diese Methodik erzeugt aufgrund des Überschleifens eine möglichst verschleißfreie und geglättete Bahn.  \n"
   ]
  },
  {
   "cell_type": "markdown",
   "id": "5226dccc-8547-4e91-b8b6-ceacbfb2ab04",
   "metadata": {},
   "source": [
    "<img src=\"./Fotos/Eigene_Glaettung.png\" alt=\"Bild eigene Glättung\" width=\"500\"/>"
   ]
  },
  {
   "cell_type": "markdown",
   "id": "7b9b69dd-5cf3-4e1d-9aa9-c8294e00d43d",
   "metadata": {},
   "source": [
    "## Optimierung durch Duplikatentfernung\n",
    "\n",
    "Eine weitere Optimierung des Pfads stellt eine Entfernung von Duplikaten dar. Die Vorgehensweise kann wie folgt beschrieben werden.\n",
    "1. Sobald ein Zwischenziel erreicht ist, wird der letzte Pfadabschnitt zwischen dem aktuellen Zwischenziel und dem vorherigen Zwischenziel bestimmt.\n",
    "2. Dieser Pfadabschnitt wird nun auf Duplikate überprüft.\n",
    "3. Falls eine Node mehrfach im Pfadabschnitt identifiziert wird, erfolgt eine Kürzung des Pfadabschnitts zwischen dem ersten und letzten Duplikat. Hierdurch wird der Pfad effizient optimiert, da immer der größtmögliche Teil des Pfades gelöscht und dadurch die Anzahl der Iterationen von Duplikatentfernungen reduziert wird.\n",
    "\n",
    "Das Verfahren wurde in dieser Projektarbeit eingesetzt, um den LazyPRM Algorithmus zu optimieren. Aufgrund seiner Logik tendiert dieser Algorithmus dazu, Nodes doppelt im Pfad zu verwenden, um ein Zwischenziel zu erreichen. Aufgezeigt kann dies beispielsweise beim Benchmark \"Trap\". Hier benötigt der Algorithmus zum Teil einige Versuche, um den Weg aus der \"Falle\" herauszufinden.\n",
    "\n",
    "<img src=\"./Fotos/Pfadoptimierung.png\" alt=\"Bild eigene Glättung\" width=\"900\"/>"
   ]
  },
  {
   "cell_type": "markdown",
   "id": "81c64786",
   "metadata": {},
   "source": [
    "Weitere Möglichkeiten zur Glättung stellt das Glättungsverfahren nach Latombe oder das Verfahren nach Bechtold-Glavina dar. Diese wurden bereits in der Vorlesung vorgestellt."
   ]
  }
 ],
 "metadata": {
  "kernelspec": {
   "display_name": "Python 3 (ipykernel)",
   "language": "python",
   "name": "python3"
  },
  "language_info": {
   "codemirror_mode": {
    "name": "ipython",
    "version": 3
   },
   "file_extension": ".py",
   "mimetype": "text/x-python",
   "name": "python",
   "nbconvert_exporter": "python",
   "pygments_lexer": "ipython3",
   "version": "3.11.5"
  }
 },
 "nbformat": 4,
 "nbformat_minor": 5
}
