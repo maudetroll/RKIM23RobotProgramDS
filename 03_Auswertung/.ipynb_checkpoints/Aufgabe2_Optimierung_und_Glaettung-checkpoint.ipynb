{
 "cells": [
  {
   "cell_type": "markdown",
   "id": "c392a756-eb1b-4ea9-bd17-6d55249eaa2e",
   "metadata": {},
   "source": [
    "# Aufgabe 2"
   ]
  },
  {
   "cell_type": "markdown",
   "id": "94888f4e-8126-4d03-b049-926da8d956e7",
   "metadata": {},
   "source": [
    "Wie können Sie die Bewegungsbahnen optimieren/Glätten? Nachfolgend werden die möglichen Ansätze ausformuliert."
   ]
  },
  {
   "cell_type": "markdown",
   "id": "bcf3e387-dbfe-4c8a-a2e4-2f1c325168ab",
   "metadata": {},
   "source": [
    "### Eigene Überlegung: Gerade bestehend aus zusammengesetzten Hilfspunkten mehrerer Mittelpunkten\n",
    "\n",
    "Zuerst werden um die beiden Interimspunkte (=Zwischenziele) Hilfspunkte in der Größe einer 3x3 - Matrix gesetzt. Der mittlere Punkt der Matrix stellt jeweils den Interimspunkt dar (2. Zeile / 2. Spalte). <br>\n",
    "\n",
    "Danach werden zwischen den außenliegenden Hilfspunkten kollisionsfreie Verbindungen, welche sich nicht gegenseitig überschneiden, eingezeichnet. Im Bild markiert die rote Gerade eine Kollision. Diese wird nicht weiter berücksichtigt. <br>\n",
    "Die eingefügten Verbindungen haben jeweils einen Mittelpunkt, welcher sich mit der Hälfte des Abstandes zwischen den beiden Hilfspunkten berechnen lässt.\n",
    "\n",
    "Zwischen diesen hier im Bild drei Mittelpunkten kann eine Gerade aufgestellt werden. Durch eine größere Matrix ergeben sich mehr Zwischenpunkte. Jeder Punkt der Gerade stellt einen Überschleifpunkt dar. Der maximale Überschleifpunkt liegt im Schnittpunkt der X- bzw. Y-Ebene der Interimspunkte.\n",
    "\n",
    "Der im Bild braune Pfeil gibt den gewünschte Abstand zwischen Hindernis und dem Überschleifpunkt an. Dieser ist frei wählbar, kann aber auch über einen Parameter angegeben werden.\n",
    "Anschließend wird eine kollisionsfreie Kurve zwischen den Interimspunkten eingezeichnet, welche ebenfalls den Zwischenpunkt schneidet.\n",
    "\n",
    "Falls diese Methodik an einem Roboter angewandt wird, sollte bei dem Abstand und dem Winkel darauf geachtet werden, dass das zum Robotertyp passt und Verschleiß etc. reduziert."
   ]
  },
  {
   "cell_type": "markdown",
   "id": "5226dccc-8547-4e91-b8b6-ceacbfb2ab04",
   "metadata": {},
   "source": [
    "<img src=\"./Fotos/Eigene_Glaettung.png\" alt=\"Bild eigene Glättung\" width=\"500\"/>"
   ]
  },
  {
   "cell_type": "markdown",
   "id": "a8f7822e-f080-4f77-927a-e4a0009ad5ed",
   "metadata": {
    "tags": []
   },
   "source": [
    "## Glättung mit Latombe-Verfahren: \n",
    "\n",
    "Mit dem LaTombe Verfahren kann ebenso eine Glättung erreicht werden.\n",
    "Sobald ein kollisionsfreier Pfad besteht, werden mit Zufallselementen Pfadoptionen generiert und Kollisionen mittels Wahrscheinlichkeiten minimiert.\n",
    "\n",
    "\n",
    "Übertragen auf unser Beispiel würden die kollisionenfreien Pfade zwischen jeweils zwei Zwischenzielen dazu genutzt werden. Diese Pfade würden dann jeweils mit dem LaTombe Verfahren optimiert und anschließend zusammengesetzt."
   ]
  },
  {
   "cell_type": "markdown",
   "id": "8806f945-f2a5-4d50-8c6d-124566deb3fd",
   "metadata": {
    "tags": []
   },
   "source": [
    "## Glättung Bechtold-Glavina:\n",
    "Ebenso kann das Bechthold Glavina Verfahren angewandt. Hierbei muss ein Epsilon bestimmt werden.\n",
    "Je kleiner das Epsilon ist, desto besser kann sich der Algorithmus an Kreisformen anpassen.\n",
    "\n",
    "Dabei wird der Abstand zwischen zwei Nodes bestimmt und dabei Zwischennodes erstellt, die eben einen glätteren Ablauf des ganzen ermöglichen.\n"
   ]
  },
  {
   "cell_type": "markdown",
   "id": "7b9b69dd-5cf3-4e1d-9aa9-c8294e00d43d",
   "metadata": {},
   "source": [
    "## Optimierung durch Duplikatsentfernung\n",
    "\n",
    "Ebenso haben wir die Pfade gekürzt, indem wir doppelte Pfadelemente aus dem Pfad entfernt haben.\n",
    "Somit hat der Pfad unnötige Sequenzen gespart.\n",
    "\n",
    "Beispiel:\n",
    "\n",
    "VORHER: Start -> 1 -> Interim1 -> 5 -> 6 -> 7-> 5 -> 6 -> 7 -> Interim 2 -> ...\n",
    "\n",
    "NACHHER: Start -> 1 -> Interim1 -> .......5 -> 6 -> 7........-> Interim 2 -> ..."
   ]
  }
 ],
 "metadata": {
  "kernelspec": {
   "display_name": "Python 3 (ipykernel)",
   "language": "python",
   "name": "python3"
  },
  "language_info": {
   "codemirror_mode": {
    "name": "ipython",
    "version": 3
   },
   "file_extension": ".py",
   "mimetype": "text/x-python",
   "name": "python",
   "nbconvert_exporter": "python",
   "pygments_lexer": "ipython3",
   "version": "3.11.5"
  }
 },
 "nbformat": 4,
 "nbformat_minor": 5
}
