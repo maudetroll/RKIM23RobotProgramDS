{
 "cells": [
  {
   "cell_type": "markdown",
   "id": "c7754a89-c79f-450f-8e5a-f1c83f42309d",
   "metadata": {},
   "source": [
    "### Diskussion & grafische Darstellung\n",
    "\n",
    "## BasicPRM\n",
    "\n",
    "- Pfadplannung mit über einen Pfad, welcher alle Nodes verbindet\n",
    "- Hohe Anzahl an Nodes\n",
    "- \n",
    "## VisibilityPRM\n",
    "- 300 Nodes aufgrund des Konfiguration\n",
    "- weit verbreitete Nodes und viele Nodes nicht verwendet, Aufhängepunkt zur Optimierung\n",
    "- direkt verbundene Zwischenzeile (Interims)\n",
    "\n",
    "## VisibilityPRM mit Optimierung\n",
    "- Direkt verbundene Zwischenziele\n",
    "- weniger Nodes\n",
    "- simplere Pfade im Vergleich zu Lazy oder Basic\n",
    "- im Vergleich zum unoptimierten Visibilty Ausführungszeitreduktion (3s bei originalem, 0.5s bei Optimierten)\n",
    "- \n",
    "\n",
    "## LazyPRM\n",
    "- viele Nodes (im Schnitt 470 Nodes)\n",
    "- komplizierte Wege\n",
    "- aber extrem schnell\n",
    "- er schafft nicht beständig alle Benchmarks (66,13%, im Vergleich BasicPRM 55%, Visibility in beiden Varianten 100%\n",
    "- Verzweigte Benchmarks bereiten Schwierigkeiten\n",
    "\n",
    "## Durchführungszeit\n",
    "- \"Standard\" Visibility PRM benötigt am meisten Zeit\n",
    "- Optimierter Visibility PRM ist zweitschnellster Algorithmus\n",
    "- Lazy PRM ist am schnellsten\n",
    "- Basic hat moderate Durchführungszeit\n",
    "\n",
    "## Erfolgsrate\n",
    "- \"Standard\" Visibility PRM und optimierter Visibility PRM haben nahezu maximale Erfolgsrate\n",
    "- \"Fat Bottleneck\" und \"Circle of Death\" stellen größte Herausforderung dar. Schmale Gänge bereiten Probleme.\n",
    "  \n",
    "## Größe der Roadmap\n",
    "- Optimierter Visibility PRM besitzt kleinste Roadmap\n",
    "- Lazy PRM hat größte Roadmap\n",
    "- \"Standard\" Visibility hat einheitliche Roadmap-Größe\n",
    "- Basic PRM besitzt moderate Roadmap-Größe"
   ]
  },
  {
   "cell_type": "code",
   "execution_count": null,
   "id": "65b60b1b-9168-43bb-ba90-dd500e70f0f5",
   "metadata": {},
   "outputs": [],
   "source": []
  }
 ],
 "metadata": {
  "kernelspec": {
   "display_name": "Python 3 (ipykernel)",
   "language": "python",
   "name": "python3"
  },
  "language_info": {
   "codemirror_mode": {
    "name": "ipython",
    "version": 3
   },
   "file_extension": ".py",
   "mimetype": "text/x-python",
   "name": "python",
   "nbconvert_exporter": "python",
   "pygments_lexer": "ipython3",
   "version": "3.11.5"
  }
 },
 "nbformat": 4,
 "nbformat_minor": 5
}
