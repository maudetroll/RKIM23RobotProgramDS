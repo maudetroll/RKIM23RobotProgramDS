{
 "cells": [
  {
   "cell_type": "markdown",
   "id": "aa47b3c0-2ba8-4c2e-9d4f-616edaa96c0c",
   "metadata": {},
   "source": [
    "*Roboter Programmierung Gruppe 5 WS2023/24*\n",
    "Maurice Droll, Andreas Schmitt\n"
   ]
  },
  {
   "cell_type": "code",
   "execution_count": null,
   "id": "91f35808-8ee6-4f3d-ab0b-d939c36010b8",
   "metadata": {},
   "outputs": [],
   "source": []
  }
 ],
 "metadata": {
  "kernelspec": {
   "display_name": "Python 3 (ipykernel)",
   "language": "python",
   "name": "python3"
  },
  "language_info": {
   "codemirror_mode": {
    "name": "ipython",
    "version": 3
   },
   "file_extension": ".py",
   "mimetype": "text/x-python",
   "name": "python",
   "nbconvert_exporter": "python",
   "pygments_lexer": "ipython3",
   "version": "3.11.5"
  }
 },
 "nbformat": 4,
 "nbformat_minor": 5
}
