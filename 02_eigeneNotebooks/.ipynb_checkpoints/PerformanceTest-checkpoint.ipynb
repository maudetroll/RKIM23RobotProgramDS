{
 "cells": [
  {
   "cell_type": "markdown",
   "metadata": {
    "tags": []
   },
   "source": [
    "Introduction\n",
    "============\n",
    "\n",
    "This is interactive notebook regarding \"Introduction to path planning\". (Author: Björn Hein)\n",
    "\n",
    "License is based on Creative Commons: Attribution-NonCommercial 4.0 International (CC BY-NC 4.0) (pls. check: http://creativecommons.org/licenses/by-nc/4.0/)\n",
    "\n",
    "This notebook imports all discussed algorithms and does a comparison\n",
    "\n",
    "**Attention**: This worksheet has external dependencies \n",
    "\n",
    "* to the files \"InnoKonz2dEnv.py\" or \"InnoKonzShapelyEnv.py\". These files contain simple 2D environments based on numpy arrays or the shapely library with an interface for the use as collision checking in the algorithms.\n",
    "* to all modules like \"**Algorithm**.py\", which contains the corresponding algorithms \n",
    "\n",
    "Important links are:\n",
    "\n",
    "* General Info: http://www.python.org\n",
    "* Python tutorial http://www.python.org/doc/tut/\n",
    "* NetworkX http://networkx.github.io/\n",
    "* NumPy and SciPy Guide http://docs.scipy.org/\n",
    "* Matplotlib gallery http://matplotlib.sourceforge.net/gallery.html\n",
    "\n",
    "\n",
    "Remember that:\n",
    "\n",
    "* you have to press ctrl-return or shift-return, to execute the code in the code sections, only then the variables are \"generated\" and can be used\n",
    "* you can execute the whole notebook by Cell->runAll"
   ]
  },
  {
   "cell_type": "markdown",
   "metadata": {},
   "source": [
    "Adding all planners\n",
    "===========\n"
   ]
  },
  {
   "cell_type": "code",
   "execution_count": 1,
   "metadata": {
    "tags": []
   },
   "outputs": [],
   "source": [
    "import sys\n",
    "import HelperClass\n",
    "sys.path.append(\"templates\")\n",
    "%load_ext autoreload\n",
    "%autoreload 2"
   ]
  },
  {
   "cell_type": "code",
   "execution_count": 2,
   "metadata": {
    "tags": []
   },
   "outputs": [],
   "source": [
    "from IPPerfMonitor import IPPerfMonitor\n",
    "\n",
    "from BasicPRM import IPVISBasicPRM \n",
    "from BasicPRM import IPBasicPRM_Roundtrip\n",
    "\n",
    "from VisibilityPRM import IPVisibilityPRM_Roundtrip\n",
    "from VisibilityPRM import IPVISVisibilityPRM\n",
    "from VisibilityPRM import Optimized_IPVisibilityPRM_Roundtrip\n",
    "from VisibilityPRM import Grid_IPVisibilityPRM_Roundtrip\n",
    "from VisibilityPRM import CC_IPVisibilityPRM_Roundtrip\n",
    "\n",
    "from LazyPRM import IPLazyPRM_Roundtrip\n",
    "from LazyPRM import IPVISLazyPRM\n",
    "\n",
    "from IPython.utils import io\n",
    "\n"
   ]
  },
  {
   "cell_type": "markdown",
   "metadata": {},
   "source": [
    "Set-up of the test scenario and the configuration for all planner\n",
    "===================================\n",
    "\n",
    "Following a procedure to compare all discussed planners are shown:\n",
    "\n",
    "1. Configuration for every planner is defined\n",
    "2. The configuration and the planner is stored in the variable setup, a Python dict()\n",
    "3. the variable setup is then used to uniformly call the planning calls\n"
   ]
  },
  {
   "cell_type": "code",
   "execution_count": 3,
   "metadata": {
    "collapsed": false,
    "jupyter": {
     "outputs_hidden": false
    },
    "tags": []
   },
   "outputs": [],
   "source": [
    "plannerFactory = dict()\n",
    "\n",
    "basicConfig = dict()\n",
    "basicConfig[\"radius\"] = 3\n",
    "basicConfig[\"numNodes\"] = 200\n",
    "plannerFactory[\"basePRM\"] = [IPBasicPRM_Roundtrip.BasicPRM, basicConfig, IPVISBasicPRM.basicPRMVisualize]\n",
    "\n",
    "\n",
    "#visbilityConfig = dict()\n",
    "# visbilityConfig[\"ntry\"] = 300\n",
    "# plannerFactory[\"visibilityPRM\"] = [IPVisibilityPRM_Roundtrip.VisPRM, visbilityConfig, IPVISVisibilityPRM.visibilityPRMVisualize ]\n",
    "\n",
    "\n",
    "visbilityConfig = dict()\n",
    "visbilityConfig[\"ntry\"] = 300\n",
    "plannerFactory[\"visibilityPRM\"] = [CC_IPVisibilityPRM_Roundtrip.VisPRM, visbilityConfig, IPVISVisibilityPRM.visibilityPRMVisualize ]\n",
    "\n",
    "\n",
    "# visbilityConfig = dict()\n",
    "# visbilityConfig[\"ntry\"] = 300\n",
    "# plannerFactory[\"visibilityPRM\"] = [Grid_IPVisibilityPRM_Roundtrip.VisPRM, visbilityConfig, IPVISVisibilityPRM.visibilityPRMVisualize ]\n",
    "\n",
    "\n",
    "lazyConfig = dict()\n",
    "lazyConfig[\"initialRoadmapSize\"] = 10\n",
    "lazyConfig[\"updateRoadmapSize\"]  = 5\n",
    "lazyConfig[\"kNearest\"] = 8\n",
    "plannerFactory[\"lazyPRM\"] = [IPLazyPRM_Roundtrip.LazyPRM, lazyConfig, IPVISLazyPRM.lazyPRMVisualize]"
   ]
  },
  {
   "cell_type": "code",
   "execution_count": 4,
   "metadata": {
    "collapsed": false,
    "jupyter": {
     "outputs_hidden": false
    },
    "tags": []
   },
   "outputs": [],
   "source": [
    "class ResultCollection (object):\n",
    "    \n",
    "    def __init__(self, plannerFactoryName, planner, benchmark, solution, perfDataFrame):\n",
    "        self.plannerFactoryName = plannerFactoryName\n",
    "        self.planner = planner\n",
    "        self.benchmark = benchmark\n",
    "        self.solution = solution\n",
    "        self.perfDataFrame = perfDataFrame"
   ]
  },
  {
   "cell_type": "code",
   "execution_count": 5,
   "metadata": {
    "collapsed": false,
    "jupyter": {
     "outputs_hidden": false
    },
    "tags": []
   },
   "outputs": [],
   "source": [
    "import IPTestSuite\n",
    "import importlib"
   ]
  },
  {
   "cell_type": "code",
   "execution_count": 6,
   "metadata": {
    "tags": []
   },
   "outputs": [
    {
     "data": {
      "text/plain": [
       "<module 'IPTestSuite' from '/home/maurice/Dokumente/Projekt_Roboterprogrammierung/stand_13.1/RKIM23RobotProgramDS/02_eigeneNotebooks/IPTestSuite.py'>"
      ]
     },
     "execution_count": 6,
     "metadata": {},
     "output_type": "execute_result"
    }
   ],
   "source": [
    "importlib.reload(IPTestSuite)"
   ]
  },
  {
   "cell_type": "code",
   "execution_count": 7,
   "metadata": {
    "collapsed": false,
    "jupyter": {
     "outputs_hidden": false
    },
    "tags": []
   },
   "outputs": [
    {
     "name": "stdout",
     "output_type": "stream",
     "text": [
      "Trap\n",
      "Bottleneck\n",
      "Fat bottleneck\n",
      "B_rush\n",
      "circle od death\n"
     ]
    }
   ],
   "source": [
    "fullBenchList = IPTestSuite.benchList\n",
    "\n",
    "for benchmark in fullBenchList:\n",
    "    print(benchmark.name)"
   ]
  },
  {
   "cell_type": "code",
   "execution_count": 8,
   "metadata": {},
   "outputs": [],
   "source": [
    "# List which save the time\n",
    "\n",
    "sum_time_Basic = []\n",
    "sum_time_Visibility = []\n",
    "sum_time_Lazy = []"
   ]
  },
  {
   "cell_type": "code",
   "execution_count": 9,
   "metadata": {
    "collapsed": false,
    "jupyter": {
     "outputs_hidden": false
    },
    "tags": []
   },
   "outputs": [
    {
     "name": "stdout",
     "output_type": "stream",
     "text": [
      "[<IPBenchmark.Benchmark object at 0x7fee9a762a10>, <IPBenchmark.Benchmark object at 0x7fee9a762690>, <IPBenchmark.Benchmark object at 0x7fee9a763c10>, <IPBenchmark.Benchmark object at 0x7fee9adaf510>, <IPBenchmark.Benchmark object at 0x7fee9adadf10>, <IPBenchmark.Benchmark object at 0x7fee9a762a10>, <IPBenchmark.Benchmark object at 0x7fee9a762690>, <IPBenchmark.Benchmark object at 0x7fee9a763c10>, <IPBenchmark.Benchmark object at 0x7fee9adaf510>, <IPBenchmark.Benchmark object at 0x7fee9adadf10>, <IPBenchmark.Benchmark object at 0x7fee9a762a10>, <IPBenchmark.Benchmark object at 0x7fee9a762690>, <IPBenchmark.Benchmark object at 0x7fee9a763c10>, <IPBenchmark.Benchmark object at 0x7fee9adaf510>, <IPBenchmark.Benchmark object at 0x7fee9adadf10>, <IPBenchmark.Benchmark object at 0x7fee9a762a10>, <IPBenchmark.Benchmark object at 0x7fee9a762690>, <IPBenchmark.Benchmark object at 0x7fee9a763c10>, <IPBenchmark.Benchmark object at 0x7fee9adaf510>, <IPBenchmark.Benchmark object at 0x7fee9adadf10>, <IPBenchmark.Benchmark object at 0x7fee9a762a10>, <IPBenchmark.Benchmark object at 0x7fee9a762690>, <IPBenchmark.Benchmark object at 0x7fee9a763c10>, <IPBenchmark.Benchmark object at 0x7fee9adaf510>, <IPBenchmark.Benchmark object at 0x7fee9adadf10>, <IPBenchmark.Benchmark object at 0x7fee9a762a10>, <IPBenchmark.Benchmark object at 0x7fee9a762690>, <IPBenchmark.Benchmark object at 0x7fee9a763c10>, <IPBenchmark.Benchmark object at 0x7fee9adaf510>, <IPBenchmark.Benchmark object at 0x7fee9adadf10>]\n"
     ]
    },
    {
     "data": {
      "text/html": [
       "<font color='yellow'>basePRM [<class 'BasicPRM.IPBasicPRM_Roundtrip.BasicPRM'>, {'radius': 3, 'numNodes': 200}, <function basicPRMVisualize at 0x7feee03d8860>]</font>"
      ],
      "text/plain": [
       "<IPython.core.display.HTML object>"
      ]
     },
     "metadata": {},
     "output_type": "display_data"
    },
    {
     "name": "stdout",
     "output_type": "stream",
     "text": [
      "0\n",
      "0\n",
      "0\n",
      "0\n",
      "0\n",
      "0\n",
      "0\n",
      "0\n",
      "0\n",
      "0\n",
      "0\n",
      "0\n",
      "0\n",
      "0\n",
      "0\n",
      "0\n",
      "0\n",
      "0\n",
      "0\n",
      "0\n",
      "0\n",
      "0\n",
      "0\n",
      "0\n",
      "0\n",
      "0\n",
      "0\n",
      "0\n",
      "0\n",
      "0\n"
     ]
    },
    {
     "data": {
      "text/html": [
       "<font color='yellow'>visibilityPRM [<class 'VisibilityPRM.CC_IPVisibilityPRM_Roundtrip.VisPRM'>, {'ntry': 300}, <function visibilityPRMVisualize at 0x7fee9c8df2e0>]</font>"
      ],
      "text/plain": [
       "<IPython.core.display.HTML object>"
      ]
     },
     "metadata": {},
     "output_type": "display_data"
    },
    {
     "name": "stdout",
     "output_type": "stream",
     "text": [
      "0\n",
      "0\n",
      "0\n",
      "0\n",
      "0\n",
      "0\n",
      "0\n",
      "0\n",
      "0\n",
      "0\n",
      "0\n",
      "0\n",
      "0\n",
      "0\n",
      "0\n",
      "0\n",
      "0\n",
      "0\n"
     ]
    },
    {
     "ename": "KeyboardInterrupt",
     "evalue": "",
     "output_type": "error",
     "traceback": [
      "\u001b[0;31m---------------------------------------------------------------------------\u001b[0m",
      "\u001b[0;31mKeyboardInterrupt\u001b[0m                         Traceback (most recent call last)",
      "Cell \u001b[0;32mIn[9], line 27\u001b[0m\n\u001b[1;32m     22\u001b[0m \u001b[38;5;28;01mtry\u001b[39;00m:\n\u001b[1;32m     23\u001b[0m     \u001b[38;5;28;01mwith\u001b[39;00m io\u001b[38;5;241m.\u001b[39mcapture_output() \u001b[38;5;28;01mas\u001b[39;00m captured:\n\u001b[1;32m     24\u001b[0m         resultList\u001b[38;5;241m.\u001b[39mappend(ResultCollection(key,\n\u001b[1;32m     25\u001b[0m                                     planner, \n\u001b[1;32m     26\u001b[0m                                     benchmark, \n\u001b[0;32m---> 27\u001b[0m                                     planner\u001b[38;5;241m.\u001b[39mplanRoundPath(benchmark\u001b[38;5;241m.\u001b[39mstartList,benchmark\u001b[38;5;241m.\u001b[39minterimGoalList,benchmark\u001b[38;5;241m.\u001b[39mgoalList,producer[\u001b[38;5;241m1\u001b[39m]),\n\u001b[1;32m     28\u001b[0m                                     IPPerfMonitor\u001b[38;5;241m.\u001b[39mdataFrame()),)\n\u001b[1;32m     30\u001b[0m     \u001b[38;5;28;01mif\u001b[39;00m (key \u001b[38;5;241m==\u001b[39m \u001b[38;5;124m\"\u001b[39m\u001b[38;5;124mbasePRM\u001b[39m\u001b[38;5;124m\"\u001b[39m):\n\u001b[1;32m     31\u001b[0m         sum_time_Basic\u001b[38;5;241m.\u001b[39mappend(resultList[\u001b[38;5;241m0\u001b[39m]\u001b[38;5;241m.\u001b[39mperfDataFrame\u001b[38;5;241m.\u001b[39mgroupby([\u001b[38;5;124m\"\u001b[39m\u001b[38;5;124mname\u001b[39m\u001b[38;5;124m\"\u001b[39m])\u001b[38;5;241m.\u001b[39msum(numeric_only\u001b[38;5;241m=\u001b[39m\u001b[38;5;28;01mTrue\u001b[39;00m)\u001b[38;5;241m.\u001b[39msum()[\u001b[38;5;124m\"\u001b[39m\u001b[38;5;124mtime\u001b[39m\u001b[38;5;124m\"\u001b[39m])\n",
      "File \u001b[0;32m~/Dokumente/Projekt_Roboterprogrammierung/stand_13.1/RKIM23RobotProgramDS/02_eigeneNotebooks/IPPerfMonitor.py:27\u001b[0m, in \u001b[0;36mIPPerfMonitor.__call__\u001b[0;34m(self, *args, **kwargs)\u001b[0m\n\u001b[1;32m     24\u001b[0m \u001b[38;5;28;01mdef\u001b[39;00m \u001b[38;5;21m__call__\u001b[39m(\u001b[38;5;28mself\u001b[39m, \u001b[38;5;241m*\u001b[39margs, \u001b[38;5;241m*\u001b[39m\u001b[38;5;241m*\u001b[39mkwargs):\n\u001b[1;32m     26\u001b[0m     starttime \u001b[38;5;241m=\u001b[39m time\u001b[38;5;241m.\u001b[39mtime()\n\u001b[0;32m---> 27\u001b[0m     ret \u001b[38;5;241m=\u001b[39m \u001b[38;5;28mself\u001b[39m\u001b[38;5;241m.\u001b[39m__f(\u001b[38;5;241m*\u001b[39margs, \u001b[38;5;241m*\u001b[39m\u001b[38;5;241m*\u001b[39mkwargs)\n\u001b[1;32m     28\u001b[0m     endtime \u001b[38;5;241m=\u001b[39m time\u001b[38;5;241m.\u001b[39mtime()\n\u001b[1;32m     29\u001b[0m     element \u001b[38;5;241m=\u001b[39m {\u001b[38;5;124m'\u001b[39m\u001b[38;5;124margs\u001b[39m\u001b[38;5;124m'\u001b[39m: args, \u001b[38;5;124m'\u001b[39m\u001b[38;5;124mkwargs\u001b[39m\u001b[38;5;124m'\u001b[39m: kwargs, \u001b[38;5;124m\"\u001b[39m\u001b[38;5;124mretVal\u001b[39m\u001b[38;5;124m\"\u001b[39m: ret, \u001b[38;5;124m\"\u001b[39m\u001b[38;5;124mtime\u001b[39m\u001b[38;5;124m\"\u001b[39m: endtime\u001b[38;5;241m-\u001b[39mstarttime}\n",
      "File \u001b[0;32m~/Dokumente/Projekt_Roboterprogrammierung/stand_13.1/RKIM23RobotProgramDS/02_eigeneNotebooks/VisibilityPRM/CC_IPVisibilityPRM_Roundtrip.py:235\u001b[0m, in \u001b[0;36mVisPRM.planRoundPath\u001b[0;34m(self, startList, interimGoalList, goalList, config)\u001b[0m\n\u001b[1;32m    228\u001b[0m \u001b[38;5;28;01mfor\u001b[39;00m step \u001b[38;5;129;01min\u001b[39;00m try_path:\n\u001b[1;32m    229\u001b[0m     \u001b[38;5;66;03m# print(\"\")\u001b[39;00m\n\u001b[1;32m    230\u001b[0m     \u001b[38;5;66;03m# print(\"For-Schleife beginnt\")\u001b[39;00m\n\u001b[1;32m    231\u001b[0m     \u001b[38;5;66;03m# print(\"Aktueller Node (step): \", step)\u001b[39;00m\n\u001b[1;32m    232\u001b[0m     \n\u001b[1;32m    233\u001b[0m     \u001b[38;5;66;03m# Add step to the final path\u001b[39;00m\n\u001b[1;32m    234\u001b[0m     path\u001b[38;5;241m.\u001b[39mappend(step)\n\u001b[0;32m--> 235\u001b[0m     HelperClass\u001b[38;5;241m.\u001b[39mHelperClass\u001b[38;5;241m.\u001b[39mprintInColor(\u001b[38;5;124m\"\u001b[39m\u001b[38;5;124mAktueller Pfad: \u001b[39m\u001b[38;5;124m\"\u001b[39m \u001b[38;5;241m+\u001b[39m \u001b[38;5;28mstr\u001b[39m(path), \u001b[38;5;124m'\u001b[39m\u001b[38;5;124mDodgerblue\u001b[39m\u001b[38;5;124m'\u001b[39m)\n\u001b[1;32m    237\u001b[0m     \u001b[38;5;66;03m# Find nearest interim goal from the current step in Try-path\u001b[39;00m\n\u001b[1;32m    238\u001b[0m     new_result_interim \u001b[38;5;241m=\u001b[39m \u001b[38;5;28mself\u001b[39m\u001b[38;5;241m.\u001b[39m_nearestInterim(\u001b[38;5;28mself\u001b[39m\u001b[38;5;241m.\u001b[39mgraph\u001b[38;5;241m.\u001b[39mnodes[step][\u001b[38;5;124m'\u001b[39m\u001b[38;5;124mpos\u001b[39m\u001b[38;5;124m'\u001b[39m], checkedInterimGoalList)\n",
      "File \u001b[0;32m~/Dokumente/Projekt_Roboterprogrammierung/stand_13.1/RKIM23RobotProgramDS/02_eigeneNotebooks/HelperClass.py:11\u001b[0m, in \u001b[0;36mHelperClass.printInColor\u001b[0;34m(text, farbe)\u001b[0m\n\u001b[1;32m      9\u001b[0m \u001b[38;5;28;01mdef\u001b[39;00m \u001b[38;5;21mprintInColor\u001b[39m(text, farbe\u001b[38;5;241m=\u001b[39m\u001b[38;5;124m'\u001b[39m\u001b[38;5;124mblack\u001b[39m\u001b[38;5;124m'\u001b[39m):\n\u001b[1;32m     10\u001b[0m     formatted_text \u001b[38;5;241m=\u001b[39m \u001b[38;5;124m\"\u001b[39m\u001b[38;5;124m<font color=\u001b[39m\u001b[38;5;124m'\u001b[39m\u001b[38;5;132;01m{}\u001b[39;00m\u001b[38;5;124m'\u001b[39m\u001b[38;5;124m>\u001b[39m\u001b[38;5;132;01m{}\u001b[39;00m\u001b[38;5;124m</font>\u001b[39m\u001b[38;5;124m\"\u001b[39m\u001b[38;5;241m.\u001b[39mformat(farbe, text)\n\u001b[0;32m---> 11\u001b[0m     display(HTML(formatted_text))\n",
      "File \u001b[0;32m~/anaconda3/lib/python3.11/site-packages/IPython/core/display_functions.py:298\u001b[0m, in \u001b[0;36mdisplay\u001b[0;34m(include, exclude, metadata, transient, display_id, raw, clear, *objs, **kwargs)\u001b[0m\n\u001b[1;32m    296\u001b[0m     publish_display_data(data\u001b[38;5;241m=\u001b[39mobj, metadata\u001b[38;5;241m=\u001b[39mmetadata, \u001b[38;5;241m*\u001b[39m\u001b[38;5;241m*\u001b[39mkwargs)\n\u001b[1;32m    297\u001b[0m \u001b[38;5;28;01melse\u001b[39;00m:\n\u001b[0;32m--> 298\u001b[0m     format_dict, md_dict \u001b[38;5;241m=\u001b[39m \u001b[38;5;28mformat\u001b[39m(obj, include\u001b[38;5;241m=\u001b[39minclude, exclude\u001b[38;5;241m=\u001b[39mexclude)\n\u001b[1;32m    299\u001b[0m     \u001b[38;5;28;01mif\u001b[39;00m \u001b[38;5;129;01mnot\u001b[39;00m format_dict:\n\u001b[1;32m    300\u001b[0m         \u001b[38;5;66;03m# nothing to display (e.g. _ipython_display_ took over)\u001b[39;00m\n\u001b[1;32m    301\u001b[0m         \u001b[38;5;28;01mcontinue\u001b[39;00m\n",
      "File \u001b[0;32m~/anaconda3/lib/python3.11/site-packages/IPython/core/formatters.py:179\u001b[0m, in \u001b[0;36mDisplayFormatter.format\u001b[0;34m(self, obj, include, exclude)\u001b[0m\n\u001b[1;32m    177\u001b[0m md \u001b[38;5;241m=\u001b[39m \u001b[38;5;28;01mNone\u001b[39;00m\n\u001b[1;32m    178\u001b[0m \u001b[38;5;28;01mtry\u001b[39;00m:\n\u001b[0;32m--> 179\u001b[0m     data \u001b[38;5;241m=\u001b[39m formatter(obj)\n\u001b[1;32m    180\u001b[0m \u001b[38;5;28;01mexcept\u001b[39;00m:\n\u001b[1;32m    181\u001b[0m     \u001b[38;5;66;03m# FIXME: log the exception\u001b[39;00m\n\u001b[1;32m    182\u001b[0m     \u001b[38;5;28;01mraise\u001b[39;00m\n",
      "File \u001b[0;32m~/anaconda3/lib/python3.11/site-packages/decorator.py:231\u001b[0m, in \u001b[0;36mdecorate.<locals>.fun\u001b[0;34m(*args, **kw)\u001b[0m\n\u001b[1;32m    229\u001b[0m \u001b[38;5;28;01mdef\u001b[39;00m \u001b[38;5;21mfun\u001b[39m(\u001b[38;5;241m*\u001b[39margs, \u001b[38;5;241m*\u001b[39m\u001b[38;5;241m*\u001b[39mkw):\n\u001b[1;32m    230\u001b[0m     \u001b[38;5;28;01mif\u001b[39;00m \u001b[38;5;129;01mnot\u001b[39;00m kwsyntax:\n\u001b[0;32m--> 231\u001b[0m         args, kw \u001b[38;5;241m=\u001b[39m fix(args, kw, sig)\n\u001b[1;32m    232\u001b[0m     \u001b[38;5;28;01mreturn\u001b[39;00m caller(func, \u001b[38;5;241m*\u001b[39m(extras \u001b[38;5;241m+\u001b[39m args), \u001b[38;5;241m*\u001b[39m\u001b[38;5;241m*\u001b[39mkw)\n",
      "File \u001b[0;32m~/anaconda3/lib/python3.11/site-packages/decorator.py:203\u001b[0m, in \u001b[0;36mfix\u001b[0;34m(args, kwargs, sig)\u001b[0m\n\u001b[1;32m    199\u001b[0m \u001b[38;5;28;01mdef\u001b[39;00m \u001b[38;5;21mfix\u001b[39m(args, kwargs, sig):\n\u001b[1;32m    200\u001b[0m \u001b[38;5;250m    \u001b[39m\u001b[38;5;124;03m\"\"\"\u001b[39;00m\n\u001b[1;32m    201\u001b[0m \u001b[38;5;124;03m    Fix args and kwargs to be consistent with the signature\u001b[39;00m\n\u001b[1;32m    202\u001b[0m \u001b[38;5;124;03m    \"\"\"\u001b[39;00m\n\u001b[0;32m--> 203\u001b[0m     ba \u001b[38;5;241m=\u001b[39m sig\u001b[38;5;241m.\u001b[39mbind(\u001b[38;5;241m*\u001b[39margs, \u001b[38;5;241m*\u001b[39m\u001b[38;5;241m*\u001b[39mkwargs)\n\u001b[1;32m    204\u001b[0m     ba\u001b[38;5;241m.\u001b[39mapply_defaults()  \u001b[38;5;66;03m# needed for test_dan_schult\u001b[39;00m\n\u001b[1;32m    205\u001b[0m     \u001b[38;5;28;01mreturn\u001b[39;00m ba\u001b[38;5;241m.\u001b[39margs, ba\u001b[38;5;241m.\u001b[39mkwargs\n",
      "File \u001b[0;32m~/anaconda3/lib/python3.11/inspect.py:3212\u001b[0m, in \u001b[0;36mSignature.bind\u001b[0;34m(self, *args, **kwargs)\u001b[0m\n\u001b[1;32m   3207\u001b[0m \u001b[38;5;28;01mdef\u001b[39;00m \u001b[38;5;21mbind\u001b[39m(\u001b[38;5;28mself\u001b[39m, \u001b[38;5;241m/\u001b[39m, \u001b[38;5;241m*\u001b[39margs, \u001b[38;5;241m*\u001b[39m\u001b[38;5;241m*\u001b[39mkwargs):\n\u001b[1;32m   3208\u001b[0m \u001b[38;5;250m    \u001b[39m\u001b[38;5;124;03m\"\"\"Get a BoundArguments object, that maps the passed `args`\u001b[39;00m\n\u001b[1;32m   3209\u001b[0m \u001b[38;5;124;03m    and `kwargs` to the function's signature.  Raises `TypeError`\u001b[39;00m\n\u001b[1;32m   3210\u001b[0m \u001b[38;5;124;03m    if the passed arguments can not be bound.\u001b[39;00m\n\u001b[1;32m   3211\u001b[0m \u001b[38;5;124;03m    \"\"\"\u001b[39;00m\n\u001b[0;32m-> 3212\u001b[0m     \u001b[38;5;28;01mreturn\u001b[39;00m \u001b[38;5;28mself\u001b[39m\u001b[38;5;241m.\u001b[39m_bind(args, kwargs)\n",
      "File \u001b[0;32m~/anaconda3/lib/python3.11/inspect.py:3205\u001b[0m, in \u001b[0;36mSignature._bind\u001b[0;34m(self, args, kwargs, partial)\u001b[0m\n\u001b[1;32m   3200\u001b[0m     \u001b[38;5;28;01melse\u001b[39;00m:\n\u001b[1;32m   3201\u001b[0m         \u001b[38;5;28;01mraise\u001b[39;00m \u001b[38;5;167;01mTypeError\u001b[39;00m(\n\u001b[1;32m   3202\u001b[0m             \u001b[38;5;124m'\u001b[39m\u001b[38;5;124mgot an unexpected keyword argument \u001b[39m\u001b[38;5;132;01m{arg!r}\u001b[39;00m\u001b[38;5;124m'\u001b[39m\u001b[38;5;241m.\u001b[39mformat(\n\u001b[1;32m   3203\u001b[0m                 arg\u001b[38;5;241m=\u001b[39m\u001b[38;5;28mnext\u001b[39m(\u001b[38;5;28miter\u001b[39m(kwargs))))\n\u001b[0;32m-> 3205\u001b[0m \u001b[38;5;28;01mreturn\u001b[39;00m \u001b[38;5;28mself\u001b[39m\u001b[38;5;241m.\u001b[39m_bound_arguments_cls(\u001b[38;5;28mself\u001b[39m, arguments)\n",
      "File \u001b[0;32m~/anaconda3/lib/python3.11/inspect.py:2831\u001b[0m, in \u001b[0;36mBoundArguments.__init__\u001b[0;34m(self, signature, arguments)\u001b[0m\n\u001b[1;32m   2813\u001b[0m \u001b[38;5;250m\u001b[39m\u001b[38;5;124;03m\"\"\"Result of `Signature.bind` call.  Holds the mapping of arguments\u001b[39;00m\n\u001b[1;32m   2814\u001b[0m \u001b[38;5;124;03mto the function's parameters.\u001b[39;00m\n\u001b[1;32m   2815\u001b[0m \n\u001b[0;32m   (...)\u001b[0m\n\u001b[1;32m   2826\u001b[0m \u001b[38;5;124;03m    Dict of keyword arguments values.\u001b[39;00m\n\u001b[1;32m   2827\u001b[0m \u001b[38;5;124;03m\"\"\"\u001b[39;00m\n\u001b[1;32m   2829\u001b[0m \u001b[38;5;18m__slots__\u001b[39m \u001b[38;5;241m=\u001b[39m (\u001b[38;5;124m'\u001b[39m\u001b[38;5;124marguments\u001b[39m\u001b[38;5;124m'\u001b[39m, \u001b[38;5;124m'\u001b[39m\u001b[38;5;124m_signature\u001b[39m\u001b[38;5;124m'\u001b[39m, \u001b[38;5;124m'\u001b[39m\u001b[38;5;124m__weakref__\u001b[39m\u001b[38;5;124m'\u001b[39m)\n\u001b[0;32m-> 2831\u001b[0m \u001b[38;5;28;01mdef\u001b[39;00m \u001b[38;5;21m__init__\u001b[39m(\u001b[38;5;28mself\u001b[39m, signature, arguments):\n\u001b[1;32m   2832\u001b[0m     \u001b[38;5;28mself\u001b[39m\u001b[38;5;241m.\u001b[39marguments \u001b[38;5;241m=\u001b[39m arguments\n\u001b[1;32m   2833\u001b[0m     \u001b[38;5;28mself\u001b[39m\u001b[38;5;241m.\u001b[39m_signature \u001b[38;5;241m=\u001b[39m signature\n",
      "\u001b[0;31mKeyboardInterrupt\u001b[0m: "
     ]
    }
   ],
   "source": [
    "resultList = list()\n",
    "testList = fullBenchList[:5]\n",
    "\n",
    "\n",
    "amountOfRepetition = 5\n",
    "i = 0\n",
    "while (i< amountOfRepetition):\n",
    "    testList.extend(fullBenchList[:5])\n",
    "    i = i + 1\n",
    " \n",
    "print(testList)\n",
    "\n",
    "for key,producer in list(plannerFactory.items()):\n",
    "    HelperClass.HelperClass.printInColor(str(key)+\" \"+ str(producer), 'yellow')\n",
    "\n",
    "    for benchmark in testList:\n",
    "        #HelperClass.HelperClass.printInColor(\"Planning: \" + key + \" - \" + benchmark.name, 'yellow')\n",
    "        planner = producer[0](benchmark.collisionChecker)\n",
    "        IPPerfMonitor.clearData()\n",
    "        \n",
    "\n",
    "        try:\n",
    "            with io.capture_output() as captured:\n",
    "                resultList.append(ResultCollection(key,\n",
    "                                            planner, \n",
    "                                            benchmark, \n",
    "                                            planner.planRoundPath(benchmark.startList,benchmark.interimGoalList,benchmark.goalList,producer[1]),\n",
    "                                            IPPerfMonitor.dataFrame()),)\n",
    "            \n",
    "            if (key == \"basePRM\"):\n",
    "                sum_time_Basic.append(resultList[0].perfDataFrame.groupby([\"name\"]).sum(numeric_only=True).sum()[\"time\"])\n",
    "                \n",
    "            elif (key == \"visibilityPRM\"):\n",
    "                sum_time_Visibility.append(resultList[0].perfDataFrame.groupby([\"name\"]).sum(numeric_only=True).sum()[\"time\"])\n",
    "            \n",
    "            elif (key == \"lazyPRM\"):\n",
    "                sum_time_Lazy.append(resultList[0].perfDataFrame.groupby([\"name\"]).sum(numeric_only=True).sum()[\"time\"])\n",
    "            \n",
    "            #print(resultList[0].perfDataFrame.groupby([\"name\"]).sum(numeric_only=True).sum()[\"time\"])\n",
    "                \n",
    "            resultList.clear()\n",
    "            print(len(resultList))\n",
    "                \n",
    "                \n",
    "            #print(\"Habe fertig\")\n",
    "\n",
    "\n",
    "\n",
    "        except Exception as e:\n",
    "            HelperClass.HelperClass.printInColor(\"PLANNING ERROR ! PLANNING ERROR ! PLANNING ERROR\", 'red')\n",
    "            HelperClass.HelperClass.printInColor(e, 'red')\n",
    "            import traceback\n",
    "            HelperClass.HelperClass.printInColor(traceback.print_exc(), 'red')\n",
    "\n",
    "            pass\n",
    "\n",
    "        "
   ]
  },
  {
   "cell_type": "code",
   "execution_count": null,
   "metadata": {},
   "outputs": [],
   "source": [
    "import pandas as pd\n",
    "\n",
    "result_frames = []\n",
    "\n",
    "print(len(sum_time_Basic))\n",
    "\n",
    "for i in range(len(sum_time_Basic)):\n",
    "    \n",
    "    # DataFrame erstellen\n",
    "    data = {\n",
    "        \"Zeit Basic\": [sum_time_Basic[i]],\n",
    "        \"Zeit Visibility\": [sum_time_Visibilty][i],\n",
    "        \"Zeit LazyPRM\" : [sum_time_Lazy[i]]\n",
    "    }\n",
    "\n",
    "    df = pd.DataFrame(data)\n",
    "\n",
    "    # DataFrame zur Liste hinzufügen\n",
    "    result_frames.append(df)\n",
    "\n",
    "final_df = pd.concat(result_frames, ignore_index=True)\n",
    "\n",
    "# DataFrame in eine Excel-Datei schreiben\n",
    "final_df.to_excel(\"Auswertung_alle_3PRMs_.xlsx\", index=False)"
   ]
  },
  {
   "cell_type": "code",
   "execution_count": null,
   "metadata": {
    "tags": []
   },
   "outputs": [],
   "source": [
    "'''\n",
    "import matplotlib.pyplot as plt\n",
    "\n",
    "for result in resultList:\n",
    "    fig_local = plt.figure(figsize=(10,10))\n",
    "    ax = fig_local.add_subplot(1,1,1)\n",
    "    title = result.plannerFactoryName + \" - \" + result.benchmark.name\n",
    "    if result.solution == []:\n",
    "        title += \" (No path found!)\"\n",
    "    title += \"\\n Assumed complexity level \" + str(result.benchmark.level)\n",
    "    ax.set_title(title)\n",
    "\n",
    "    try:\n",
    "        #IPVISBasicsPRM.basicPRMVisualize(result.planner, result.solution, ax=ax, nodeSize=100))\n",
    "        plannerFactory[result.plannerFactoryName][2](result.planner, result.solution, ax=ax, nodeSize=100)\n",
    "\n",
    "\n",
    "    except Exception as e:\n",
    "        print (\"Error\")\n",
    "        print(e)\n",
    "        pass\n",
    "'''    "
   ]
  },
  {
   "cell_type": "code",
   "execution_count": null,
   "metadata": {
    "collapsed": false,
    "jupyter": {
     "outputs_hidden": false
    },
    "tags": []
   },
   "outputs": [],
   "source": [
    "'''\n",
    "import numpy as np\n",
    "for bench in testList:\n",
    "    title = bench.name\n",
    "    pathLength = dict()\n",
    "    planningTime = dict()\n",
    "    roadmapSize  = dict()\n",
    "    \n",
    "    try:\n",
    "        for result in resultList:\n",
    "            if result.benchmark.name == bench.name:\n",
    "                #print result.benchmark.name  + \" - \" +  result.plannerFactoryName, len(result.solution)\n",
    "                pathLength[result.plannerFactoryName] = len(result.solution)\n",
    "                planningTime[result.plannerFactoryName] = result.perfDataFrame.groupby([\"name\"]).sum(numeric_only=True)[\"time\"][\"planRoundPath\"]\n",
    "                roadmapSize[result.plannerFactoryName] = result.planner.graph.size()\n",
    "\n",
    "\n",
    "        fig, ax = plt.subplots()\n",
    "\n",
    "        width = 0.2\n",
    "\n",
    "        ax.bar(np.arange(len(pathLength.keys())), pathLength.values(),width, color=\"blue\")\n",
    "        ax.set_ylabel(title + \" Path length (number of nodes!)\", color=\"blue\")\n",
    "        ax.set_xticks(np.arange(len(pathLength.keys())) + width)\n",
    "        ax.set_xticklabels(pathLength.keys())\n",
    "\n",
    "        ax2 = ax.twinx()\n",
    "        bar = ax2.bar(np.arange(len(pathLength.keys()))+width, planningTime.values(),width, color=\"red\")\n",
    "        ax2.set_ylabel(title + \" Planning time\", color=\"y\")\n",
    "\n",
    "        # Add coloring and patterns on axis two\n",
    "        hatches = ['x' if length==0 else '' for length in pathLength.values()]\n",
    "        color   = ['red' if length==0 else 'yellow' for length in pathLength.values()]\n",
    "        for i,thisbar in enumerate(bar.patches):\n",
    "            thisbar.set_facecolor(color[i])\n",
    "            thisbar.set_hatch(hatches[i])\n",
    "\n",
    "        # Multiple axes \n",
    "        ax3 = ax.twinx()\n",
    "        ax3.bar(np.arange(len(pathLength.keys()))+2*width, roadmapSize.values(),width, color=\"purple\")\n",
    "        ax3.set_ylabel(title + \" Roadmap size\",  color=\"purple\")\n",
    "        ax3.spines['right'].set_position(('axes', 1.15))\n",
    "        ax3.spines['right'].set_color(\"purple\")\n",
    "    except:\n",
    "        pass\n",
    "\n",
    "'''\n",
    "    \n",
    "        \n",
    "    "
   ]
  },
  {
   "cell_type": "markdown",
   "metadata": {},
   "source": [
    "result.perfDataFrame.groupby([\"name\"]).sum()"
   ]
  },
  {
   "cell_type": "code",
   "execution_count": null,
   "metadata": {},
   "outputs": [],
   "source": [
    "#result.perfDataFrame.groupby([\"name\"]).sum(numeric_only=True)"
   ]
  },
  {
   "cell_type": "code",
   "execution_count": null,
   "metadata": {},
   "outputs": [],
   "source": [
    "'''\n",
    "lenghBasic = 5 * (amountOfRepetition + 1)\n",
    "lengthVisibility = 10 * (amountOfRepetition + 1)\n",
    "#lengthLaty = 10 * amountOfRepetition\n",
    "\n",
    "\n",
    "resultBasic = resultList[:lenghBasic]\n",
    "resultVisibility = resultList[lenghBasic:lengthVisibility]\n",
    "resultLazy = resultList[lengthVisibility:]\n",
    "'''"
   ]
  },
  {
   "cell_type": "code",
   "execution_count": null,
   "metadata": {},
   "outputs": [],
   "source": [
    "'''\n",
    "import pandas as pd\n",
    "\n",
    "result_frames = []\n",
    "\n",
    "for i in range(len(resultBasic)):\n",
    "    sum_time_Basic = resultBasic[i].perfDataFrame.groupby([\"name\"]).sum(numeric_only=True).sum()[\"time\"]\n",
    "    sum_time_Visibilty = resultVisibility[i].perfDataFrame.groupby([\"name\"]).sum(numeric_only=True).sum()[\"time\"]\n",
    "    sum_time_Lazy = resultLazy[i].perfDataFrame.groupby([\"name\"]).sum(numeric_only=True).sum()[\"time\"]\n",
    "\n",
    "    \n",
    "    # DataFrame erstellen\n",
    "    data = {\n",
    "        \"Zeit Basic\": [sum_time_Basic],\n",
    "        \"Zeit Visibility\": [sum_time_Visibilty],\n",
    "        \"Zeit LazyPRM\" : [sum_time_Lazy]\n",
    "    }\n",
    "\n",
    "    df = pd.DataFrame(data)\n",
    "\n",
    "    # DataFrame zur Liste hinzufügen\n",
    "    result_frames.append(df)\n",
    "\n",
    "final_df = pd.concat(result_frames, ignore_index=True)\n",
    "\n",
    "# DataFrame in eine Excel-Datei schreiben\n",
    "final_df.to_excel(\"Auswertung_alle_3PRMs_.xlsx\", index=False)\n",
    "'''\n"
   ]
  },
  {
   "cell_type": "code",
   "execution_count": null,
   "metadata": {},
   "outputs": [],
   "source": [
    "#for i in range(len(resultBasic)):\n",
    "#    print(resultBasic[i].perfDataFrame.groupby([\"name\"]).sum(numeric_only=True).sum()[\"time\"])\n"
   ]
  },
  {
   "cell_type": "code",
   "execution_count": null,
   "metadata": {},
   "outputs": [],
   "source": [
    "#for i in range(len(resultVisibility)):\n",
    "\n",
    "#    print(resultVisibility[i].perfDataFrame.groupby([\"name\"]).sum(numeric_only=True).sum())\n"
   ]
  },
  {
   "cell_type": "code",
   "execution_count": null,
   "metadata": {},
   "outputs": [],
   "source": [
    "#for i in range(len(resultLazy)):\n",
    "\n",
    "#    print(resultLazy[i].perfDataFrame.groupby([\"name\"]).sum(numeric_only=True).sum())\n"
   ]
  },
  {
   "cell_type": "code",
   "execution_count": null,
   "metadata": {},
   "outputs": [],
   "source": [
    "#result.perfDataFrame[result.perfDataFrame[\"name\"]==\"planRoundPath\"][result.perfDataFrame[\"retVal\"]==False][\"time\"].sum(numeric_only=True)"
   ]
  },
  {
   "cell_type": "code",
   "execution_count": null,
   "metadata": {},
   "outputs": [],
   "source": [
    "#result.perfDataFrame[result.perfDataFrame[\"name\"]==\"planRoundPath\"][\"time\"]"
   ]
  },
  {
   "cell_type": "code",
   "execution_count": null,
   "metadata": {},
   "outputs": [],
   "source": [
    "#result.perfDataFrame[result.perfDataFrame[\"name\"]==\"planRoundPath\"][result.perfDataFrame[\"retVal\"]==False][\"time\"].sum(numeric_only=True)"
   ]
  },
  {
   "cell_type": "code",
   "execution_count": null,
   "metadata": {},
   "outputs": [],
   "source": []
  },
  {
   "cell_type": "code",
   "execution_count": null,
   "metadata": {},
   "outputs": [],
   "source": []
  }
 ],
 "metadata": {
  "kernelspec": {
   "display_name": "Python 3 (ipykernel)",
   "language": "python",
   "name": "python3"
  },
  "language_info": {
   "codemirror_mode": {
    "name": "ipython",
    "version": 3
   },
   "file_extension": ".py",
   "mimetype": "text/x-python",
   "name": "python",
   "nbconvert_exporter": "python",
   "pygments_lexer": "ipython3",
   "version": "3.11.5"
  }
 },
 "nbformat": 4,
 "nbformat_minor": 4
}
