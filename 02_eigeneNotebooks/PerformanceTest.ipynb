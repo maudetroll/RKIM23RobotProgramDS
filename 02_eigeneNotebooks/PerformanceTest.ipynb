{
 "cells": [
  {
   "cell_type": "markdown",
   "metadata": {
    "tags": []
   },
   "source": [
    "Introduction\n",
    "============\n",
    "\n",
    "This is interactive notebook regarding \"Introduction to path planning\". (Author: Björn Hein)\n",
    "\n",
    "License is based on Creative Commons: Attribution-NonCommercial 4.0 International (CC BY-NC 4.0) (pls. check: http://creativecommons.org/licenses/by-nc/4.0/)\n",
    "\n",
    "This notebook imports all discussed algorithms and does a comparison\n",
    "\n",
    "**Attention**: This worksheet has external dependencies \n",
    "\n",
    "* to the files \"InnoKonz2dEnv.py\" or \"InnoKonzShapelyEnv.py\". These files contain simple 2D environments based on numpy arrays or the shapely library with an interface for the use as collision checking in the algorithms.\n",
    "* to all modules like \"**Algorithm**.py\", which contains the corresponding algorithms \n",
    "\n",
    "Important links are:\n",
    "\n",
    "* General Info: http://www.python.org\n",
    "* Python tutorial http://www.python.org/doc/tut/\n",
    "* NetworkX http://networkx.github.io/\n",
    "* NumPy and SciPy Guide http://docs.scipy.org/\n",
    "* Matplotlib gallery http://matplotlib.sourceforge.net/gallery.html\n",
    "\n",
    "\n",
    "Remember that:\n",
    "\n",
    "* you have to press ctrl-return or shift-return, to execute the code in the code sections, only then the variables are \"generated\" and can be used\n",
    "* you can execute the whole notebook by Cell->runAll"
   ]
  },
  {
   "cell_type": "markdown",
   "metadata": {},
   "source": [
    "Adding all planners\n",
    "===========\n"
   ]
  },
  {
   "cell_type": "code",
   "execution_count": 21,
   "metadata": {
    "tags": []
   },
   "outputs": [
    {
     "name": "stdout",
     "output_type": "stream",
     "text": [
      "The autoreload extension is already loaded. To reload it, use:\n",
      "  %reload_ext autoreload\n"
     ]
    }
   ],
   "source": [
    "import sys\n",
    "import HelperClass\n",
    "sys.path.append(\"templates\")\n",
    "%load_ext autoreload\n",
    "%autoreload 2\n",
    "import time"
   ]
  },
  {
   "cell_type": "code",
   "execution_count": 22,
   "metadata": {
    "tags": []
   },
   "outputs": [],
   "source": [
    "from IPPerfMonitor import IPPerfMonitor\n",
    "\n",
    "from BasicPRM import IPVISBasicPRM \n",
    "from BasicPRM import IPBasicPRM_Roundtrip\n",
    "\n",
    "from VisibilityPRM import IPVisibilityPRM_Roundtrip\n",
    "from VisibilityPRM import IPVISVisibilityPRM\n",
    "\n",
    "from VisibilityPRM import CC_IPVisibilityPRM_Roundtrip\n",
    "\n",
    "from LazyPRM import IPLazyPRM_Roundtrip\n",
    "from LazyPRM import IPVISLazyPRM\n",
    "\n",
    "from IPython.utils import io\n",
    "\n"
   ]
  },
  {
   "cell_type": "markdown",
   "metadata": {},
   "source": [
    "Set-up of the test scenario and the configuration for all planner\n",
    "===================================\n",
    "\n",
    "Following a procedure to compare all discussed planners are shown:\n",
    "\n",
    "1. Configuration for every planner is defined\n",
    "2. The configuration and the planner is stored in the variable setup, a Python dict()\n",
    "3. the variable setup is then used to uniformly call the planning calls\n"
   ]
  },
  {
   "cell_type": "code",
   "execution_count": 23,
   "metadata": {
    "collapsed": false,
    "jupyter": {
     "outputs_hidden": false
    },
    "tags": []
   },
   "outputs": [],
   "source": [
    "plannerFactory = dict()\n",
    "\n",
    "basicConfig = dict()\n",
    "basicConfig[\"radius\"] = 3\n",
    "basicConfig[\"numNodes\"] = 200\n",
    "plannerFactory[\"basePRM\"] = [IPBasicPRM_Roundtrip.BasicPRM, basicConfig, IPVISBasicPRM.basicPRMVisualize]\n",
    "\n",
    "\n",
    "visbilityConfig = dict()\n",
    "visbilityConfig[\"ntry\"] = 300\n",
    "plannerFactory[\"visibilityPRM\"] = [IPVisibilityPRM_Roundtrip.VisPRM, visbilityConfig, IPVISVisibilityPRM.visibilityPRMVisualize ]\n",
    "\n",
    "\n",
    "visbilityConfig = dict()\n",
    "visbilityConfig[\"ntry\"] = 300\n",
    "plannerFactory[\"visibilityPRMOptimized\"] = [CC_IPVisibilityPRM_Roundtrip.VisPRM, visbilityConfig, IPVISVisibilityPRM.visibilityPRMVisualize ]\n",
    "\n",
    "\n",
    "lazyConfig = dict()\n",
    "lazyConfig[\"initialRoadmapSize\"] = 10\n",
    "lazyConfig[\"updateRoadmapSize\"]  = 5\n",
    "lazyConfig[\"kNearest\"] = 8\n",
    "plannerFactory[\"lazyPRM\"] = [IPLazyPRM_Roundtrip.LazyPRM, lazyConfig, IPVISLazyPRM.lazyPRMVisualize]"
   ]
  },
  {
   "cell_type": "code",
   "execution_count": 24,
   "metadata": {
    "collapsed": false,
    "jupyter": {
     "outputs_hidden": false
    },
    "tags": []
   },
   "outputs": [],
   "source": [
    "class ResultCollection (object):\n",
    "    \n",
    "    def __init__(self, plannerFactoryName, planner, benchmark, solution, perfDataFrame):\n",
    "        self.plannerFactoryName = plannerFactoryName\n",
    "        self.planner = planner\n",
    "        self.benchmark = benchmark\n",
    "        self.solution = solution\n",
    "        self.perfDataFrame = perfDataFrame"
   ]
  },
  {
   "cell_type": "code",
   "execution_count": 25,
   "metadata": {
    "collapsed": false,
    "jupyter": {
     "outputs_hidden": false
    },
    "tags": []
   },
   "outputs": [],
   "source": [
    "import IPTestSuite\n",
    "import importlib"
   ]
  },
  {
   "cell_type": "code",
   "execution_count": 26,
   "metadata": {
    "tags": []
   },
   "outputs": [
    {
     "data": {
      "text/plain": [
       "<module 'IPTestSuite' from 'c:\\\\Users\\\\andre\\\\OneDrive - Hochschule Karlsruhe\\\\HS Karlsruhe\\\\1. Semester\\\\Roboterprogrammierung\\\\Projekt\\\\Git\\\\RKIM23RobotProgramDS\\\\02_eigeneNotebooks\\\\IPTestSuite.py'>"
      ]
     },
     "execution_count": 26,
     "metadata": {},
     "output_type": "execute_result"
    }
   ],
   "source": [
    "importlib.reload(IPTestSuite)"
   ]
  },
  {
   "cell_type": "code",
   "execution_count": 27,
   "metadata": {
    "collapsed": false,
    "jupyter": {
     "outputs_hidden": false
    },
    "tags": []
   },
   "outputs": [
    {
     "name": "stdout",
     "output_type": "stream",
     "text": [
      "Trap\n",
      "Bottleneck\n",
      "Fat bottleneck\n",
      "B_rush\n",
      "circle od death\n"
     ]
    }
   ],
   "source": [
    "fullBenchList = IPTestSuite.benchList\n",
    "\n",
    "for benchmark in fullBenchList:\n",
    "    print(benchmark.name)"
   ]
  },
  {
   "cell_type": "code",
   "execution_count": 28,
   "metadata": {},
   "outputs": [],
   "source": [
    "# List which save the time\n",
    "# 1. Zeit\n",
    "# 2. Nodesanzahl\n",
    "# 3. Erfolgreich\n",
    "\n",
    "sum_time_Basic = [[],[],[]]\n",
    "sum_time_Visibility = [[],[],[]]\n",
    "sum_time_Visibility_Optimized= [[],[],[]]\n",
    "sum_time_Lazy = [[],[],[]]\n",
    "\n",
    "list_of_benchmarks = []"
   ]
  },
  {
   "cell_type": "code",
   "execution_count": 29,
   "metadata": {
    "collapsed": false,
    "jupyter": {
     "outputs_hidden": false
    },
    "tags": []
   },
   "outputs": [
    {
     "name": "stdout",
     "output_type": "stream",
     "text": [
      "[<IPBenchmark.Benchmark object at 0x0000026D693DFC10>, <IPBenchmark.Benchmark object at 0x0000026D693CBD90>, <IPBenchmark.Benchmark object at 0x0000026D693CAAD0>, <IPBenchmark.Benchmark object at 0x0000026D693E3A10>, <IPBenchmark.Benchmark object at 0x0000026D697A3890>]\n"
     ]
    },
    {
     "data": {
      "text/html": [
       "<font color='yellow'>basePRM [<class 'BasicPRM.IPBasicPRM_Roundtrip.BasicPRM'>, {'radius': 3, 'numNodes': 200}, <function basicPRMVisualize at 0x0000026D29662520>]</font>"
      ],
      "text/plain": [
       "<IPython.core.display.HTML object>"
      ]
     },
     "metadata": {},
     "output_type": "display_data"
    },
    {
     "name": "stdout",
     "output_type": "stream",
     "text": [
      "Trap\n",
      "1.0100560188293457\n",
      "name\n",
      "_getRandomFreePosition           0.006001\n",
      "_inSameConnectedComponent        0.026258\n",
      "_learnRoadmapNearestNeighbour    0.270363\n",
      "_nearestInterim                  0.011015\n",
      "_nearestNeighbours               0.091521\n",
      "lineInCollision                  0.158665\n",
      "planRoundPath                    0.318704\n",
      "pointInCollision                 0.127529\n",
      "Name: time, dtype: float64\n",
      "Bottleneck\n",
      "1.438047170639038\n",
      "name\n",
      "_getRandomFreePosition           0.005994\n",
      "_inSameConnectedComponent        0.026517\n",
      "_learnRoadmapNearestNeighbour    0.389558\n",
      "_nearestInterim                  0.000000\n",
      "_nearestNeighbours               0.093911\n",
      "lineInCollision                  0.270136\n",
      "planRoundPath                    0.400558\n",
      "pointInCollision                 0.251374\n",
      "Name: time, dtype: float64\n",
      "Fat bottleneck\n",
      "1.0518300533294678\n",
      "name\n",
      "_getRandomFreePosition           0.014009\n",
      "_inSameConnectedComponent        0.036307\n",
      "_learnRoadmapNearestNeighbour    0.294217\n",
      "_nearestInterim                  0.001001\n",
      "_nearestNeighbours               0.087282\n",
      "lineInCollision                  0.165859\n",
      "planRoundPath                    0.306457\n",
      "pointInCollision                 0.146698\n",
      "Name: time, dtype: float64\n",
      "B_rush\n",
      "6.402959108352661\n",
      "name\n",
      "_getRandomFreePosition           0.039521\n",
      "_inSameConnectedComponent        0.046520\n",
      "_learnRoadmapNearestNeighbour    1.610722\n",
      "_nearestInterim                  0.007009\n",
      "_nearestNeighbours               0.107185\n",
      "lineInCollision                  1.454022\n",
      "planRoundPath                    1.679158\n",
      "pointInCollision                 1.458822\n",
      "Name: time, dtype: float64\n",
      "circle od death\n",
      "2.0713412761688232\n",
      "name\n",
      "_getRandomFreePosition           0.014010\n",
      "_inSameConnectedComponent        0.034148\n",
      "_learnRoadmapNearestNeighbour    0.547831\n",
      "_nearestInterim                  0.001001\n",
      "_nearestNeighbours               0.096846\n",
      "lineInCollision                  0.417335\n",
      "planRoundPath                    0.567347\n",
      "pointInCollision                 0.392824\n",
      "Name: time, dtype: float64\n"
     ]
    },
    {
     "data": {
      "text/html": [
       "<font color='yellow'>visibilityPRM [<class 'VisibilityPRM.IPVisibilityPRM_Roundtrip.VisPRM'>, {'ntry': 300}, <function visibilityPRMVisualize at 0x0000026D68F45440>]</font>"
      ],
      "text/plain": [
       "<IPython.core.display.HTML object>"
      ]
     },
     "metadata": {},
     "output_type": "display_data"
    },
    {
     "name": "stdout",
     "output_type": "stream",
     "text": [
      "Trap\n",
      "1.915511131286621\n",
      "name\n",
      "_checkConnectableInterims    0.008003\n",
      "_getRandomFreePosition       0.002507\n",
      "_learnRoadmap                0.495960\n",
      "_nearestInterim              0.000000\n",
      "lineInCollision              0.495456\n",
      "planRoundPath                0.507962\n",
      "pointInCollision             0.405622\n",
      "Name: time, dtype: float64\n",
      "Bottleneck\n",
      "1.5446147918701172\n",
      "name\n",
      "_checkConnectableInterims    0.006510\n",
      "_getRandomFreePosition       0.007996\n",
      "_learnRoadmap                0.397397\n",
      "_nearestInterim              0.000000\n",
      "lineInCollision              0.389909\n",
      "planRoundPath                0.407913\n",
      "pointInCollision             0.334891\n",
      "Name: time, dtype: float64\n",
      "Fat bottleneck\n",
      "1.3966591358184814\n",
      "name\n",
      "_checkConnectableInterims    0.006000\n",
      "_getRandomFreePosition       0.011997\n",
      "_learnRoadmap                0.361178\n",
      "_nearestInterim              0.000000\n",
      "lineInCollision              0.349180\n",
      "planRoundPath                0.370179\n",
      "pointInCollision             0.298125\n",
      "Name: time, dtype: float64\n",
      "B_rush\n",
      "40.005876779556274\n",
      "name\n",
      "_checkConnectableInterims     0.060996\n",
      "_getRandomFreePosition        0.100036\n",
      "_learnRoadmap                10.028380\n",
      "_nearestInterim               0.001000\n",
      "lineInCollision               9.939759\n",
      "planRoundPath                10.095379\n",
      "pointInCollision              9.780326\n",
      "Name: time, dtype: float64\n",
      "circle od death\n",
      "8.15979290008545\n",
      "name\n",
      "_checkConnectableInterims    0.020511\n",
      "_getRandomFreePosition       0.019030\n",
      "_learnRoadmap                2.082547\n",
      "_nearestInterim              0.000000\n",
      "lineInCollision              2.056521\n",
      "planRoundPath                2.109059\n",
      "pointInCollision             1.872125\n",
      "Name: time, dtype: float64\n"
     ]
    },
    {
     "data": {
      "text/html": [
       "<font color='yellow'>visibilityPRMOptimized [<class 'VisibilityPRM.CC_IPVisibilityPRM_Roundtrip.VisPRM'>, {'ntry': 300}, <function visibilityPRMVisualize at 0x0000026D68F45440>]</font>"
      ],
      "text/plain": [
       "<IPython.core.display.HTML object>"
      ]
     },
     "metadata": {},
     "output_type": "display_data"
    },
    {
     "name": "stdout",
     "output_type": "stream",
     "text": [
      "Trap\n",
      "0.22106647491455078\n",
      "name\n",
      "_checkConnectableInterims    0.008006\n",
      "_getRandomFreePosition       0.000000\n",
      "_learnRoadmap                0.048512\n",
      "_nearestInterim              0.000000\n",
      "lineInCollision              0.056517\n",
      "planRoundPath                0.060518\n",
      "pointInCollision             0.047513\n",
      "Name: time, dtype: float64\n",
      "Bottleneck\n",
      "0.18601226806640625\n",
      "name\n",
      "_checkConnectableInterims    0.007001\n",
      "_getRandomFreePosition       0.001002\n",
      "_learnRoadmap                0.041004\n",
      "_nearestInterim              0.002001\n",
      "lineInCollision              0.046002\n",
      "planRoundPath                0.051006\n",
      "pointInCollision             0.037996\n",
      "Name: time, dtype: float64\n",
      "Fat bottleneck\n",
      "0.33502197265625\n",
      "name\n",
      "_checkConnectableInterims    0.005998\n",
      "_getRandomFreePosition       0.001000\n",
      "_learnRoadmap                0.082011\n",
      "_nearestInterim              0.000000\n",
      "lineInCollision              0.085010\n",
      "planRoundPath                0.092007\n",
      "pointInCollision             0.068996\n",
      "Name: time, dtype: float64\n",
      "B_rush\n",
      "0.894517183303833\n",
      "name\n",
      "_checkConnectableInterims    0.068615\n",
      "_getRandomFreePosition       0.003000\n",
      "_learnRoadmap                0.154643\n",
      "_nearestInterim              0.001001\n",
      "lineInCollision              0.220258\n",
      "planRoundPath                0.230254\n",
      "pointInCollision             0.216747\n",
      "Name: time, dtype: float64\n",
      "circle od death\n",
      "6.7735230922698975\n",
      "name\n",
      "_checkConnectableInterims    0.023002\n",
      "_getRandomFreePosition       0.022027\n",
      "_learnRoadmap                1.723737\n",
      "_nearestInterim              0.000000\n",
      "lineInCollision              1.697715\n",
      "planRoundPath                1.751738\n",
      "pointInCollision             1.555303\n",
      "Name: time, dtype: float64\n"
     ]
    },
    {
     "data": {
      "text/html": [
       "<font color='yellow'>lazyPRM [<class 'LazyPRM.IPLazyPRM_Roundtrip.LazyPRM'>, {'initialRoadmapSize': 10, 'updateRoadmapSize': 5, 'kNearest': 8}, <function lazyPRMVisualize at 0x0000026D68F467A0>]</font>"
      ],
      "text/plain": [
       "<IPython.core.display.HTML object>"
      ]
     },
     "metadata": {},
     "output_type": "display_data"
    },
    {
     "name": "stdout",
     "output_type": "stream",
     "text": [
      "Trap\n",
      "0.05106687545776367\n",
      "name\n",
      "_buildRoadmap                  0.004014\n",
      "_checkForCollisionAndUpdate    0.010836\n",
      "_nearestInterim                0.001001\n",
      "lineInCollision                0.009836\n",
      "planRoundPath                  0.017865\n",
      "pointInCollision               0.007515\n",
      "Name: time, dtype: float64\n",
      "Bottleneck\n",
      "0.1100459098815918\n",
      "name\n",
      "_buildRoadmap                  0.007018\n",
      "_checkForCollisionAndUpdate    0.023501\n",
      "_nearestInterim                0.001003\n",
      "lineInCollision                0.022501\n",
      "planRoundPath                  0.035523\n",
      "pointInCollision               0.020500\n",
      "Name: time, dtype: float64\n",
      "Fat bottleneck\n",
      "0.10627055168151855\n",
      "name\n",
      "_buildRoadmap                  0.009052\n",
      "_checkForCollisionAndUpdate    0.019799\n",
      "_nearestInterim                0.002996\n",
      "lineInCollision                0.019799\n",
      "planRoundPath                  0.040838\n",
      "pointInCollision               0.013788\n",
      "Name: time, dtype: float64\n",
      "B_rush\n",
      "2.4818854331970215\n",
      "name\n",
      "_buildRoadmap                  0.129426\n",
      "_checkForCollisionAndUpdate    0.557381\n",
      "_nearestInterim                0.001994\n",
      "lineInCollision                0.528370\n",
      "planRoundPath                  0.719327\n",
      "pointInCollision               0.545387\n",
      "Name: time, dtype: float64\n",
      "circle od death\n",
      "0.7961533069610596\n",
      "name\n",
      "_buildRoadmap                  0.115155\n",
      "_checkForCollisionAndUpdate    0.143466\n",
      "_nearestInterim                0.000000\n",
      "lineInCollision                0.129442\n",
      "planRoundPath                  0.275626\n",
      "pointInCollision               0.132465\n",
      "Name: time, dtype: float64\n"
     ]
    }
   ],
   "source": [
    "resultList = list()\n",
    "testList = fullBenchList[:5]\n",
    "\n",
    "\n",
    "amountOfRepetition = 0\n",
    "i = 0\n",
    "while (i< amountOfRepetition):\n",
    "    testList.extend(fullBenchList[:5])\n",
    "    i = i + 1\n",
    " \n",
    "print(testList)\n",
    "\n",
    "for key,producer in list(plannerFactory.items()):\n",
    "    HelperClass.HelperClass.printInColor(str(key)+\" \"+ str(producer), 'yellow')\n",
    "\n",
    "    for benchmark in testList:\n",
    "        #HelperClass.HelperClass.printInColor(\"Planning: \" + key + \" - \" + benchmark.name, 'yellow')\n",
    "        planner = producer[0](benchmark.collisionChecker)\n",
    "        IPPerfMonitor.clearData()\n",
    "        \n",
    "\n",
    "        try:\n",
    "\n",
    "            print(benchmark.name)\n",
    "\n",
    "            with io.capture_output() as captured:\n",
    "                start = time.time()\n",
    "                resultList.append(ResultCollection(key,\n",
    "                                            planner, \n",
    "                                            benchmark, \n",
    "                                            planner.planRoundPath(benchmark.startList,benchmark.interimGoalList,benchmark.goalList,producer[1]),\n",
    "                                            IPPerfMonitor.dataFrame()),)\n",
    "                end = time.time()\n",
    "                duration = end - start\n",
    "            if (key == \"basePRM\"):\n",
    "                # sum_time_Basic[0].append(resultList[0].perfDataFrame.groupby([\"name\"]).sum(numeric_only=True)[\"time\"].sum())\n",
    "                sum_time_Basic[0].append(duration)\n",
    "                                   \n",
    "                sum_time_Basic[1].append(len(resultList[0].planner.graph.nodes()))\n",
    "                if (resultList[0].solution != []):\n",
    "                    sum_time_Basic[2].append(1)\n",
    "                else:\n",
    "                    sum_time_Basic[2].append(0)\n",
    "\n",
    "                \n",
    "            elif (key == \"visibilityPRM\"):\n",
    "                sum_time_Visibility[0].append(duration)\n",
    "                sum_time_Visibility[1].append(len(resultList[0].planner.graph.nodes()))\n",
    "                \n",
    "                if (resultList[0].solution != []):\n",
    "                    sum_time_Visibility[2].append(1)\n",
    "                else:\n",
    "                    sum_time_Visibility[2].append(0)\n",
    "            \n",
    "            elif (key == \"visibilityPRMOptimized\"):\n",
    "                sum_time_Visibility_Optimized[0].append(duration)\n",
    "                \n",
    "                sum_time_Visibility_Optimized[1].append(len(resultList[0].planner.graph.nodes()))\n",
    "                \n",
    "                if (resultList[0].solution != []):\n",
    "                    sum_time_Visibility_Optimized[2].append(1)\n",
    "                else:\n",
    "                    sum_time_Visibility_Optimized[2].append(0)\n",
    "\n",
    "\n",
    "            \n",
    "            elif (key == \"lazyPRM\"):\n",
    "                sum_time_Lazy[0].append(duration)\n",
    "                sum_time_Lazy[1].append(len(resultList[0].planner.graph.nodes()))\n",
    "                \n",
    "                if (resultList[0].solution != []):\n",
    "                    sum_time_Lazy[2].append(1)\n",
    "                else:\n",
    "                    sum_time_Lazy[2].append(0)\n",
    "\n",
    "            list_of_benchmarks.append(benchmark.name)\n",
    "            #print(resultList[0].perfDataFrame.groupby([\"name\"]).sum(numeric_only=True).sum()[\"time\"])\n",
    "            #print(resultList[0].solution)\n",
    "            #print(\"Länge \", len(resultList[0].planner.graph.nodes()))\n",
    "            resultList = list()\n",
    "            #print(len(resultList))\n",
    "                \n",
    "                \n",
    "            #print(\"Habe fertig\")\n",
    "\n",
    "\n",
    "\n",
    "        except Exception as e:\n",
    "            HelperClass.HelperClass.printInColor(\"PLANNING ERROR ! PLANNING ERROR ! PLANNING ERROR\", 'red')\n",
    "            HelperClass.HelperClass.printInColor(e, 'red')\n",
    "            import traceback\n",
    "            HelperClass.HelperClass.printInColor(traceback.print_exc(), 'red')\n",
    "\n",
    "            pass\n",
    "\n",
    "        "
   ]
  },
  {
   "cell_type": "code",
   "execution_count": 30,
   "metadata": {},
   "outputs": [
    {
     "name": "stdout",
     "output_type": "stream",
     "text": [
      "[[0.05106687545776367, 0.1100459098815918, 0.10627055168151855, 2.4818854331970215, 0.7961533069610596], [59, 106, 107, 486, 500], [1, 1, 1, 0, 0]]\n",
      "5\n",
      "<class 'pandas.core.frame.DataFrame'>\n",
      "Datei da\n",
      "<class 'pandas.core.frame.DataFrame'>\n",
      "Habe fertig\n"
     ]
    }
   ],
   "source": [
    "print(sum_time_Lazy)\n",
    "import pandas as pd\n",
    "import os\n",
    "from openpyxl import load_workbook\n",
    "\n",
    "result_frames = []\n",
    "\n",
    "print(len(sum_time_Basic[0]))\n",
    "\n",
    "for i in range(len(sum_time_Basic[0])):\n",
    "    \n",
    "    # DataFrame erstellen\n",
    "    data = {\n",
    "        \"Benchmark\": [list_of_benchmarks[i]],\n",
    "        \"Basic Zeit\": [sum_time_Basic[0][i]],\n",
    "        \"Basic Nodes\": [sum_time_Basic[1][i]],\n",
    "        \"Basic Erfolgreich\": [sum_time_Basic[2][i]],\n",
    "        \"Visibility Zeit \": [sum_time_Visibility[0][i]],\n",
    "        \"Visibility Nodes \": [sum_time_Visibility[1][i]],\n",
    "        \"Visibility Erfolgreich \": [sum_time_Visibility[2][i]],\n",
    "        \"Optimized_Visibility Zeit \": [sum_time_Visibility_Optimized[0][i]],\n",
    "        \"Optimized_Visibility Nodes \": [sum_time_Visibility_Optimized[1][i]],\n",
    "        \"Optimized_Visibility Erfolgreich \": [sum_time_Visibility_Optimized[2][i]],\n",
    "        \"LazyPRM Zeit \": [sum_time_Lazy[0][i]],\n",
    "        \"LazyPRM Nodes \": [sum_time_Lazy[1][i]],\n",
    "        \"LazyPRM Erfolgreich \": [sum_time_Lazy[2][i]],\n",
    "    }\n",
    "\n",
    "    df = pd.DataFrame(data)\n",
    "\n",
    "    # DataFrame zur Liste hinzufügen\n",
    "    result_frames.append(df)\n",
    "\n",
    "final_df = pd.concat(result_frames, ignore_index=True)\n",
    "print(type(final_df))\n",
    "#df = df.append(pd.DataFrame(neue_daten), ignore_index=True)\n",
    "\n",
    "excel_dateipfad = 'Auswertung_alle_3PRMs.xlsx'\n",
    "if (os.path.isfile(excel_dateipfad)):\n",
    "    print(\"Datei da\")\n",
    "    dataframe = pd.read_excel(excel_dateipfad)\n",
    "    print(type(dataframe))\n",
    "    dataframe = pd.concat([dataframe, final_df], ignore_index=True)\n",
    "    #dataframe.append(final_df, ignore_index=True)\n",
    "    \n",
    "\n",
    "\n",
    "# DataFrame in eine Excel-Datei schreiben\n",
    "dataframe.to_excel(\"Auswertung_alle_3PRMs.xlsx\", index=False)\n",
    "\n",
    "\n",
    "print(\"Habe fertig\")\n",
    "\n",
    "\n"
   ]
  }
 ],
 "metadata": {
  "kernelspec": {
   "display_name": "Python 3 (ipykernel)",
   "language": "python",
   "name": "python3"
  },
  "language_info": {
   "codemirror_mode": {
    "name": "ipython",
    "version": 3
   },
   "file_extension": ".py",
   "mimetype": "text/x-python",
   "name": "python",
   "nbconvert_exporter": "python",
   "pygments_lexer": "ipython3",
   "version": "3.11.6"
  }
 },
 "nbformat": 4,
 "nbformat_minor": 4
}
