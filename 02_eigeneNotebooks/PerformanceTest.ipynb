{
 "cells": [
  {
   "cell_type": "markdown",
   "metadata": {
    "tags": []
   },
   "source": [
    "Introduction\n",
    "============\n",
    "\n",
    "This is interactive notebook regarding \"Introduction to path planning\". (Author: Björn Hein)\n",
    "\n",
    "License is based on Creative Commons: Attribution-NonCommercial 4.0 International (CC BY-NC 4.0) (pls. check: http://creativecommons.org/licenses/by-nc/4.0/)\n",
    "\n",
    "This notebook imports all discussed algorithms and does a comparison\n",
    "\n",
    "**Attention**: This worksheet has external dependencies \n",
    "\n",
    "* to the files \"InnoKonz2dEnv.py\" or \"InnoKonzShapelyEnv.py\". These files contain simple 2D environments based on numpy arrays or the shapely library with an interface for the use as collision checking in the algorithms.\n",
    "* to all modules like \"**Algorithm**.py\", which contains the corresponding algorithms \n",
    "\n",
    "Important links are:\n",
    "\n",
    "* General Info: http://www.python.org\n",
    "* Python tutorial http://www.python.org/doc/tut/\n",
    "* NetworkX http://networkx.github.io/\n",
    "* NumPy and SciPy Guide http://docs.scipy.org/\n",
    "* Matplotlib gallery http://matplotlib.sourceforge.net/gallery.html\n",
    "\n",
    "\n",
    "Remember that:\n",
    "\n",
    "* you have to press ctrl-return or shift-return, to execute the code in the code sections, only then the variables are \"generated\" and can be used\n",
    "* you can execute the whole notebook by Cell->runAll"
   ]
  },
  {
   "cell_type": "markdown",
   "metadata": {},
   "source": [
    "Adding all planners\n",
    "===========\n"
   ]
  },
  {
   "cell_type": "code",
   "execution_count": 1,
   "metadata": {
    "tags": []
   },
   "outputs": [],
   "source": [
    "import sys\n",
    "import HelperClass\n",
    "sys.path.append(\"templates\")\n",
    "%load_ext autoreload\n",
    "%autoreload 2"
   ]
  },
  {
   "cell_type": "code",
   "execution_count": 2,
   "metadata": {
    "tags": []
   },
   "outputs": [],
   "source": [
    "from IPPerfMonitor import IPPerfMonitor\n",
    "\n",
    "from BasicPRM import IPVISBasicPRM \n",
    "from BasicPRM import IPBasicPRM_Roundtrip\n",
    "\n",
    "from VisibilityPRM import IPVisibilityPRM_Roundtrip\n",
    "from VisibilityPRM import IPVISVisibilityPRM\n",
    "from VisibilityPRM import Optimized_IPVisibilityPRM_Roundtrip\n",
    "from VisibilityPRM import CC_IPVisibilityPRM_Roundtrip\n",
    "\n",
    "from VisibilityPRM import Normal_IPVisibilityPRM_Roundtrip\n",
    "\n",
    "from LazyPRM import IPLazyPRM_Roundtrip\n",
    "from LazyPRM import IPVISLazyPRM\n",
    "\n",
    "from IPython.utils import io\n",
    "\n"
   ]
  },
  {
   "cell_type": "markdown",
   "metadata": {},
   "source": [
    "Set-up of the test scenario and the configuration for all planner\n",
    "===================================\n",
    "\n",
    "Following a procedure to compare all discussed planners are shown:\n",
    "\n",
    "1. Configuration for every planner is defined\n",
    "2. The configuration and the planner is stored in the variable setup, a Python dict()\n",
    "3. the variable setup is then used to uniformly call the planning calls\n"
   ]
  },
  {
   "cell_type": "code",
   "execution_count": 3,
   "metadata": {
    "collapsed": false,
    "jupyter": {
     "outputs_hidden": false
    },
    "tags": []
   },
   "outputs": [],
   "source": [
    "plannerFactory = dict()\n",
    "\n",
    "basicConfig = dict()\n",
    "basicConfig[\"radius\"] = 3\n",
    "basicConfig[\"numNodes\"] = 200\n",
    "plannerFactory[\"basePRM\"] = [IPBasicPRM_Roundtrip.BasicPRM, basicConfig, IPVISBasicPRM.basicPRMVisualize]\n",
    "\n",
    "\n",
    "#visbilityConfig = dict()\n",
    "# visbilityConfig[\"ntry\"] = 300\n",
    "# plannerFactory[\"visibilityPRM\"] = [IPVisibilityPRM_Roundtrip.VisPRM, visbilityConfig, IPVISVisibilityPRM.visibilityPRMVisualize ]\n",
    "\n",
    "\n",
    "visbilityConfig = dict()\n",
    "visbilityConfig[\"ntry\"] = 300\n",
    "plannerFactory[\"visibilityPRM\"] = [Normal_IPVisibilityPRM_Roundtrip.VisPRM, visbilityConfig, IPVISVisibilityPRM.visibilityPRMVisualize ]\n",
    "\n",
    "\n",
    "visbilityConfig = dict()\n",
    "visbilityConfig[\"ntry\"] = 300\n",
    "plannerFactory[\"visibilityPRMOptimized\"] = [CC_IPVisibilityPRM_Roundtrip.VisPRM, visbilityConfig, IPVISVisibilityPRM.visibilityPRMVisualize ]\n",
    "\n",
    "\n",
    "lazyConfig = dict()\n",
    "lazyConfig[\"initialRoadmapSize\"] = 10\n",
    "lazyConfig[\"updateRoadmapSize\"]  = 5\n",
    "lazyConfig[\"kNearest\"] = 8\n",
    "plannerFactory[\"lazyPRM\"] = [IPLazyPRM_Roundtrip.LazyPRM, lazyConfig, IPVISLazyPRM.lazyPRMVisualize]"
   ]
  },
  {
   "cell_type": "code",
   "execution_count": 4,
   "metadata": {
    "collapsed": false,
    "jupyter": {
     "outputs_hidden": false
    },
    "tags": []
   },
   "outputs": [],
   "source": [
    "class ResultCollection (object):\n",
    "    \n",
    "    def __init__(self, plannerFactoryName, planner, benchmark, solution, perfDataFrame):\n",
    "        self.plannerFactoryName = plannerFactoryName\n",
    "        self.planner = planner\n",
    "        self.benchmark = benchmark\n",
    "        self.solution = solution\n",
    "        self.perfDataFrame = perfDataFrame"
   ]
  },
  {
   "cell_type": "code",
   "execution_count": 5,
   "metadata": {
    "collapsed": false,
    "jupyter": {
     "outputs_hidden": false
    },
    "tags": []
   },
   "outputs": [],
   "source": [
    "import IPTestSuite\n",
    "import importlib"
   ]
  },
  {
   "cell_type": "code",
   "execution_count": 6,
   "metadata": {
    "tags": []
   },
   "outputs": [
    {
     "data": {
      "text/plain": [
       "<module 'IPTestSuite' from 'c:\\\\Users\\\\andre\\\\OneDrive - Hochschule Karlsruhe\\\\HS Karlsruhe\\\\1. Semester\\\\Roboterprogrammierung\\\\Projekt\\\\Git\\\\RKIM23RobotProgramDS\\\\02_eigeneNotebooks\\\\IPTestSuite.py'>"
      ]
     },
     "execution_count": 6,
     "metadata": {},
     "output_type": "execute_result"
    }
   ],
   "source": [
    "importlib.reload(IPTestSuite)"
   ]
  },
  {
   "cell_type": "code",
   "execution_count": 7,
   "metadata": {
    "collapsed": false,
    "jupyter": {
     "outputs_hidden": false
    },
    "tags": []
   },
   "outputs": [
    {
     "name": "stdout",
     "output_type": "stream",
     "text": [
      "Trap\n",
      "Bottleneck\n",
      "Fat bottleneck\n",
      "B_rush\n",
      "circle od death\n"
     ]
    }
   ],
   "source": [
    "fullBenchList = IPTestSuite.benchList\n",
    "\n",
    "for benchmark in fullBenchList:\n",
    "    print(benchmark.name)"
   ]
  },
  {
   "cell_type": "code",
   "execution_count": 8,
   "metadata": {},
   "outputs": [],
   "source": [
    "# List which save the time\n",
    "# 1. Zeit\n",
    "# 2. Nodesanzahl\n",
    "# 3. Erfolgreich\n",
    "\n",
    "sum_time_Basic = [[],[],[]]\n",
    "sum_time_Visibility = [[],[],[]]\n",
    "sum_time_Visibility_Optimized= [[],[],[]]\n",
    "sum_time_Lazy = [[],[],[]]\n",
    "\n",
    "list_of_benchmarks = []"
   ]
  },
  {
   "cell_type": "code",
   "execution_count": 9,
   "metadata": {
    "collapsed": false,
    "jupyter": {
     "outputs_hidden": false
    },
    "tags": []
   },
   "outputs": [
    {
     "name": "stdout",
     "output_type": "stream",
     "text": [
      "[<IPBenchmark.Benchmark object at 0x000001BBCFD4DE90>, <IPBenchmark.Benchmark object at 0x000001BBCFCDF890>, <IPBenchmark.Benchmark object at 0x000001BBCFCDF3D0>, <IPBenchmark.Benchmark object at 0x000001BBCFDF1F90>, <IPBenchmark.Benchmark object at 0x000001BBCFDF16D0>]\n"
     ]
    },
    {
     "data": {
      "text/html": [
       "<font color='yellow'>basePRM [<class 'BasicPRM.IPBasicPRM_Roundtrip.BasicPRM'>, {'radius': 3, 'numNodes': 200}, <function basicPRMVisualize at 0x000001BB903631A0>]</font>"
      ],
      "text/plain": [
       "<IPython.core.display.HTML object>"
      ]
     },
     "metadata": {},
     "output_type": "display_data"
    },
    {
     "data": {
      "text/html": [
       "<font color='yellow'>visibilityPRM [<class 'VisibilityPRM.Normal_IPVisibilityPRM_Roundtrip.VisPRM'>, {'ntry': 300}, <function visibilityPRMVisualize at 0x000001BBCFC454E0>]</font>"
      ],
      "text/plain": [
       "<IPython.core.display.HTML object>"
      ]
     },
     "metadata": {},
     "output_type": "display_data"
    },
    {
     "ename": "KeyboardInterrupt",
     "evalue": "",
     "output_type": "error",
     "traceback": [
      "\u001b[1;31m---------------------------------------------------------------------------\u001b[0m",
      "\u001b[1;31mKeyboardInterrupt\u001b[0m                         Traceback (most recent call last)",
      "Cell \u001b[1;32mIn[9], line 27\u001b[0m\n\u001b[0;32m     22\u001b[0m \u001b[38;5;28;01mtry\u001b[39;00m:\n\u001b[0;32m     23\u001b[0m     \u001b[38;5;28;01mwith\u001b[39;00m io\u001b[38;5;241m.\u001b[39mcapture_output() \u001b[38;5;28;01mas\u001b[39;00m captured:\n\u001b[0;32m     24\u001b[0m         resultList\u001b[38;5;241m.\u001b[39mappend(ResultCollection(key,\n\u001b[0;32m     25\u001b[0m                                     planner, \n\u001b[0;32m     26\u001b[0m                                     benchmark, \n\u001b[1;32m---> 27\u001b[0m                                     \u001b[43mplanner\u001b[49m\u001b[38;5;241;43m.\u001b[39;49m\u001b[43mplanRoundPath\u001b[49m\u001b[43m(\u001b[49m\u001b[43mbenchmark\u001b[49m\u001b[38;5;241;43m.\u001b[39;49m\u001b[43mstartList\u001b[49m\u001b[43m,\u001b[49m\u001b[43mbenchmark\u001b[49m\u001b[38;5;241;43m.\u001b[39;49m\u001b[43minterimGoalList\u001b[49m\u001b[43m,\u001b[49m\u001b[43mbenchmark\u001b[49m\u001b[38;5;241;43m.\u001b[39;49m\u001b[43mgoalList\u001b[49m\u001b[43m,\u001b[49m\u001b[43mproducer\u001b[49m\u001b[43m[\u001b[49m\u001b[38;5;241;43m1\u001b[39;49m\u001b[43m]\u001b[49m\u001b[43m)\u001b[49m,\n\u001b[0;32m     28\u001b[0m                                     IPPerfMonitor\u001b[38;5;241m.\u001b[39mdataFrame()),)\n\u001b[0;32m     30\u001b[0m     \u001b[38;5;28;01mif\u001b[39;00m (key \u001b[38;5;241m==\u001b[39m \u001b[38;5;124m\"\u001b[39m\u001b[38;5;124mbasePRM\u001b[39m\u001b[38;5;124m\"\u001b[39m):\n\u001b[0;32m     31\u001b[0m         sum_time_Basic[\u001b[38;5;241m0\u001b[39m]\u001b[38;5;241m.\u001b[39mappend(resultList[\u001b[38;5;241m0\u001b[39m]\u001b[38;5;241m.\u001b[39mperfDataFrame\u001b[38;5;241m.\u001b[39mgroupby([\u001b[38;5;124m\"\u001b[39m\u001b[38;5;124mname\u001b[39m\u001b[38;5;124m\"\u001b[39m])\u001b[38;5;241m.\u001b[39msum(numeric_only\u001b[38;5;241m=\u001b[39m\u001b[38;5;28;01mTrue\u001b[39;00m)\u001b[38;5;241m.\u001b[39msum()[\u001b[38;5;124m\"\u001b[39m\u001b[38;5;124mtime\u001b[39m\u001b[38;5;124m\"\u001b[39m])                \n",
      "File \u001b[1;32mc:\\Users\\andre\\OneDrive - Hochschule Karlsruhe\\HS Karlsruhe\\1. Semester\\Roboterprogrammierung\\Projekt\\Git\\RKIM23RobotProgramDS\\02_eigeneNotebooks\\IPPerfMonitor.py:27\u001b[0m, in \u001b[0;36mIPPerfMonitor.__call__\u001b[1;34m(self, *args, **kwargs)\u001b[0m\n\u001b[0;32m     24\u001b[0m \u001b[38;5;28;01mdef\u001b[39;00m \u001b[38;5;21m__call__\u001b[39m(\u001b[38;5;28mself\u001b[39m, \u001b[38;5;241m*\u001b[39margs, \u001b[38;5;241m*\u001b[39m\u001b[38;5;241m*\u001b[39mkwargs):\n\u001b[0;32m     26\u001b[0m     starttime \u001b[38;5;241m=\u001b[39m time\u001b[38;5;241m.\u001b[39mtime()\n\u001b[1;32m---> 27\u001b[0m     ret \u001b[38;5;241m=\u001b[39m \u001b[38;5;28;43mself\u001b[39;49m\u001b[38;5;241;43m.\u001b[39;49m\u001b[43m__f\u001b[49m\u001b[43m(\u001b[49m\u001b[38;5;241;43m*\u001b[39;49m\u001b[43margs\u001b[49m\u001b[43m,\u001b[49m\u001b[43m \u001b[49m\u001b[38;5;241;43m*\u001b[39;49m\u001b[38;5;241;43m*\u001b[39;49m\u001b[43mkwargs\u001b[49m\u001b[43m)\u001b[49m\n\u001b[0;32m     28\u001b[0m     endtime \u001b[38;5;241m=\u001b[39m time\u001b[38;5;241m.\u001b[39mtime()\n\u001b[0;32m     29\u001b[0m     element \u001b[38;5;241m=\u001b[39m {\u001b[38;5;124m'\u001b[39m\u001b[38;5;124margs\u001b[39m\u001b[38;5;124m'\u001b[39m: args, \u001b[38;5;124m'\u001b[39m\u001b[38;5;124mkwargs\u001b[39m\u001b[38;5;124m'\u001b[39m: kwargs, \u001b[38;5;124m\"\u001b[39m\u001b[38;5;124mretVal\u001b[39m\u001b[38;5;124m\"\u001b[39m: ret, \u001b[38;5;124m\"\u001b[39m\u001b[38;5;124mtime\u001b[39m\u001b[38;5;124m\"\u001b[39m: endtime\u001b[38;5;241m-\u001b[39mstarttime}\n",
      "File \u001b[1;32mc:\\Users\\andre\\OneDrive - Hochschule Karlsruhe\\HS Karlsruhe\\1. Semester\\Roboterprogrammierung\\Projekt\\Git\\RKIM23RobotProgramDS\\02_eigeneNotebooks\\VisibilityPRM\\Normal_IPVisibilityPRM_Roundtrip.py:238\u001b[0m, in \u001b[0;36mVisPRM.planRoundPath\u001b[1;34m(self, startList, interimGoalList, goalList, config)\u001b[0m\n\u001b[0;32m    235\u001b[0m HelperClass\u001b[38;5;241m.\u001b[39mHelperClass\u001b[38;5;241m.\u001b[39mprintInColor(\u001b[38;5;124m\"\u001b[39m\u001b[38;5;124mAktueller Pfad: \u001b[39m\u001b[38;5;124m\"\u001b[39m \u001b[38;5;241m+\u001b[39m \u001b[38;5;28mstr\u001b[39m(path), \u001b[38;5;124m'\u001b[39m\u001b[38;5;124mDodgerblue\u001b[39m\u001b[38;5;124m'\u001b[39m)\n\u001b[0;32m    237\u001b[0m \u001b[38;5;66;03m# Find nearest interim goal from the current step in Try-path\u001b[39;00m\n\u001b[1;32m--> 238\u001b[0m new_result_interim \u001b[38;5;241m=\u001b[39m \u001b[38;5;28;43mself\u001b[39;49m\u001b[38;5;241;43m.\u001b[39;49m\u001b[43m_nearestInterim\u001b[49m\u001b[43m(\u001b[49m\u001b[38;5;28;43mself\u001b[39;49m\u001b[38;5;241;43m.\u001b[39;49m\u001b[43mgraph\u001b[49m\u001b[38;5;241;43m.\u001b[39;49m\u001b[43mnodes\u001b[49m\u001b[43m[\u001b[49m\u001b[43mstep\u001b[49m\u001b[43m]\u001b[49m\u001b[43m[\u001b[49m\u001b[38;5;124;43m'\u001b[39;49m\u001b[38;5;124;43mpos\u001b[39;49m\u001b[38;5;124;43m'\u001b[39;49m\u001b[43m]\u001b[49m\u001b[43m,\u001b[49m\u001b[43m \u001b[49m\u001b[43mcheckedInterimGoalList\u001b[49m\u001b[43m)\u001b[49m\n\u001b[0;32m    239\u001b[0m \u001b[38;5;66;03m# print(\"Nächstes Ziel-Interim: \", new_result_interim)               \u001b[39;00m\n\u001b[0;32m    240\u001b[0m \n\u001b[0;32m    241\u001b[0m \u001b[38;5;66;03m# Check if the distance to the new interim is zero (Interim is reached)\u001b[39;00m\n\u001b[0;32m    242\u001b[0m \u001b[38;5;28;01mif\u001b[39;00m new_result_interim[\u001b[38;5;241m1\u001b[39m] \u001b[38;5;241m==\u001b[39m \u001b[38;5;241m0.0\u001b[39m:\n\u001b[0;32m    243\u001b[0m     \u001b[38;5;66;03m# print(\"Ziel-Interim erreicht\")\u001b[39;00m\n\u001b[0;32m    244\u001b[0m     \n\u001b[0;32m    245\u001b[0m     \u001b[38;5;66;03m# Check if there is only one interim goal remaining, this means all interims are reached\u001b[39;00m\n",
      "File \u001b[1;32mc:\\Users\\andre\\OneDrive - Hochschule Karlsruhe\\HS Karlsruhe\\1. Semester\\Roboterprogrammierung\\Projekt\\Git\\RKIM23RobotProgramDS\\02_eigeneNotebooks\\IPPerfMonitor.py:27\u001b[0m, in \u001b[0;36mIPPerfMonitor.__call__\u001b[1;34m(self, *args, **kwargs)\u001b[0m\n\u001b[0;32m     24\u001b[0m \u001b[38;5;28;01mdef\u001b[39;00m \u001b[38;5;21m__call__\u001b[39m(\u001b[38;5;28mself\u001b[39m, \u001b[38;5;241m*\u001b[39margs, \u001b[38;5;241m*\u001b[39m\u001b[38;5;241m*\u001b[39mkwargs):\n\u001b[0;32m     26\u001b[0m     starttime \u001b[38;5;241m=\u001b[39m time\u001b[38;5;241m.\u001b[39mtime()\n\u001b[1;32m---> 27\u001b[0m     ret \u001b[38;5;241m=\u001b[39m \u001b[38;5;28;43mself\u001b[39;49m\u001b[38;5;241;43m.\u001b[39;49m\u001b[43m__f\u001b[49m\u001b[43m(\u001b[49m\u001b[38;5;241;43m*\u001b[39;49m\u001b[43margs\u001b[49m\u001b[43m,\u001b[49m\u001b[43m \u001b[49m\u001b[38;5;241;43m*\u001b[39;49m\u001b[38;5;241;43m*\u001b[39;49m\u001b[43mkwargs\u001b[49m\u001b[43m)\u001b[49m\n\u001b[0;32m     28\u001b[0m     endtime \u001b[38;5;241m=\u001b[39m time\u001b[38;5;241m.\u001b[39mtime()\n\u001b[0;32m     29\u001b[0m     element \u001b[38;5;241m=\u001b[39m {\u001b[38;5;124m'\u001b[39m\u001b[38;5;124margs\u001b[39m\u001b[38;5;124m'\u001b[39m: args, \u001b[38;5;124m'\u001b[39m\u001b[38;5;124mkwargs\u001b[39m\u001b[38;5;124m'\u001b[39m: kwargs, \u001b[38;5;124m\"\u001b[39m\u001b[38;5;124mretVal\u001b[39m\u001b[38;5;124m\"\u001b[39m: ret, \u001b[38;5;124m\"\u001b[39m\u001b[38;5;124mtime\u001b[39m\u001b[38;5;124m\"\u001b[39m: endtime\u001b[38;5;241m-\u001b[39mstarttime}\n",
      "File \u001b[1;32mc:\\Users\\andre\\OneDrive - Hochschule Karlsruhe\\HS Karlsruhe\\1. Semester\\Roboterprogrammierung\\Projekt\\Git\\RKIM23RobotProgramDS\\02_eigeneNotebooks\\VisibilityPRM\\Normal_IPVisibilityPRM_Roundtrip.py:78\u001b[0m, in \u001b[0;36mVisPRM._nearestInterim\u001b[1;34m(self, currentNode, checkedInterimGoalList)\u001b[0m\n\u001b[0;32m     76\u001b[0m     \u001b[38;5;66;03m# Add coordinates and distance to the result list\u001b[39;00m\n\u001b[0;32m     77\u001b[0m     result_interim[\u001b[38;5;241m0\u001b[39m]\u001b[38;5;241m.\u001b[39mappend(next_pos_node)\n\u001b[1;32m---> 78\u001b[0m     result_interim[\u001b[38;5;241m1\u001b[39m]\u001b[38;5;241m.\u001b[39mappend(\u001b[43meuclidean\u001b[49m\u001b[43m(\u001b[49m\u001b[43mpoint_current\u001b[49m\u001b[43m,\u001b[49m\u001b[43mpoint_pos_next\u001b[49m\u001b[43m)\u001b[49m)\n\u001b[0;32m     79\u001b[0m     i \u001b[38;5;241m+\u001b[39m\u001b[38;5;241m=\u001b[39m \u001b[38;5;241m1\u001b[39m\n\u001b[0;32m     82\u001b[0m \u001b[38;5;66;03m# Assign names to the nearest points\u001b[39;00m\n",
      "File \u001b[1;32mc:\\Users\\andre\\AppData\\Local\\Programs\\Python\\Python311\\Lib\\site-packages\\scipy\\spatial\\distance.py:536\u001b[0m, in \u001b[0;36meuclidean\u001b[1;34m(u, v, w)\u001b[0m\n\u001b[0;32m    500\u001b[0m \u001b[38;5;28;01mdef\u001b[39;00m \u001b[38;5;21meuclidean\u001b[39m(u, v, w\u001b[38;5;241m=\u001b[39m\u001b[38;5;28;01mNone\u001b[39;00m):\n\u001b[0;32m    501\u001b[0m \u001b[38;5;250m    \u001b[39m\u001b[38;5;124;03m\"\"\"\u001b[39;00m\n\u001b[0;32m    502\u001b[0m \u001b[38;5;124;03m    Computes the Euclidean distance between two 1-D arrays.\u001b[39;00m\n\u001b[0;32m    503\u001b[0m \n\u001b[1;32m   (...)\u001b[0m\n\u001b[0;32m    534\u001b[0m \n\u001b[0;32m    535\u001b[0m \u001b[38;5;124;03m    \"\"\"\u001b[39;00m\n\u001b[1;32m--> 536\u001b[0m     \u001b[38;5;28;01mreturn\u001b[39;00m \u001b[43mminkowski\u001b[49m\u001b[43m(\u001b[49m\u001b[43mu\u001b[49m\u001b[43m,\u001b[49m\u001b[43m \u001b[49m\u001b[43mv\u001b[49m\u001b[43m,\u001b[49m\u001b[43m \u001b[49m\u001b[43mp\u001b[49m\u001b[38;5;241;43m=\u001b[39;49m\u001b[38;5;241;43m2\u001b[39;49m\u001b[43m,\u001b[49m\u001b[43m \u001b[49m\u001b[43mw\u001b[49m\u001b[38;5;241;43m=\u001b[39;49m\u001b[43mw\u001b[49m\u001b[43m)\u001b[49m\n",
      "File \u001b[1;32mc:\\Users\\andre\\AppData\\Local\\Programs\\Python\\Python311\\Lib\\site-packages\\scipy\\spatial\\distance.py:496\u001b[0m, in \u001b[0;36mminkowski\u001b[1;34m(u, v, p, w)\u001b[0m\n\u001b[0;32m    494\u001b[0m         root_w \u001b[38;5;241m=\u001b[39m np\u001b[38;5;241m.\u001b[39mpower(w, \u001b[38;5;241m1\u001b[39m\u001b[38;5;241m/\u001b[39mp)\n\u001b[0;32m    495\u001b[0m     u_v \u001b[38;5;241m=\u001b[39m root_w \u001b[38;5;241m*\u001b[39m u_v\n\u001b[1;32m--> 496\u001b[0m dist \u001b[38;5;241m=\u001b[39m \u001b[43mnorm\u001b[49m\u001b[43m(\u001b[49m\u001b[43mu_v\u001b[49m\u001b[43m,\u001b[49m\u001b[43m \u001b[49m\u001b[38;5;28;43mord\u001b[39;49m\u001b[38;5;241;43m=\u001b[39;49m\u001b[43mp\u001b[49m\u001b[43m)\u001b[49m\n\u001b[0;32m    497\u001b[0m \u001b[38;5;28;01mreturn\u001b[39;00m dist\n",
      "File \u001b[1;32mc:\\Users\\andre\\AppData\\Local\\Programs\\Python\\Python311\\Lib\\site-packages\\scipy\\linalg\\_misc.py:178\u001b[0m, in \u001b[0;36mnorm\u001b[1;34m(a, ord, axis, keepdims, check_finite)\u001b[0m\n\u001b[0;32m    175\u001b[0m             \u001b[38;5;28;01mreturn\u001b[39;00m lange(\u001b[38;5;241m*\u001b[39mlange_args)\n\u001b[0;32m    177\u001b[0m \u001b[38;5;66;03m# fall back to numpy in every other case\u001b[39;00m\n\u001b[1;32m--> 178\u001b[0m \u001b[38;5;28;01mreturn\u001b[39;00m \u001b[43mnp\u001b[49m\u001b[38;5;241;43m.\u001b[39;49m\u001b[43mlinalg\u001b[49m\u001b[38;5;241;43m.\u001b[39;49m\u001b[43mnorm\u001b[49m\u001b[43m(\u001b[49m\u001b[43ma\u001b[49m\u001b[43m,\u001b[49m\u001b[43m \u001b[49m\u001b[38;5;28;43mord\u001b[39;49m\u001b[38;5;241;43m=\u001b[39;49m\u001b[38;5;28;43mord\u001b[39;49m\u001b[43m,\u001b[49m\u001b[43m \u001b[49m\u001b[43maxis\u001b[49m\u001b[38;5;241;43m=\u001b[39;49m\u001b[43maxis\u001b[49m\u001b[43m,\u001b[49m\u001b[43m \u001b[49m\u001b[43mkeepdims\u001b[49m\u001b[38;5;241;43m=\u001b[39;49m\u001b[43mkeepdims\u001b[49m\u001b[43m)\u001b[49m\n",
      "File \u001b[1;32mc:\\Users\\andre\\AppData\\Local\\Programs\\Python\\Python311\\Lib\\site-packages\\numpy\\linalg\\linalg.py:2552\u001b[0m, in \u001b[0;36mnorm\u001b[1;34m(x, ord, axis, keepdims)\u001b[0m\n\u001b[0;32m   2550\u001b[0m     sqnorm \u001b[38;5;241m=\u001b[39m x_real\u001b[38;5;241m.\u001b[39mdot(x_real) \u001b[38;5;241m+\u001b[39m x_imag\u001b[38;5;241m.\u001b[39mdot(x_imag)\n\u001b[0;32m   2551\u001b[0m \u001b[38;5;28;01melse\u001b[39;00m:\n\u001b[1;32m-> 2552\u001b[0m     sqnorm \u001b[38;5;241m=\u001b[39m x\u001b[38;5;241m.\u001b[39mdot(x)\n\u001b[0;32m   2553\u001b[0m ret \u001b[38;5;241m=\u001b[39m sqrt(sqnorm)\n\u001b[0;32m   2554\u001b[0m \u001b[38;5;28;01mif\u001b[39;00m keepdims:\n",
      "\u001b[1;31mKeyboardInterrupt\u001b[0m: "
     ]
    }
   ],
   "source": [
    "resultList = list()\n",
    "testList = fullBenchList[:5]\n",
    "\n",
    "\n",
    "amountOfRepetition = 0\n",
    "i = 0\n",
    "while (i< amountOfRepetition):\n",
    "    testList.extend(fullBenchList[:5])\n",
    "    i = i + 1\n",
    " \n",
    "print(testList)\n",
    "\n",
    "for key,producer in list(plannerFactory.items()):\n",
    "    HelperClass.HelperClass.printInColor(str(key)+\" \"+ str(producer), 'yellow')\n",
    "\n",
    "    for benchmark in testList:\n",
    "        #HelperClass.HelperClass.printInColor(\"Planning: \" + key + \" - \" + benchmark.name, 'yellow')\n",
    "        planner = producer[0](benchmark.collisionChecker)\n",
    "        IPPerfMonitor.clearData()\n",
    "        \n",
    "\n",
    "        try:\n",
    "            with io.capture_output() as captured:\n",
    "                resultList.append(ResultCollection(key,\n",
    "                                            planner, \n",
    "                                            benchmark, \n",
    "                                            planner.planRoundPath(benchmark.startList,benchmark.interimGoalList,benchmark.goalList,producer[1]),\n",
    "                                            IPPerfMonitor.dataFrame()),)\n",
    "            \n",
    "            if (key == \"basePRM\"):\n",
    "                sum_time_Basic[0].append(resultList[0].perfDataFrame.groupby([\"name\"]).sum(numeric_only=True).sum()[\"time\"])                \n",
    "                sum_time_Basic[1].append(len(resultList[0].planner.graph.nodes()))\n",
    "                if (resultList[0].solution != []):\n",
    "                    sum_time_Basic[2].append(1)\n",
    "                else:\n",
    "                    sum_time_Basic[2].append(0)\n",
    "\n",
    "                \n",
    "            elif (key == \"visibilityPRM\"):\n",
    "                sum_time_Visibility[0].append(resultList[0].perfDataFrame.groupby([\"name\"]).sum(numeric_only=True).sum()[\"time\"])\n",
    "                \n",
    "                sum_time_Visibility[1].append(len(resultList[0].planner.graph.nodes()))\n",
    "                \n",
    "                if (resultList[0].solution != []):\n",
    "                    sum_time_Visibility[2].append(1)\n",
    "                else:\n",
    "                    sum_time_Visibility[2].append(0)\n",
    "            \n",
    "            elif (key == \"visibilityPRMOptimized\"):\n",
    "                sum_time_Visibility_Optimized[0].append(resultList[0].perfDataFrame.groupby([\"name\"]).sum(numeric_only=True).sum()[\"time\"])\n",
    "                \n",
    "                sum_time_Visibility_Optimized[1].append(len(resultList[0].planner.graph.nodes()))\n",
    "                \n",
    "                if (resultList[0].solution != []):\n",
    "                    sum_time_Visibility_Optimized[2].append(1)\n",
    "                else:\n",
    "                    sum_time_Visibility_Optimized[2].append(0)\n",
    "\n",
    "\n",
    "            \n",
    "            elif (key == \"lazyPRM\"):\n",
    "                sum_time_Lazy[0].append(resultList[0].perfDataFrame.groupby([\"name\"]).sum(numeric_only=True).sum()[\"time\"])\n",
    "                sum_time_Lazy[1].append(len(resultList[0].planner.graph.nodes()))\n",
    "                \n",
    "                if (resultList[0].solution != []):\n",
    "                    sum_time_Lazy[2].append(1)\n",
    "                else:\n",
    "                    sum_time_Lazy[2].append(0)\n",
    "\n",
    "            list_of_benchmarks.append(benchmark.name)\n",
    "            #print(resultList[0].perfDataFrame.groupby([\"name\"]).sum(numeric_only=True).sum()[\"time\"])\n",
    "            #print(resultList[0].solution)\n",
    "            #print(\"Länge \", len(resultList[0].planner.graph.nodes()))\n",
    "            resultList = list()\n",
    "            #print(len(resultList))\n",
    "                \n",
    "                \n",
    "            #print(\"Habe fertig\")\n",
    "\n",
    "\n",
    "\n",
    "        except Exception as e:\n",
    "            HelperClass.HelperClass.printInColor(\"PLANNING ERROR ! PLANNING ERROR ! PLANNING ERROR\", 'red')\n",
    "            HelperClass.HelperClass.printInColor(e, 'red')\n",
    "            import traceback\n",
    "            HelperClass.HelperClass.printInColor(traceback.print_exc(), 'red')\n",
    "\n",
    "            pass\n",
    "\n",
    "        "
   ]
  },
  {
   "cell_type": "code",
   "execution_count": null,
   "metadata": {},
   "outputs": [],
   "source": [
    "print(sum_time_Lazy)\n",
    "import pandas as pd\n",
    "import os\n",
    "from openpyxl import load_workbook\n",
    "\n",
    "result_frames = []\n",
    "\n",
    "print(len(sum_time_Basic[0]))\n",
    "\n",
    "for i in range(len(sum_time_Basic[0])):\n",
    "    \n",
    "    # DataFrame erstellen\n",
    "    data = {\n",
    "        \"Benchmark\": [list_of_benchmarks[i]],\n",
    "        \"Basic Zeit\": [sum_time_Basic[0][i]],\n",
    "        \"Basic Nodes\": [sum_time_Basic[1][i]],\n",
    "        \"Basic Erfolgreich\": [sum_time_Basic[2][i]],\n",
    "        \"Visibility Zeit \": [sum_time_Visibility[0][i]],\n",
    "        \"Visibility Nodes \": [sum_time_Visibility[1][i]],\n",
    "        \"Visibility Erfolgreich \": [sum_time_Visibility[2][i]],\n",
    "        \"Optimized_Visibility Zeit \": [sum_time_Visibility_Optimized[0][i]],\n",
    "        \"Optimized_Visibility Nodes \": [sum_time_Visibility_Optimized[1][i]],\n",
    "        \"Optimized_Visibility Erfolgreich \": [sum_time_Visibility_Optimized[2][i]],\n",
    "        \"LazyPRM Zeit \": [sum_time_Lazy[0][i]],\n",
    "        \"LazyPRM Nodes \": [sum_time_Lazy[1][i]],\n",
    "        \"LazyPRM Erfolgreich \": [sum_time_Lazy[2][i]],\n",
    "    }\n",
    "\n",
    "    df = pd.DataFrame(data)\n",
    "\n",
    "    # DataFrame zur Liste hinzufügen\n",
    "    result_frames.append(df)\n",
    "\n",
    "final_df = pd.concat(result_frames, ignore_index=True)\n",
    "print(type(final_df))\n",
    "#df = df.append(pd.DataFrame(neue_daten), ignore_index=True)\n",
    "\n",
    "excel_dateipfad = 'Auswertung_alle_3PRMs.xlsx'\n",
    "if (os.path.isfile(excel_dateipfad)):\n",
    "    print(\"Datei da\")\n",
    "    dataframe = pd.read_excel(excel_dateipfad)\n",
    "    print(type(dataframe))\n",
    "    dataframe = pd.concat([dataframe, final_df], ignore_index=True)\n",
    "    #dataframe.append(final_df, ignore_index=True)\n",
    "    \n",
    "\n",
    "\n",
    "# DataFrame in eine Excel-Datei schreiben\n",
    "dataframe.to_excel(\"Auswertung_alle_3PRMs.xlsx\", index=False)\n",
    "\n",
    "\n",
    "print(\"Habe fertig\")\n",
    "\n",
    "\n"
   ]
  },
  {
   "cell_type": "code",
   "execution_count": null,
   "metadata": {
    "tags": []
   },
   "outputs": [],
   "source": [
    "'''\n",
    "import matplotlib.pyplot as plt\n",
    "\n",
    "for result in resultList:\n",
    "    fig_local = plt.figure(figsize=(10,10))\n",
    "    ax = fig_local.add_subplot(1,1,1)\n",
    "    title = result.plannerFactoryName + \" - \" + result.benchmark.name\n",
    "    if result.solution == []:\n",
    "        title += \" (No path found!)\"\n",
    "    title += \"\\n Assumed complexity level \" + str(result.benchmark.level)\n",
    "    ax.set_title(title)\n",
    "\n",
    "    try:\n",
    "        #IPVISBasicsPRM.basicPRMVisualize(result.planner, result.solution, ax=ax, nodeSize=100))\n",
    "        plannerFactory[result.plannerFactoryName][2](result.planner, result.solution, ax=ax, nodeSize=100)\n",
    "\n",
    "\n",
    "    except Exception as e:\n",
    "        print (\"Error\")\n",
    "        print(e)\n",
    "        pass\n",
    "'''    "
   ]
  },
  {
   "cell_type": "code",
   "execution_count": null,
   "metadata": {
    "collapsed": false,
    "jupyter": {
     "outputs_hidden": false
    },
    "tags": []
   },
   "outputs": [],
   "source": [
    "'''\n",
    "import numpy as np\n",
    "for bench in testList:\n",
    "    title = bench.name\n",
    "    pathLength = dict()\n",
    "    planningTime = dict()\n",
    "    roadmapSize  = dict()\n",
    "    \n",
    "    try:\n",
    "        for result in resultList:\n",
    "            if result.benchmark.name == bench.name:\n",
    "                #print result.benchmark.name  + \" - \" +  result.plannerFactoryName, len(result.solution)\n",
    "                pathLength[result.plannerFactoryName] = len(result.solution)\n",
    "                planningTime[result.plannerFactoryName] = result.perfDataFrame.groupby([\"name\"]).sum(numeric_only=True)[\"time\"][\"planRoundPath\"]\n",
    "                roadmapSize[result.plannerFactoryName] = result.planner.graph.size()\n",
    "\n",
    "\n",
    "        fig, ax = plt.subplots()\n",
    "\n",
    "        width = 0.2\n",
    "\n",
    "        ax.bar(np.arange(len(pathLength.keys())), pathLength.values(),width, color=\"blue\")\n",
    "        ax.set_ylabel(title + \" Path length (number of nodes!)\", color=\"blue\")\n",
    "        ax.set_xticks(np.arange(len(pathLength.keys())) + width)\n",
    "        ax.set_xticklabels(pathLength.keys())\n",
    "\n",
    "        ax2 = ax.twinx()\n",
    "        bar = ax2.bar(np.arange(len(pathLength.keys()))+width, planningTime.values(),width, color=\"red\")\n",
    "        ax2.set_ylabel(title + \" Planning time\", color=\"y\")\n",
    "\n",
    "        # Add coloring and patterns on axis two\n",
    "        hatches = ['x' if length==0 else '' for length in pathLength.values()]\n",
    "        color   = ['red' if length==0 else 'yellow' for length in pathLength.values()]\n",
    "        for i,thisbar in enumerate(bar.patches):\n",
    "            thisbar.set_facecolor(color[i])\n",
    "            thisbar.set_hatch(hatches[i])\n",
    "\n",
    "        # Multiple axes \n",
    "        ax3 = ax.twinx()\n",
    "        ax3.bar(np.arange(len(pathLength.keys()))+2*width, roadmapSize.values(),width, color=\"purple\")\n",
    "        ax3.set_ylabel(title + \" Roadmap size\",  color=\"purple\")\n",
    "        ax3.spines['right'].set_position(('axes', 1.15))\n",
    "        ax3.spines['right'].set_color(\"purple\")\n",
    "    except:\n",
    "        pass\n",
    "\n",
    "'''\n",
    "    \n",
    "        \n",
    "    "
   ]
  },
  {
   "cell_type": "markdown",
   "metadata": {},
   "source": [
    "result.perfDataFrame.groupby([\"name\"]).sum()"
   ]
  },
  {
   "cell_type": "code",
   "execution_count": null,
   "metadata": {},
   "outputs": [],
   "source": [
    "#result.perfDataFrame.groupby([\"name\"]).sum(numeric_only=True)"
   ]
  },
  {
   "cell_type": "code",
   "execution_count": null,
   "metadata": {},
   "outputs": [],
   "source": [
    "'''\n",
    "lenghBasic = 5 * (amountOfRepetition + 1)\n",
    "lengthVisibility = 10 * (amountOfRepetition + 1)\n",
    "#lengthLaty = 10 * amountOfRepetition\n",
    "\n",
    "\n",
    "resultBasic = resultList[:lenghBasic]\n",
    "resultVisibility = resultList[lenghBasic:lengthVisibility]\n",
    "resultLazy = resultList[lengthVisibility:]\n",
    "'''"
   ]
  },
  {
   "cell_type": "code",
   "execution_count": null,
   "metadata": {},
   "outputs": [],
   "source": [
    "'''\n",
    "import pandas as pd\n",
    "\n",
    "result_frames = []\n",
    "\n",
    "for i in range(len(resultBasic)):\n",
    "    sum_time_Basic = resultBasic[i].perfDataFrame.groupby([\"name\"]).sum(numeric_only=True).sum()[\"time\"]\n",
    "    sum_time_Visibilty = resultVisibility[i].perfDataFrame.groupby([\"name\"]).sum(numeric_only=True).sum()[\"time\"]\n",
    "    sum_time_Lazy = resultLazy[i].perfDataFrame.groupby([\"name\"]).sum(numeric_only=True).sum()[\"time\"]\n",
    "\n",
    "    \n",
    "    # DataFrame erstellen\n",
    "    data = {\n",
    "        \"Zeit Basic\": [sum_time_Basic],\n",
    "        \"Zeit Visibility\": [sum_time_Visibilty],\n",
    "        \"Zeit LazyPRM\" : [sum_time_Lazy]\n",
    "    }\n",
    "\n",
    "    df = pd.DataFrame(data)\n",
    "\n",
    "    # DataFrame zur Liste hinzufügen\n",
    "    result_frames.append(df)\n",
    "\n",
    "final_df = pd.concat(result_frames, ignore_index=True)\n",
    "\n",
    "# DataFrame in eine Excel-Datei schreiben\n",
    "final_df.to_excel(\"Auswertung_alle_3PRMs_.xlsx\", index=False)\n",
    "'''\n"
   ]
  },
  {
   "cell_type": "code",
   "execution_count": null,
   "metadata": {},
   "outputs": [],
   "source": [
    "#for i in range(len(resultBasic)):\n",
    "#    print(resultBasic[i].perfDataFrame.groupby([\"name\"]).sum(numeric_only=True).sum()[\"time\"])\n"
   ]
  },
  {
   "cell_type": "code",
   "execution_count": null,
   "metadata": {},
   "outputs": [],
   "source": [
    "#for i in range(len(resultVisibility)):\n",
    "\n",
    "#    print(resultVisibility[i].perfDataFrame.groupby([\"name\"]).sum(numeric_only=True).sum())\n"
   ]
  },
  {
   "cell_type": "code",
   "execution_count": null,
   "metadata": {},
   "outputs": [],
   "source": [
    "#for i in range(len(resultLazy)):\n",
    "\n",
    "#    print(resultLazy[i].perfDataFrame.groupby([\"name\"]).sum(numeric_only=True).sum())\n"
   ]
  },
  {
   "cell_type": "code",
   "execution_count": null,
   "metadata": {},
   "outputs": [],
   "source": [
    "#result.perfDataFrame[result.perfDataFrame[\"name\"]==\"planRoundPath\"][result.perfDataFrame[\"retVal\"]==False][\"time\"].sum(numeric_only=True)"
   ]
  },
  {
   "cell_type": "code",
   "execution_count": null,
   "metadata": {},
   "outputs": [],
   "source": [
    "#result.perfDataFrame[result.perfDataFrame[\"name\"]==\"planRoundPath\"][\"time\"]"
   ]
  },
  {
   "cell_type": "code",
   "execution_count": null,
   "metadata": {},
   "outputs": [],
   "source": [
    "#result.perfDataFrame[result.perfDataFrame[\"name\"]==\"planRoundPath\"][result.perfDataFrame[\"retVal\"]==False][\"time\"].sum(numeric_only=True)"
   ]
  },
  {
   "cell_type": "code",
   "execution_count": null,
   "metadata": {},
   "outputs": [],
   "source": []
  },
  {
   "cell_type": "code",
   "execution_count": null,
   "metadata": {},
   "outputs": [],
   "source": []
  }
 ],
 "metadata": {
  "kernelspec": {
   "display_name": "Python 3 (ipykernel)",
   "language": "python",
   "name": "python3"
  },
  "language_info": {
   "codemirror_mode": {
    "name": "ipython",
    "version": 3
   },
   "file_extension": ".py",
   "mimetype": "text/x-python",
   "name": "python",
   "nbconvert_exporter": "python",
   "pygments_lexer": "ipython3",
   "version": "3.11.6"
  }
 },
 "nbformat": 4,
 "nbformat_minor": 4
}
