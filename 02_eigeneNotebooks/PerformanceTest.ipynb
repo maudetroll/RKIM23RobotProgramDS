{
 "cells": [
  {
   "cell_type": "markdown",
   "metadata": {},
   "source": [
    "Topic of Notebook\n",
    "============\n",
    "\n",
    "<span style=\"color:Coral;\">This notebook is used to determine the performance of the algorithms. The following parameters are measured: Duration of execution, size of the roadmap, success rate. The results are saved in an Excel file after execution.</span>"
   ]
  },
  {
   "cell_type": "markdown",
   "metadata": {
    "tags": []
   },
   "source": [
    "\n",
    "This is interactive notebook regarding \"Introduction to path planning\". (Author: Björn Hein)\n",
    "\n",
    "License is based on Creative Commons: Attribution-NonCommercial 4.0 International (CC BY-NC 4.0) (pls. check: http://creativecommons.org/licenses/by-nc/4.0/)\n"
   ]
  },
  {
   "cell_type": "markdown",
   "metadata": {},
   "source": [
    "## Adding all planners\n",
    "<!--  -->\n"
   ]
  },
  {
   "cell_type": "code",
   "execution_count": 11,
   "metadata": {
    "tags": []
   },
   "outputs": [
    {
     "name": "stdout",
     "output_type": "stream",
     "text": [
      "The autoreload extension is already loaded. To reload it, use:\n",
      "  %reload_ext autoreload\n"
     ]
    }
   ],
   "source": [
    "import sys\n",
    "from HelperPackage import HelperClass\n",
    "sys.path.append(\"templates\")\n",
    "%load_ext autoreload\n",
    "%autoreload 2\n",
    "import time"
   ]
  },
  {
   "cell_type": "code",
   "execution_count": 12,
   "metadata": {
    "tags": []
   },
   "outputs": [],
   "source": [
    "from HelperPackage.IPPerfMonitor import IPPerfMonitor\n",
    "\n",
    "from BasicPRM import IPVISBasicPRM \n",
    "from BasicPRM import IPBasicPRM_Roundtrip\n",
    "\n",
    "from VisibilityPRM import IPVisibilityPRM_Roundtrip\n",
    "from VisibilityPRM import IPVISVisibilityPRM\n",
    "\n",
    "from VisibilityPRM import CC_IPVisibilityPRM_Roundtrip\n",
    "\n",
    "from LazyPRM import IPLazyPRM_Roundtrip\n",
    "from LazyPRM import IPVISLazyPRM\n",
    "\n",
    "from IPython.utils import io\n",
    "\n"
   ]
  },
  {
   "cell_type": "markdown",
   "metadata": {},
   "source": [
    "## Set-up of the test scenario and the configuration for all planner\n",
    "\n",
    "\n",
    "Following a procedure to compare all discussed planners are shown:\n",
    "\n",
    "1. Configuration for every planner is defined\n",
    "2. The configuration and the planner is stored in the variable setup, a Python dict()\n",
    "3. the variable setup is then used to uniformly call the planning calls\n"
   ]
  },
  {
   "cell_type": "code",
   "execution_count": 13,
   "metadata": {
    "collapsed": false,
    "jupyter": {
     "outputs_hidden": false
    },
    "tags": []
   },
   "outputs": [],
   "source": [
    "plannerFactory = dict()\n",
    "\n",
    "basicConfig = dict()\n",
    "basicConfig[\"radius\"] = 3\n",
    "basicConfig[\"numNodes\"] = 200\n",
    "plannerFactory[\"basePRM\"] = [IPBasicPRM_Roundtrip.BasicPRM, basicConfig, IPVISBasicPRM.basicPRMVisualize]\n",
    "\n",
    "\n",
    "visbilityConfig = dict()\n",
    "visbilityConfig[\"ntry\"] = 300\n",
    "plannerFactory[\"visibilityPRM\"] = [IPVisibilityPRM_Roundtrip.VisPRM, visbilityConfig, IPVISVisibilityPRM.visibilityPRMVisualize ]\n",
    "\n",
    "\n",
    "visbilityConfig = dict()\n",
    "visbilityConfig[\"ntry\"] = 300\n",
    "plannerFactory[\"visibilityPRMOptimized\"] = [CC_IPVisibilityPRM_Roundtrip.VisPRM, visbilityConfig, IPVISVisibilityPRM.visibilityPRMVisualize ]\n",
    "\n",
    "\n",
    "lazyConfig = dict()\n",
    "lazyConfig[\"initialRoadmapSize\"] = 10\n",
    "lazyConfig[\"updateRoadmapSize\"]  = 5\n",
    "lazyConfig[\"kNearest\"] = 8\n",
    "plannerFactory[\"lazyPRM\"] = [IPLazyPRM_Roundtrip.LazyPRM, lazyConfig, IPVISLazyPRM.lazyPRMVisualize]"
   ]
  },
  {
   "cell_type": "code",
   "execution_count": 14,
   "metadata": {
    "collapsed": false,
    "jupyter": {
     "outputs_hidden": false
    },
    "tags": []
   },
   "outputs": [],
   "source": [
    "class ResultCollection (object):\n",
    "    \n",
    "    def __init__(self, plannerFactoryName, planner, benchmark, solution, perfDataFrame):\n",
    "        self.plannerFactoryName = plannerFactoryName\n",
    "        self.planner = planner\n",
    "        self.benchmark = benchmark\n",
    "        self.solution = solution\n",
    "        self.perfDataFrame = perfDataFrame"
   ]
  },
  {
   "cell_type": "code",
   "execution_count": 15,
   "metadata": {
    "collapsed": false,
    "jupyter": {
     "outputs_hidden": false
    },
    "tags": []
   },
   "outputs": [],
   "source": [
    "from HelperPackage import IPTestSuite\n",
    "import importlib"
   ]
  },
  {
   "cell_type": "code",
   "execution_count": 16,
   "metadata": {
    "tags": []
   },
   "outputs": [
    {
     "data": {
      "text/plain": [
       "<module 'HelperPackage.IPTestSuite' from 'c:\\\\Users\\\\andre\\\\OneDrive - Hochschule Karlsruhe\\\\HS Karlsruhe\\\\1. Semester\\\\Roboterprogrammierung\\\\Projekt\\\\Git\\\\RKIM23RobotProgramDS\\\\02_eigeneNotebooks\\\\HelperPackage\\\\IPTestSuite.py'>"
      ]
     },
     "execution_count": 16,
     "metadata": {},
     "output_type": "execute_result"
    }
   ],
   "source": [
    "importlib.reload(IPTestSuite)"
   ]
  },
  {
   "cell_type": "code",
   "execution_count": 17,
   "metadata": {
    "collapsed": false,
    "jupyter": {
     "outputs_hidden": false
    },
    "tags": []
   },
   "outputs": [
    {
     "name": "stdout",
     "output_type": "stream",
     "text": [
      "Trap\n",
      "Bottleneck\n",
      "Fat bottleneck\n",
      "B_rush\n",
      "Circle of Death\n"
     ]
    }
   ],
   "source": [
    "fullBenchList = IPTestSuite.benchList\n",
    "\n",
    "for benchmark in fullBenchList:\n",
    "    print(benchmark.name)"
   ]
  },
  {
   "cell_type": "code",
   "execution_count": 18,
   "metadata": {},
   "outputs": [],
   "source": [
    "sum_time_Basic = [[],[],[]]\n",
    "sum_time_Visibility = [[],[],[]]\n",
    "sum_time_Visibility_Optimized= [[],[],[]]\n",
    "sum_time_Lazy = [[],[],[]]\n",
    "\n",
    "list_of_benchmarks = []"
   ]
  },
  {
   "cell_type": "code",
   "execution_count": 19,
   "metadata": {
    "collapsed": false,
    "jupyter": {
     "outputs_hidden": false
    },
    "tags": []
   },
   "outputs": [
    {
     "name": "stdout",
     "output_type": "stream",
     "text": [
      "[<HelperPackage.IPBenchmark.Benchmark object at 0x0000027EBA1F08D0>, <HelperPackage.IPBenchmark.Benchmark object at 0x0000027EB9D13990>, <HelperPackage.IPBenchmark.Benchmark object at 0x0000027EB9D13A10>, <HelperPackage.IPBenchmark.Benchmark object at 0x0000027EB9D13F90>, <HelperPackage.IPBenchmark.Benchmark object at 0x0000027EB9D12010>]\n"
     ]
    },
    {
     "data": {
      "text/html": [
       "<font color='yellow'>basePRM [<class 'BasicPRM.IPBasicPRM_Roundtrip.BasicPRM'>, {'radius': 3, 'numNodes': 200}, <function basicPRMVisualize at 0x0000027EFA1B2E80>]</font>"
      ],
      "text/plain": [
       "<IPython.core.display.HTML object>"
      ]
     },
     "metadata": {},
     "output_type": "display_data"
    },
    {
     "name": "stdout",
     "output_type": "stream",
     "text": [
      "Trap\n",
      "Bottleneck\n",
      "Fat bottleneck\n",
      "B_rush\n",
      "Circle of Death\n"
     ]
    },
    {
     "data": {
      "text/html": [
       "<font color='yellow'>visibilityPRM [<class 'VisibilityPRM.IPVisibilityPRM_Roundtrip.VisPRM'>, {'ntry': 300}, <function visibilityPRMVisualize at 0x0000027EFF3F1300>]</font>"
      ],
      "text/plain": [
       "<IPython.core.display.HTML object>"
      ]
     },
     "metadata": {},
     "output_type": "display_data"
    },
    {
     "name": "stdout",
     "output_type": "stream",
     "text": [
      "Trap\n",
      "Bottleneck\n",
      "Fat bottleneck\n",
      "B_rush\n",
      "Circle of Death\n"
     ]
    },
    {
     "data": {
      "text/html": [
       "<font color='yellow'>visibilityPRMOptimized [<class 'VisibilityPRM.CC_IPVisibilityPRM_Roundtrip.VisPRM'>, {'ntry': 300}, <function visibilityPRMVisualize at 0x0000027EFF3F1300>]</font>"
      ],
      "text/plain": [
       "<IPython.core.display.HTML object>"
      ]
     },
     "metadata": {},
     "output_type": "display_data"
    },
    {
     "name": "stdout",
     "output_type": "stream",
     "text": [
      "Trap\n",
      "Bottleneck\n",
      "Fat bottleneck\n",
      "B_rush\n",
      "Circle of Death\n"
     ]
    },
    {
     "data": {
      "text/html": [
       "<font color='yellow'>lazyPRM [<class 'LazyPRM.IPLazyPRM_Roundtrip.LazyPRM'>, {'initialRoadmapSize': 10, 'updateRoadmapSize': 5, 'kNearest': 8}, <function lazyPRMVisualize at 0x0000027EB9B65D00>]</font>"
      ],
      "text/plain": [
       "<IPython.core.display.HTML object>"
      ]
     },
     "metadata": {},
     "output_type": "display_data"
    },
    {
     "name": "stdout",
     "output_type": "stream",
     "text": [
      "Trap\n",
      "Bottleneck\n",
      "Fat bottleneck\n",
      "B_rush\n",
      "Circle of Death\n"
     ]
    }
   ],
   "source": [
    "resultList = list()\n",
    "testList = fullBenchList[:5]\n",
    "\n",
    "amountOfRepetition = 0\n",
    "i = 0\n",
    "while (i< amountOfRepetition):\n",
    "    testList.extend(fullBenchList[:5])\n",
    "    i = i + 1\n",
    " \n",
    "print(testList)\n",
    "\n",
    "for key,producer in list(plannerFactory.items()):\n",
    "    HelperClass.HelperClass.printInColor(str(key)+\" \"+ str(producer), 'yellow')\n",
    "\n",
    "    for benchmark in testList:\n",
    "        planner = producer[0](benchmark.collisionChecker)\n",
    "        IPPerfMonitor.clearData()\n",
    "\n",
    "        try:\n",
    "\n",
    "            print(benchmark.name)\n",
    "\n",
    "            with io.capture_output() as captured:\n",
    "                start = time.time()\n",
    "                resultList.append(ResultCollection(key,\n",
    "                                            planner, \n",
    "                                            benchmark, \n",
    "                                            planner.planRoundPath(benchmark.startList,benchmark.interimGoalList,producer[1]),\n",
    "                                            IPPerfMonitor.dataFrame()),)\n",
    "                end = time.time()\n",
    "                duration = end - start\n",
    "            if (key == \"basePRM\"):\n",
    "                sum_time_Basic[0].append(duration)\n",
    "                                   \n",
    "                sum_time_Basic[1].append(len(resultList[0].planner.graph.nodes()))\n",
    "                if (resultList[0].solution != []):\n",
    "                    sum_time_Basic[2].append(1)\n",
    "                else:\n",
    "                    sum_time_Basic[2].append(0)\n",
    "\n",
    "                \n",
    "            elif (key == \"visibilityPRM\"):\n",
    "                sum_time_Visibility[0].append(duration)\n",
    "                sum_time_Visibility[1].append(len(resultList[0].planner.graph.nodes()))\n",
    "                \n",
    "                if (resultList[0].solution != []):\n",
    "                    sum_time_Visibility[2].append(1)\n",
    "                else:\n",
    "                    sum_time_Visibility[2].append(0)\n",
    "            \n",
    "            elif (key == \"visibilityPRMOptimized\"):\n",
    "                sum_time_Visibility_Optimized[0].append(duration)\n",
    "                \n",
    "                sum_time_Visibility_Optimized[1].append(len(resultList[0].planner.graph.nodes()))\n",
    "                \n",
    "                if (resultList[0].solution != []):\n",
    "                    sum_time_Visibility_Optimized[2].append(1)\n",
    "                else:\n",
    "                    sum_time_Visibility_Optimized[2].append(0)\n",
    "\n",
    "\n",
    "            \n",
    "            elif (key == \"lazyPRM\"):\n",
    "                sum_time_Lazy[0].append(duration)\n",
    "                sum_time_Lazy[1].append(len(resultList[0].planner.graph.nodes()))\n",
    "                \n",
    "                if (resultList[0].solution != []):\n",
    "                    sum_time_Lazy[2].append(1)\n",
    "                else:\n",
    "                    sum_time_Lazy[2].append(0)\n",
    "\n",
    "            list_of_benchmarks.append(benchmark.name)\n",
    "\n",
    "            resultList = list()\n",
    "\n",
    "        except Exception as e:\n",
    "            HelperClass.HelperClass.printInColor(\"PLANNING ERROR ! PLANNING ERROR ! PLANNING ERROR\", 'red')\n",
    "            HelperClass.HelperClass.printInColor(e, 'red')\n",
    "            import traceback\n",
    "            HelperClass.HelperClass.printInColor(traceback.print_exc(), 'red')\n",
    "\n",
    "            pass\n",
    "\n",
    "        "
   ]
  },
  {
   "cell_type": "code",
   "execution_count": 21,
   "metadata": {},
   "outputs": [
    {
     "name": "stdout",
     "output_type": "stream",
     "text": [
      "[[0.013514041900634766, 0.20586013793945312, 0.04803466796875, 0.730454683303833, 0.24076390266418457], [48, 502, 147, 445, 491], [1, 0, 1, 1, 0]]\n",
      "5\n",
      "<class 'pandas.core.frame.DataFrame'>\n"
     ]
    }
   ],
   "source": [
    "print(sum_time_Lazy)\n",
    "import pandas as pd\n",
    "import os\n",
    "from openpyxl import load_workbook\n",
    "import time\n",
    "\n",
    "result_frames = []\n",
    "\n",
    "print(len(sum_time_Basic[0]))\n",
    "\n",
    "for i in range(len(sum_time_Basic[0])):\n",
    "    \n",
    "    # Create DataFrame\n",
    "    data = {\n",
    "        \"Benchmark\": [list_of_benchmarks[i]],\n",
    "        \"Basic Zeit\": [sum_time_Basic[0][i]],\n",
    "        \"Basic Nodes\": [sum_time_Basic[1][i]],\n",
    "        \"Basic Erfolgreich\": [sum_time_Basic[2][i]],\n",
    "        \"Visibility Zeit \": [sum_time_Visibility[0][i]],\n",
    "        \"Visibility Nodes \": [sum_time_Visibility[1][i]],\n",
    "        \"Visibility Erfolgreich \": [sum_time_Visibility[2][i]],\n",
    "        \"Optimized_Visibility Zeit \": [sum_time_Visibility_Optimized[0][i]],\n",
    "        \"Optimized_Visibility Nodes \": [sum_time_Visibility_Optimized[1][i]],\n",
    "        \"Optimized_Visibility Erfolgreich \": [sum_time_Visibility_Optimized[2][i]],\n",
    "        \"LazyPRM Zeit \": [sum_time_Lazy[0][i]],\n",
    "        \"LazyPRM Nodes \": [sum_time_Lazy[1][i]],\n",
    "        \"LazyPRM Erfolgreich \": [sum_time_Lazy[2][i]],\n",
    "    }\n",
    "\n",
    "    df = pd.DataFrame(data)\n",
    "\n",
    "    # Append DataFrame to list\n",
    "    result_frames.append(df)\n",
    "\n",
    "final_df = pd.concat(result_frames, ignore_index=True)\n",
    "print(type(final_df))\n",
    "\n",
    "# Write DataFrame to Excel\n",
    "final_df.to_excel(\"Auswertung_\" + str(time.time()) + \".xlsx\", index=False)\n"
   ]
  }
 ],
 "metadata": {
  "kernelspec": {
   "display_name": "Python 3 (ipykernel)",
   "language": "python",
   "name": "python3"
  },
  "language_info": {
   "codemirror_mode": {
    "name": "ipython",
    "version": 3
   },
   "file_extension": ".py",
   "mimetype": "text/x-python",
   "name": "python",
   "nbconvert_exporter": "python",
   "pygments_lexer": "ipython3",
   "version": "3.11.6"
  }
 },
 "nbformat": 4,
 "nbformat_minor": 4
}
