{
 "cells": [
  {
   "cell_type": "markdown",
   "id": "d07ba628-123d-42c0-bf4a-06a1bf5a885a",
   "metadata": {},
   "source": [
    "Example Profiling\n",
    "==============================\n",
    "\n",
    "\n",
    "\n",
    "Example using cProfile/pstats\n",
    "-----------------------------\n",
    "\n",
    "Following an example how to profile the algorithm using https://docs.python.org/3/library/profile.html\n"
   ]
  },
  {
   "cell_type": "code",
   "execution_count": 1,
   "id": "6866714d-538a-48eb-ad09-14a50de4697c",
   "metadata": {
    "collapsed": false,
    "jupyter": {
     "outputs_hidden": false
    },
    "tags": []
   },
   "outputs": [
    {
     "name": "stdout",
     "output_type": "stream",
     "text": [
      "[<IPBenchmark.Benchmark object at 0x7fb7950dd650>, <IPBenchmark.Benchmark object at 0x7fb794fb6f50>, <IPBenchmark.Benchmark object at 0x7fb794fb7310>, <IPBenchmark.Benchmark object at 0x7fb794fb7a50>, <IPBenchmark.Benchmark object at 0x7fb794fcc710>]\n"
     ]
    }
   ],
   "source": [
    "#from IPAStar import AStar\n",
    "#from IPVISAStar import aStarVisualize\n",
    "import IPTestSuite\n",
    "import IPLazyPRM_Roundtrip\n",
    "import IPVisibilityPRM_Roundtrip\n",
    "import IPBasicPRM_Roundtrip\n",
    "import IPVISVisibilityPRM\n",
    "import HelperClass\n",
    "import IPPerfMonitor\n",
    "\n",
    "from matplotlib import pylab as plt\n",
    "\n",
    "benchList = IPTestSuite.benchList\n",
    "print(benchList)\n",
    "# AStar and first environment\n",
    "'''\n",
    "astar = AStar(benchList[0].collisionChecker)\n",
    "astarConfig = dict()\n",
    "astarConfig[\"w\"] = 0.5\n",
    "astarConfig[\"heuristic\"]  = \"manhattan\"\n",
    "'''\n",
    "# selber hinzugefügt\n",
    "visbilityConfig = dict()\n",
    "visbilityConfig[\"ntry\"] = 300\n",
    "#plannerFactory[\"visibilityPRM\"] = [IPVisibilityPRM_Roundtrip.VisPRM, visbilityConfig, IPVISVisibilityPRM.visibilityPRMVisualize ]\n",
    "\n",
    "start = benchList[0].startList\n",
    "goal = benchList[0].goalList\n",
    "\n",
    "plannerFactory = dict()\n",
    "\n",
    "# basicConfig = dict()\n",
    "# basicConfig[\"radius\"] = 3\n",
    "# basicConfig[\"numNodes\"] = 200\n",
    "# plannerFactory[\"basePRM\"] = [IPBasicPRM_Roundtrip.BasicPRM, basicConfig, IPVISBasicPRM.basicPRMVisualize]\n",
    "\n",
    "visbilityConfig = dict()\n",
    "visbilityConfig[\"ntry\"] = 300\n",
    "plannerFactory[\"visibilityPRM\"] = [IPVisibilityPRM_Roundtrip.VisPRM, visbilityConfig, IPVISVisibilityPRM.visibilityPRMVisualize ]\n",
    "\n",
    "# lazyConfig = dict()\n",
    "# lazyConfig[\"initialRoadmapSize\"] = 50\n",
    "# lazyConfig[\"updateRoadmapSize\"]  = 2\n",
    "# lazyConfig[\"kNearest\"] = 10\n",
    "# plannerFactory[\"lazyPRM\"] = [IPLazyPRM_Roundtrip.LazyPRM, lazyConfig, IPVISLazyPRM.lazyPRMVisualize]"
   ]
  },
  {
   "cell_type": "code",
   "execution_count": 2,
   "id": "ea0b93c6-ef4b-47bb-a93d-bf7353416ab7",
   "metadata": {
    "tags": []
   },
   "outputs": [],
   "source": [
    "class ResultCollection (object):\n",
    "    \n",
    "    def __init__(self, plannerFactoryName, planner, benchmark, solution, perfDataFrame):\n",
    "        self.plannerFactoryName = plannerFactoryName\n",
    "        self.planner = planner\n",
    "        self.benchmark = benchmark\n",
    "        self.solution = solution\n",
    "        self.perfDataFrame = perfDataFrame"
   ]
  },
  {
   "cell_type": "code",
   "execution_count": 3,
   "id": "81ac144e-547b-40fa-81d4-b360f929a7fb",
   "metadata": {
    "tags": []
   },
   "outputs": [
    {
     "data": {
      "text/html": [
       "<font color='yellow'>visibilityPRM [<class 'IPVisibilityPRM_Roundtrip.VisPRM'>, {'ntry': 300}, <function visibilityPRMVisualize at 0x7fb794fbb6a0>]</font>"
      ],
      "text/plain": [
       "<IPython.core.display.HTML object>"
      ]
     },
     "metadata": {},
     "output_type": "display_data"
    },
    {
     "data": {
      "text/html": [
       "<font color='yellow'>Planning: visibilityPRM - Trap</font>"
      ],
      "text/plain": [
       "<IPython.core.display.HTML object>"
      ]
     },
     "metadata": {},
     "output_type": "display_data"
    },
    {
     "name": "stdout",
     "output_type": "stream",
     "text": [
      "Ziel Interim:[[3, 10], 7.810249675906654, 'interim0']\n",
      "Try Path: ['start', 13, 2, 'interim0']\n",
      "\n",
      "While Schleife beginnt\n",
      "TRYPATH : ['start', 13, 2, 'interim0']\n",
      "\n",
      "For-Schleife beginnt\n",
      "Aktueller Node (step):  start\n"
     ]
    },
    {
     "data": {
      "text/html": [
       "<font color='Dodgerblue'>Aktueller Pfad: ['start']</font>"
      ],
      "text/plain": [
       "<IPython.core.display.HTML object>"
      ]
     },
     "metadata": {},
     "output_type": "display_data"
    },
    {
     "name": "stdout",
     "output_type": "stream",
     "text": [
      "Nächstes Ziel-Interim:  [[3, 10], 7.810249675906654, 'interim0']\n",
      "\n",
      "For-Schleife beginnt\n",
      "Aktueller Node (step):  13\n"
     ]
    },
    {
     "data": {
      "text/html": [
       "<font color='Dodgerblue'>Aktueller Pfad: ['start', 13]</font>"
      ],
      "text/plain": [
       "<IPython.core.display.HTML object>"
      ]
     },
     "metadata": {},
     "output_type": "display_data"
    },
    {
     "name": "stdout",
     "output_type": "stream",
     "text": [
      "Nächstes Ziel-Interim:  [[3, 10], 10.340089794589494, 'interim0']\n",
      "NewResultInterim !!!=== ResultInterim\n",
      "Neuer Trypath:  [2, 'interim0']\n",
      "\n",
      "While Schleife beginnt\n",
      "TRYPATH : [2, 'interim0']\n",
      "\n",
      "For-Schleife beginnt\n",
      "Aktueller Node (step):  2\n"
     ]
    },
    {
     "data": {
      "text/html": [
       "<font color='Dodgerblue'>Aktueller Pfad: ['start', 13, 2]</font>"
      ],
      "text/plain": [
       "<IPython.core.display.HTML object>"
      ]
     },
     "metadata": {},
     "output_type": "display_data"
    },
    {
     "name": "stdout",
     "output_type": "stream",
     "text": [
      "Nächstes Ziel-Interim:  [[3, 10], 10.387441100315675, 'interim0']\n",
      "NewResultInterim !!!=== ResultInterim\n",
      "Neuer Trypath:  ['interim0']\n",
      "\n",
      "While Schleife beginnt\n",
      "TRYPATH : ['interim0']\n",
      "\n",
      "For-Schleife beginnt\n",
      "Aktueller Node (step):  interim0\n"
     ]
    },
    {
     "data": {
      "text/html": [
       "<font color='Dodgerblue'>Aktueller Pfad: ['start', 13, 2, 'interim0']</font>"
      ],
      "text/plain": [
       "<IPython.core.display.HTML object>"
      ]
     },
     "metadata": {},
     "output_type": "display_data"
    },
    {
     "name": "stdout",
     "output_type": "stream",
     "text": [
      "Nächstes Ziel-Interim:  [[3, 10], 0.0, 'interim0']\n",
      "Ziel-Interim erreicht\n",
      "Neues Ziel-Interim:  [[3, 3], 7.0, 'interim2']\n",
      "Neuer Trypath:  [2, 3, 0, 'interim2']\n",
      "\n",
      "While Schleife beginnt\n",
      "TRYPATH : [2, 3, 0, 'interim2']\n",
      "\n",
      "For-Schleife beginnt\n",
      "Aktueller Node (step):  2\n"
     ]
    },
    {
     "data": {
      "text/html": [
       "<font color='Dodgerblue'>Aktueller Pfad: ['start', 13, 2, 'interim0', 2]</font>"
      ],
      "text/plain": [
       "<IPython.core.display.HTML object>"
      ]
     },
     "metadata": {},
     "output_type": "display_data"
    },
    {
     "name": "stdout",
     "output_type": "stream",
     "text": [
      "Nächstes Ziel-Interim:  [[3, 3], 17.263924028900703, 'interim2']\n",
      "NewResultInterim !!!=== ResultInterim\n",
      "Neuer Trypath:  [3, 0, 'interim2']\n",
      "\n",
      "While Schleife beginnt\n",
      "TRYPATH : [3, 0, 'interim2']\n",
      "\n",
      "For-Schleife beginnt\n",
      "Aktueller Node (step):  3\n"
     ]
    },
    {
     "data": {
      "text/html": [
       "<font color='Dodgerblue'>Aktueller Pfad: ['start', 13, 2, 'interim0', 2, 3]</font>"
      ],
      "text/plain": [
       "<IPython.core.display.HTML object>"
      ]
     },
     "metadata": {},
     "output_type": "display_data"
    },
    {
     "name": "stdout",
     "output_type": "stream",
     "text": [
      "Nächstes Ziel-Interim:  [[20, 15], 5.778858175748392, 'interim3']\n",
      "NewResultInterim !!!=== ResultInterim\n",
      "Neuer Trypath:  ['interim3']\n",
      "\n",
      "While Schleife beginnt\n",
      "TRYPATH : ['interim3']\n",
      "\n",
      "For-Schleife beginnt\n",
      "Aktueller Node (step):  interim3\n"
     ]
    },
    {
     "data": {
      "text/html": [
       "<font color='Dodgerblue'>Aktueller Pfad: ['start', 13, 2, 'interim0', 2, 3, 'interim3']</font>"
      ],
      "text/plain": [
       "<IPython.core.display.HTML object>"
      ]
     },
     "metadata": {},
     "output_type": "display_data"
    },
    {
     "name": "stdout",
     "output_type": "stream",
     "text": [
      "Nächstes Ziel-Interim:  [[20, 15], 0.0, 'interim3']\n",
      "Ziel-Interim erreicht\n",
      "Neues Ziel-Interim:  [[22, 8], 7.280109889280518, 'interim1']\n",
      "Neuer Trypath:  [3, 0, 'interim1']\n",
      "\n",
      "While Schleife beginnt\n",
      "TRYPATH : [3, 0, 'interim1']\n",
      "\n",
      "For-Schleife beginnt\n",
      "Aktueller Node (step):  3\n"
     ]
    },
    {
     "data": {
      "text/html": [
       "<font color='Dodgerblue'>Aktueller Pfad: ['start', 13, 2, 'interim0', 2, 3, 'interim3', 3]</font>"
      ],
      "text/plain": [
       "<IPython.core.display.HTML object>"
      ]
     },
     "metadata": {},
     "output_type": "display_data"
    },
    {
     "name": "stdout",
     "output_type": "stream",
     "text": [
      "Nächstes Ziel-Interim:  [[22, 8], 13.05788470835613, 'interim1']\n",
      "NewResultInterim !!!=== ResultInterim\n",
      "Neuer Trypath:  [0, 'interim1']\n",
      "\n",
      "While Schleife beginnt\n",
      "TRYPATH : [0, 'interim1']\n",
      "\n",
      "For-Schleife beginnt\n",
      "Aktueller Node (step):  0\n"
     ]
    },
    {
     "data": {
      "text/html": [
       "<font color='Dodgerblue'>Aktueller Pfad: ['start', 13, 2, 'interim0', 2, 3, 'interim3', 3, 0]</font>"
      ],
      "text/plain": [
       "<IPython.core.display.HTML object>"
      ]
     },
     "metadata": {},
     "output_type": "display_data"
    },
    {
     "name": "stdout",
     "output_type": "stream",
     "text": [
      "Nächstes Ziel-Interim:  [[22, 8], 4.8389226626515915, 'interim1']\n",
      "NewResultInterim !!!=== ResultInterim\n",
      "Neuer Trypath:  ['interim1']\n",
      "\n",
      "While Schleife beginnt\n",
      "TRYPATH : ['interim1']\n",
      "\n",
      "For-Schleife beginnt\n",
      "Aktueller Node (step):  interim1\n"
     ]
    },
    {
     "data": {
      "text/html": [
       "<font color='Dodgerblue'>Aktueller Pfad: ['start', 13, 2, 'interim0', 2, 3, 'interim3', 3, 0, 'interim1']</font>"
      ],
      "text/plain": [
       "<IPython.core.display.HTML object>"
      ]
     },
     "metadata": {},
     "output_type": "display_data"
    },
    {
     "name": "stdout",
     "output_type": "stream",
     "text": [
      "Nächstes Ziel-Interim:  [[22, 8], 0.0, 'interim1']\n",
      "Ziel-Interim erreicht\n",
      "Neues Ziel-Interim:  [[10, 1], 13.892443989449804, 'interim4']\n",
      "Neuer Trypath:  [0, 'interim4']\n",
      "\n",
      "While Schleife beginnt\n",
      "TRYPATH : [0, 'interim4']\n",
      "\n",
      "For-Schleife beginnt\n",
      "Aktueller Node (step):  0\n"
     ]
    },
    {
     "data": {
      "text/html": [
       "<font color='Dodgerblue'>Aktueller Pfad: ['start', 13, 2, 'interim0', 2, 3, 'interim3', 3, 0, 'interim1', 0]</font>"
      ],
      "text/plain": [
       "<IPython.core.display.HTML object>"
      ]
     },
     "metadata": {},
     "output_type": "display_data"
    },
    {
     "name": "stdout",
     "output_type": "stream",
     "text": [
      "Nächstes Ziel-Interim:  [[10, 1], 10.14037280014953, 'interim4']\n",
      "NewResultInterim !!!=== ResultInterim\n",
      "Neuer Trypath:  ['interim4']\n",
      "\n",
      "While Schleife beginnt\n",
      "TRYPATH : ['interim4']\n",
      "\n",
      "For-Schleife beginnt\n",
      "Aktueller Node (step):  interim4\n"
     ]
    },
    {
     "data": {
      "text/html": [
       "<font color='Dodgerblue'>Aktueller Pfad: ['start', 13, 2, 'interim0', 2, 3, 'interim3', 3, 0, 'interim1', 0, 'interim4']</font>"
      ],
      "text/plain": [
       "<IPython.core.display.HTML object>"
      ]
     },
     "metadata": {},
     "output_type": "display_data"
    },
    {
     "name": "stdout",
     "output_type": "stream",
     "text": [
      "Nächstes Ziel-Interim:  [[10, 1], 0.0, 'interim4']\n",
      "Ziel-Interim erreicht\n",
      "Neues Ziel-Interim:  [[3, 3], 7.280109889280518, 'interim2']\n",
      "Neuer Trypath:  [0, 'interim2']\n",
      "\n",
      "While Schleife beginnt\n",
      "TRYPATH : [0, 'interim2']\n",
      "\n",
      "For-Schleife beginnt\n",
      "Aktueller Node (step):  0\n"
     ]
    },
    {
     "data": {
      "text/html": [
       "<font color='Dodgerblue'>Aktueller Pfad: ['start', 13, 2, 'interim0', 2, 3, 'interim3', 3, 0, 'interim1', 0, 'interim4', 0]</font>"
      ],
      "text/plain": [
       "<IPython.core.display.HTML object>"
      ]
     },
     "metadata": {},
     "output_type": "display_data"
    },
    {
     "name": "stdout",
     "output_type": "stream",
     "text": [
      "Nächstes Ziel-Interim:  [[3, 3], 16.788003005340517, 'interim2']\n",
      "NewResultInterim !!!=== ResultInterim\n",
      "Neuer Trypath:  ['interim2']\n",
      "\n",
      "While Schleife beginnt\n",
      "TRYPATH : ['interim2']\n",
      "\n",
      "For-Schleife beginnt\n",
      "Aktueller Node (step):  interim2\n"
     ]
    },
    {
     "data": {
      "text/html": [
       "<font color='Dodgerblue'>Aktueller Pfad: ['start', 13, 2, 'interim0', 2, 3, 'interim3', 3, 0, 'interim1', 0, 'interim4', 0, 'interim2']</font>"
      ],
      "text/plain": [
       "<IPython.core.display.HTML object>"
      ]
     },
     "metadata": {},
     "output_type": "display_data"
    },
    {
     "name": "stdout",
     "output_type": "stream",
     "text": [
      "Nächstes Ziel-Interim:  [[3, 3], 0.0, 'interim2']\n",
      "Ziel-Interim erreicht\n"
     ]
    },
    {
     "data": {
      "text/html": [
       "<font color='lawngreen'>Solution =  ['start', 13, 2, 'interim0', 2, 3, 'interim3', 3, 0, 'interim1', 0, 'interim4', 0, 'interim2']</font>"
      ],
      "text/plain": [
       "<IPython.core.display.HTML object>"
      ]
     },
     "metadata": {},
     "output_type": "display_data"
    },
    {
     "data": {
      "text/html": [
       "<font color='red'>PLANNING ERROR ! PLANNING ERROR ! PLANNING ERROR</font>"
      ],
      "text/plain": [
       "<IPython.core.display.HTML object>"
      ]
     },
     "metadata": {},
     "output_type": "display_data"
    },
    {
     "data": {
      "text/html": [
       "<font color='red'>module 'IPPerfMonitor' has no attribute 'dataFrame'</font>"
      ],
      "text/plain": [
       "<IPython.core.display.HTML object>"
      ]
     },
     "metadata": {},
     "output_type": "display_data"
    },
    {
     "data": {
      "text/html": [
       "<font color='yellow'>Planning: visibilityPRM - Bottleneck</font>"
      ],
      "text/plain": [
       "<IPython.core.display.HTML object>"
      ]
     },
     "metadata": {},
     "output_type": "display_data"
    },
    {
     "name": "stdout",
     "output_type": "stream",
     "text": [
      "Ziel Interim:[[4, 4], 11.0, 'interim2']\n",
      "Try Path: ['start', 3, 9, 0, 'interim2']\n",
      "\n",
      "While Schleife beginnt\n",
      "TRYPATH : ['start', 3, 9, 0, 'interim2']\n",
      "\n",
      "For-Schleife beginnt\n",
      "Aktueller Node (step):  start\n"
     ]
    },
    {
     "data": {
      "text/html": [
       "<font color='Dodgerblue'>Aktueller Pfad: ['start']</font>"
      ],
      "text/plain": [
       "<IPython.core.display.HTML object>"
      ]
     },
     "metadata": {},
     "output_type": "display_data"
    },
    {
     "name": "stdout",
     "output_type": "stream",
     "text": [
      "Nächstes Ziel-Interim:  [[4, 4], 11.0, 'interim2']\n",
      "\n",
      "For-Schleife beginnt\n",
      "Aktueller Node (step):  3\n"
     ]
    },
    {
     "data": {
      "text/html": [
       "<font color='Dodgerblue'>Aktueller Pfad: ['start', 3]</font>"
      ],
      "text/plain": [
       "<IPython.core.display.HTML object>"
      ]
     },
     "metadata": {},
     "output_type": "display_data"
    },
    {
     "name": "stdout",
     "output_type": "stream",
     "text": [
      "Nächstes Ziel-Interim:  [[4, 4], 11.270650973037675, 'interim2']\n",
      "NewResultInterim !!!=== ResultInterim\n",
      "Neuer Trypath:  [9, 0, 'interim2']\n",
      "\n",
      "While Schleife beginnt\n",
      "TRYPATH : [9, 0, 'interim2']\n",
      "\n",
      "For-Schleife beginnt\n",
      "Aktueller Node (step):  9\n"
     ]
    },
    {
     "data": {
      "text/html": [
       "<font color='Dodgerblue'>Aktueller Pfad: ['start', 3, 9]</font>"
      ],
      "text/plain": [
       "<IPython.core.display.HTML object>"
      ]
     },
     "metadata": {},
     "output_type": "display_data"
    },
    {
     "name": "stdout",
     "output_type": "stream",
     "text": [
      "Nächstes Ziel-Interim:  [[18, 16], 8.269252350870282, 'interim1']\n",
      "NewResultInterim !!!=== ResultInterim\n",
      "Neuer Trypath:  ['interim1']\n",
      "\n",
      "While Schleife beginnt\n",
      "TRYPATH : ['interim1']\n",
      "\n",
      "For-Schleife beginnt\n",
      "Aktueller Node (step):  interim1\n"
     ]
    },
    {
     "data": {
      "text/html": [
       "<font color='Dodgerblue'>Aktueller Pfad: ['start', 3, 9, 'interim1']</font>"
      ],
      "text/plain": [
       "<IPython.core.display.HTML object>"
      ]
     },
     "metadata": {},
     "output_type": "display_data"
    },
    {
     "name": "stdout",
     "output_type": "stream",
     "text": [
      "Nächstes Ziel-Interim:  [[18, 16], 0.0, 'interim1']\n",
      "Ziel-Interim erreicht\n",
      "Neues Ziel-Interim:  [[18, 3], 13.0, 'interim0']\n",
      "Neuer Trypath:  [9, 0, 'interim0']\n",
      "\n",
      "While Schleife beginnt\n",
      "TRYPATH : [9, 0, 'interim0']\n",
      "\n",
      "For-Schleife beginnt\n",
      "Aktueller Node (step):  9\n"
     ]
    },
    {
     "data": {
      "text/html": [
       "<font color='Dodgerblue'>Aktueller Pfad: ['start', 3, 9, 'interim1', 9]</font>"
      ],
      "text/plain": [
       "<IPython.core.display.HTML object>"
      ]
     },
     "metadata": {},
     "output_type": "display_data"
    },
    {
     "name": "stdout",
     "output_type": "stream",
     "text": [
      "Nächstes Ziel-Interim:  [[4, 4], 19.65563567997916, 'interim2']\n",
      "NewResultInterim !!!=== ResultInterim\n",
      "Neuer Trypath:  [0, 'interim2']\n",
      "\n",
      "While Schleife beginnt\n",
      "TRYPATH : [0, 'interim2']\n",
      "\n",
      "For-Schleife beginnt\n",
      "Aktueller Node (step):  0\n"
     ]
    },
    {
     "data": {
      "text/html": [
       "<font color='Dodgerblue'>Aktueller Pfad: ['start', 3, 9, 'interim1', 9, 0]</font>"
      ],
      "text/plain": [
       "<IPython.core.display.HTML object>"
      ]
     },
     "metadata": {},
     "output_type": "display_data"
    },
    {
     "name": "stdout",
     "output_type": "stream",
     "text": [
      "Nächstes Ziel-Interim:  [[18, 3], 9.636300842227042, 'interim0']\n",
      "NewResultInterim !!!=== ResultInterim\n",
      "Neuer Trypath:  ['interim0']\n",
      "\n",
      "While Schleife beginnt\n",
      "TRYPATH : ['interim0']\n",
      "\n",
      "For-Schleife beginnt\n",
      "Aktueller Node (step):  interim0\n"
     ]
    },
    {
     "data": {
      "text/html": [
       "<font color='Dodgerblue'>Aktueller Pfad: ['start', 3, 9, 'interim1', 9, 0, 'interim0']</font>"
      ],
      "text/plain": [
       "<IPython.core.display.HTML object>"
      ]
     },
     "metadata": {},
     "output_type": "display_data"
    },
    {
     "name": "stdout",
     "output_type": "stream",
     "text": [
      "Nächstes Ziel-Interim:  [[18, 3], 0.0, 'interim0']\n",
      "Ziel-Interim erreicht\n",
      "Neues Ziel-Interim:  [[18, 1], 2.0, 'interim3']\n",
      "Neuer Trypath:  [0, 'interim3']\n",
      "\n",
      "While Schleife beginnt\n",
      "TRYPATH : [0, 'interim3']\n",
      "\n",
      "For-Schleife beginnt\n",
      "Aktueller Node (step):  0\n"
     ]
    },
    {
     "data": {
      "text/html": [
       "<font color='Dodgerblue'>Aktueller Pfad: ['start', 3, 9, 'interim1', 9, 0, 'interim0', 0]</font>"
      ],
      "text/plain": [
       "<IPython.core.display.HTML object>"
      ]
     },
     "metadata": {},
     "output_type": "display_data"
    },
    {
     "name": "stdout",
     "output_type": "stream",
     "text": [
      "Nächstes Ziel-Interim:  [[4, 4], 10.312962739067732, 'interim2']\n",
      "NewResultInterim !!!=== ResultInterim\n",
      "Neuer Trypath:  ['interim2']\n",
      "\n",
      "While Schleife beginnt\n",
      "TRYPATH : ['interim2']\n",
      "\n",
      "For-Schleife beginnt\n",
      "Aktueller Node (step):  interim2\n"
     ]
    },
    {
     "data": {
      "text/html": [
       "<font color='Dodgerblue'>Aktueller Pfad: ['start', 3, 9, 'interim1', 9, 0, 'interim0', 0, 'interim2']</font>"
      ],
      "text/plain": [
       "<IPython.core.display.HTML object>"
      ]
     },
     "metadata": {},
     "output_type": "display_data"
    },
    {
     "name": "stdout",
     "output_type": "stream",
     "text": [
      "Nächstes Ziel-Interim:  [[4, 4], 0.0, 'interim2']\n",
      "Ziel-Interim erreicht\n",
      "Neues Ziel-Interim:  [[18, 1], 14.317821063276353, 'interim3']\n",
      "Neuer Trypath:  [0, 'interim3']\n",
      "\n",
      "While Schleife beginnt\n",
      "TRYPATH : [0, 'interim3']\n",
      "\n",
      "For-Schleife beginnt\n",
      "Aktueller Node (step):  0\n"
     ]
    },
    {
     "data": {
      "text/html": [
       "<font color='Dodgerblue'>Aktueller Pfad: ['start', 3, 9, 'interim1', 9, 0, 'interim0', 0, 'interim2', 0]</font>"
      ],
      "text/plain": [
       "<IPython.core.display.HTML object>"
      ]
     },
     "metadata": {},
     "output_type": "display_data"
    },
    {
     "name": "stdout",
     "output_type": "stream",
     "text": [
      "Nächstes Ziel-Interim:  [[18, 1], 11.268065875149166, 'interim3']\n",
      "NewResultInterim !!!=== ResultInterim\n",
      "Neuer Trypath:  ['interim3']\n",
      "\n",
      "While Schleife beginnt\n",
      "TRYPATH : ['interim3']\n",
      "\n",
      "For-Schleife beginnt\n",
      "Aktueller Node (step):  interim3\n"
     ]
    },
    {
     "data": {
      "text/html": [
       "<font color='Dodgerblue'>Aktueller Pfad: ['start', 3, 9, 'interim1', 9, 0, 'interim0', 0, 'interim2', 0, 'interim3']</font>"
      ],
      "text/plain": [
       "<IPython.core.display.HTML object>"
      ]
     },
     "metadata": {},
     "output_type": "display_data"
    },
    {
     "name": "stdout",
     "output_type": "stream",
     "text": [
      "Nächstes Ziel-Interim:  [[18, 1], 0.0, 'interim3']\n",
      "Ziel-Interim erreicht\n"
     ]
    },
    {
     "data": {
      "text/html": [
       "<font color='lawngreen'>Solution =  ['start', 3, 9, 'interim1', 9, 0, 'interim0', 0, 'interim2', 0, 'interim3']</font>"
      ],
      "text/plain": [
       "<IPython.core.display.HTML object>"
      ]
     },
     "metadata": {},
     "output_type": "display_data"
    },
    {
     "data": {
      "text/html": [
       "<font color='red'>PLANNING ERROR ! PLANNING ERROR ! PLANNING ERROR</font>"
      ],
      "text/plain": [
       "<IPython.core.display.HTML object>"
      ]
     },
     "metadata": {},
     "output_type": "display_data"
    },
    {
     "data": {
      "text/html": [
       "<font color='red'>module 'IPPerfMonitor' has no attribute 'dataFrame'</font>"
      ],
      "text/plain": [
       "<IPython.core.display.HTML object>"
      ]
     },
     "metadata": {},
     "output_type": "display_data"
    },
    {
     "data": {
      "text/html": [
       "<font color='yellow'>Planning: visibilityPRM - Fat bottleneck</font>"
      ],
      "text/plain": [
       "<IPython.core.display.HTML object>"
      ]
     },
     "metadata": {},
     "output_type": "display_data"
    },
    {
     "name": "stdout",
     "output_type": "stream",
     "text": [
      "Ziel Interim:[[18, 16], 14.866068747318506, 'interim2']\n",
      "Try Path: ['start', 60, 4, 'interim2']\n",
      "\n",
      "While Schleife beginnt\n",
      "TRYPATH : ['start', 60, 4, 'interim2']\n",
      "\n",
      "For-Schleife beginnt\n",
      "Aktueller Node (step):  start\n"
     ]
    },
    {
     "data": {
      "text/html": [
       "<font color='Dodgerblue'>Aktueller Pfad: ['start']</font>"
      ],
      "text/plain": [
       "<IPython.core.display.HTML object>"
      ]
     },
     "metadata": {},
     "output_type": "display_data"
    },
    {
     "name": "stdout",
     "output_type": "stream",
     "text": [
      "Nächstes Ziel-Interim:  [[18, 16], 14.866068747318506, 'interim2']\n",
      "\n",
      "For-Schleife beginnt\n",
      "Aktueller Node (step):  60\n"
     ]
    },
    {
     "data": {
      "text/html": [
       "<font color='Dodgerblue'>Aktueller Pfad: ['start', 60]</font>"
      ],
      "text/plain": [
       "<IPython.core.display.HTML object>"
      ]
     },
     "metadata": {},
     "output_type": "display_data"
    },
    {
     "name": "stdout",
     "output_type": "stream",
     "text": [
      "Nächstes Ziel-Interim:  [[18, 16], 7.4881509011207825, 'interim2']\n",
      "NewResultInterim !!!=== ResultInterim\n",
      "Neuer Trypath:  [4, 'interim2']\n",
      "\n",
      "While Schleife beginnt\n",
      "TRYPATH : [4, 'interim2']\n",
      "\n",
      "For-Schleife beginnt\n",
      "Aktueller Node (step):  4\n"
     ]
    },
    {
     "data": {
      "text/html": [
       "<font color='Dodgerblue'>Aktueller Pfad: ['start', 60, 4]</font>"
      ],
      "text/plain": [
       "<IPython.core.display.HTML object>"
      ]
     },
     "metadata": {},
     "output_type": "display_data"
    },
    {
     "name": "stdout",
     "output_type": "stream",
     "text": [
      "Nächstes Ziel-Interim:  [[18, 16], 2.8407241022816914, 'interim2']\n",
      "NewResultInterim !!!=== ResultInterim\n",
      "Neuer Trypath:  ['interim2']\n",
      "\n",
      "While Schleife beginnt\n",
      "TRYPATH : ['interim2']\n",
      "\n",
      "For-Schleife beginnt\n",
      "Aktueller Node (step):  interim2\n"
     ]
    },
    {
     "data": {
      "text/html": [
       "<font color='Dodgerblue'>Aktueller Pfad: ['start', 60, 4, 'interim2']</font>"
      ],
      "text/plain": [
       "<IPython.core.display.HTML object>"
      ]
     },
     "metadata": {},
     "output_type": "display_data"
    },
    {
     "name": "stdout",
     "output_type": "stream",
     "text": [
      "Nächstes Ziel-Interim:  [[18, 16], 0.0, 'interim2']\n",
      "Ziel-Interim erreicht\n",
      "Neues Ziel-Interim:  [[18, 4], 12.0, 'interim0']\n",
      "Neuer Trypath:  [4, 60, 41, 53, 'interim0']\n",
      "\n",
      "While Schleife beginnt\n",
      "TRYPATH : [4, 60, 41, 53, 'interim0']\n",
      "\n",
      "For-Schleife beginnt\n",
      "Aktueller Node (step):  4\n"
     ]
    },
    {
     "data": {
      "text/html": [
       "<font color='Dodgerblue'>Aktueller Pfad: ['start', 60, 4, 'interim2', 4]</font>"
      ],
      "text/plain": [
       "<IPython.core.display.HTML object>"
      ]
     },
     "metadata": {},
     "output_type": "display_data"
    },
    {
     "name": "stdout",
     "output_type": "stream",
     "text": [
      "Nächstes Ziel-Interim:  [[18, 4], 13.279528344375159, 'interim0']\n",
      "NewResultInterim !!!=== ResultInterim\n",
      "Neuer Trypath:  [60, 41, 53, 'interim0']\n",
      "\n",
      "While Schleife beginnt\n",
      "TRYPATH : [60, 41, 53, 'interim0']\n",
      "\n",
      "For-Schleife beginnt\n",
      "Aktueller Node (step):  60\n"
     ]
    },
    {
     "data": {
      "text/html": [
       "<font color='Dodgerblue'>Aktueller Pfad: ['start', 60, 4, 'interim2', 4, 60]</font>"
      ],
      "text/plain": [
       "<IPython.core.display.HTML object>"
      ]
     },
     "metadata": {},
     "output_type": "display_data"
    },
    {
     "name": "stdout",
     "output_type": "stream",
     "text": [
      "Nächstes Ziel-Interim:  [[4, 4], 15.172296739650843, 'interim1']\n",
      "NewResultInterim !!!=== ResultInterim\n",
      "Neuer Trypath:  [41, 53, 0, 'interim1']\n",
      "\n",
      "While Schleife beginnt\n",
      "TRYPATH : [41, 53, 0, 'interim1']\n",
      "\n",
      "For-Schleife beginnt\n",
      "Aktueller Node (step):  41\n"
     ]
    },
    {
     "data": {
      "text/html": [
       "<font color='Dodgerblue'>Aktueller Pfad: ['start', 60, 4, 'interim2', 4, 60, 41]</font>"
      ],
      "text/plain": [
       "<IPython.core.display.HTML object>"
      ]
     },
     "metadata": {},
     "output_type": "display_data"
    },
    {
     "name": "stdout",
     "output_type": "stream",
     "text": [
      "Nächstes Ziel-Interim:  [[18, 4], 12.100518718886134, 'interim0']\n",
      "NewResultInterim !!!=== ResultInterim\n",
      "Neuer Trypath:  [53, 'interim0']\n",
      "\n",
      "While Schleife beginnt\n",
      "TRYPATH : [53, 'interim0']\n",
      "\n",
      "For-Schleife beginnt\n",
      "Aktueller Node (step):  53\n"
     ]
    },
    {
     "data": {
      "text/html": [
       "<font color='Dodgerblue'>Aktueller Pfad: ['start', 60, 4, 'interim2', 4, 60, 41, 53]</font>"
      ],
      "text/plain": [
       "<IPython.core.display.HTML object>"
      ]
     },
     "metadata": {},
     "output_type": "display_data"
    },
    {
     "name": "stdout",
     "output_type": "stream",
     "text": [
      "Nächstes Ziel-Interim:  [[18, 1], 6.594708201898072, 'interim3']\n",
      "NewResultInterim !!!=== ResultInterim\n",
      "Neuer Trypath:  ['interim3']\n",
      "\n",
      "While Schleife beginnt\n",
      "TRYPATH : ['interim3']\n",
      "\n",
      "For-Schleife beginnt\n",
      "Aktueller Node (step):  interim3\n"
     ]
    },
    {
     "data": {
      "text/html": [
       "<font color='Dodgerblue'>Aktueller Pfad: ['start', 60, 4, 'interim2', 4, 60, 41, 53, 'interim3']</font>"
      ],
      "text/plain": [
       "<IPython.core.display.HTML object>"
      ]
     },
     "metadata": {},
     "output_type": "display_data"
    },
    {
     "name": "stdout",
     "output_type": "stream",
     "text": [
      "Nächstes Ziel-Interim:  [[18, 1], 0.0, 'interim3']\n",
      "Ziel-Interim erreicht\n",
      "Neues Ziel-Interim:  [[18, 4], 3.0, 'interim0']\n",
      "Neuer Trypath:  [53, 'interim0']\n",
      "\n",
      "While Schleife beginnt\n",
      "TRYPATH : [53, 'interim0']\n",
      "\n",
      "For-Schleife beginnt\n",
      "Aktueller Node (step):  53\n"
     ]
    },
    {
     "data": {
      "text/html": [
       "<font color='Dodgerblue'>Aktueller Pfad: ['start', 60, 4, 'interim2', 4, 60, 41, 53, 'interim3', 53]</font>"
      ],
      "text/plain": [
       "<IPython.core.display.HTML object>"
      ]
     },
     "metadata": {},
     "output_type": "display_data"
    },
    {
     "name": "stdout",
     "output_type": "stream",
     "text": [
      "Nächstes Ziel-Interim:  [[18, 4], 7.509724217842308, 'interim0']\n",
      "NewResultInterim !!!=== ResultInterim\n",
      "Neuer Trypath:  ['interim0']\n",
      "\n",
      "While Schleife beginnt\n",
      "TRYPATH : ['interim0']\n",
      "\n",
      "For-Schleife beginnt\n",
      "Aktueller Node (step):  interim0\n"
     ]
    },
    {
     "data": {
      "text/html": [
       "<font color='Dodgerblue'>Aktueller Pfad: ['start', 60, 4, 'interim2', 4, 60, 41, 53, 'interim3', 53, 'interim0']</font>"
      ],
      "text/plain": [
       "<IPython.core.display.HTML object>"
      ]
     },
     "metadata": {},
     "output_type": "display_data"
    },
    {
     "name": "stdout",
     "output_type": "stream",
     "text": [
      "Nächstes Ziel-Interim:  [[18, 4], 0.0, 'interim0']\n",
      "Ziel-Interim erreicht\n",
      "Neues Ziel-Interim:  [[4, 4], 14.0, 'interim1']\n",
      "Neuer Trypath:  [53, 0, 'interim1']\n",
      "\n",
      "While Schleife beginnt\n",
      "TRYPATH : [53, 0, 'interim1']\n",
      "\n",
      "For-Schleife beginnt\n",
      "Aktueller Node (step):  53\n"
     ]
    },
    {
     "data": {
      "text/html": [
       "<font color='Dodgerblue'>Aktueller Pfad: ['start', 60, 4, 'interim2', 4, 60, 41, 53, 'interim3', 53, 'interim0', 53]</font>"
      ],
      "text/plain": [
       "<IPython.core.display.HTML object>"
      ]
     },
     "metadata": {},
     "output_type": "display_data"
    },
    {
     "name": "stdout",
     "output_type": "stream",
     "text": [
      "Nächstes Ziel-Interim:  [[4, 4], 8.285283507654059, 'interim1']\n",
      "NewResultInterim !!!=== ResultInterim\n",
      "Neuer Trypath:  [0, 'interim1']\n",
      "\n",
      "While Schleife beginnt\n",
      "TRYPATH : [0, 'interim1']\n",
      "\n",
      "For-Schleife beginnt\n",
      "Aktueller Node (step):  0\n"
     ]
    },
    {
     "data": {
      "text/html": [
       "<font color='Dodgerblue'>Aktueller Pfad: ['start', 60, 4, 'interim2', 4, 60, 41, 53, 'interim3', 53, 'interim0', 53, 0]</font>"
      ],
      "text/plain": [
       "<IPython.core.display.HTML object>"
      ]
     },
     "metadata": {},
     "output_type": "display_data"
    },
    {
     "name": "stdout",
     "output_type": "stream",
     "text": [
      "Nächstes Ziel-Interim:  [[4, 4], 3.2150503814563116, 'interim1']\n",
      "NewResultInterim !!!=== ResultInterim\n",
      "Neuer Trypath:  ['interim1']\n",
      "\n",
      "While Schleife beginnt\n",
      "TRYPATH : ['interim1']\n",
      "\n",
      "For-Schleife beginnt\n",
      "Aktueller Node (step):  interim1\n"
     ]
    },
    {
     "data": {
      "text/html": [
       "<font color='Dodgerblue'>Aktueller Pfad: ['start', 60, 4, 'interim2', 4, 60, 41, 53, 'interim3', 53, 'interim0', 53, 0, 'interim1']</font>"
      ],
      "text/plain": [
       "<IPython.core.display.HTML object>"
      ]
     },
     "metadata": {},
     "output_type": "display_data"
    },
    {
     "name": "stdout",
     "output_type": "stream",
     "text": [
      "Nächstes Ziel-Interim:  [[4, 4], 0.0, 'interim1']\n",
      "Ziel-Interim erreicht\n"
     ]
    },
    {
     "data": {
      "text/html": [
       "<font color='lawngreen'>Solution =  ['start', 60, 4, 'interim2', 4, 60, 41, 53, 'interim3', 53, 'interim0', 53, 0, 'interim1']</font>"
      ],
      "text/plain": [
       "<IPython.core.display.HTML object>"
      ]
     },
     "metadata": {},
     "output_type": "display_data"
    },
    {
     "data": {
      "text/html": [
       "<font color='red'>PLANNING ERROR ! PLANNING ERROR ! PLANNING ERROR</font>"
      ],
      "text/plain": [
       "<IPython.core.display.HTML object>"
      ]
     },
     "metadata": {},
     "output_type": "display_data"
    },
    {
     "data": {
      "text/html": [
       "<font color='red'>module 'IPPerfMonitor' has no attribute 'dataFrame'</font>"
      ],
      "text/plain": [
       "<IPython.core.display.HTML object>"
      ]
     },
     "metadata": {},
     "output_type": "display_data"
    },
    {
     "data": {
      "text/html": [
       "<font color='yellow'>Planning: visibilityPRM - B_rush</font>"
      ],
      "text/plain": [
       "<IPython.core.display.HTML object>"
      ]
     },
     "metadata": {},
     "output_type": "display_data"
    },
    {
     "name": "stdout",
     "output_type": "stream",
     "text": [
      "Ziel Interim:[[10, 10], 11.84440796325422, 'interim0']\n",
      "Try Path: ['start', 520, 522, 0, 8, 5, 'interim0']\n",
      "\n",
      "While Schleife beginnt\n",
      "TRYPATH : ['start', 520, 522, 0, 8, 5, 'interim0']\n",
      "\n",
      "For-Schleife beginnt\n",
      "Aktueller Node (step):  start\n"
     ]
    },
    {
     "data": {
      "text/html": [
       "<font color='Dodgerblue'>Aktueller Pfad: ['start']</font>"
      ],
      "text/plain": [
       "<IPython.core.display.HTML object>"
      ]
     },
     "metadata": {},
     "output_type": "display_data"
    },
    {
     "name": "stdout",
     "output_type": "stream",
     "text": [
      "Nächstes Ziel-Interim:  [[10, 10], 11.84440796325422, 'interim0']\n",
      "\n",
      "For-Schleife beginnt\n",
      "Aktueller Node (step):  520\n"
     ]
    },
    {
     "data": {
      "text/html": [
       "<font color='Dodgerblue'>Aktueller Pfad: ['start', 520]</font>"
      ],
      "text/plain": [
       "<IPython.core.display.HTML object>"
      ]
     },
     "metadata": {},
     "output_type": "display_data"
    },
    {
     "name": "stdout",
     "output_type": "stream",
     "text": [
      "Nächstes Ziel-Interim:  [[10, 10], 12.194125276990162, 'interim0']\n",
      "NewResultInterim !!!=== ResultInterim\n",
      "Neuer Trypath:  [522, 0, 8, 5, 'interim0']\n",
      "\n",
      "While Schleife beginnt\n",
      "TRYPATH : [522, 0, 8, 5, 'interim0']\n",
      "\n",
      "For-Schleife beginnt\n",
      "Aktueller Node (step):  522\n"
     ]
    },
    {
     "data": {
      "text/html": [
       "<font color='Dodgerblue'>Aktueller Pfad: ['start', 520, 522]</font>"
      ],
      "text/plain": [
       "<IPython.core.display.HTML object>"
      ]
     },
     "metadata": {},
     "output_type": "display_data"
    },
    {
     "name": "stdout",
     "output_type": "stream",
     "text": [
      "Nächstes Ziel-Interim:  [[20, 18], 7.635243391419272, 'interim2']\n",
      "NewResultInterim !!!=== ResultInterim\n",
      "Neuer Trypath:  [0, 40, 18, 'interim2']\n",
      "\n",
      "While Schleife beginnt\n",
      "TRYPATH : [0, 40, 18, 'interim2']\n",
      "\n",
      "For-Schleife beginnt\n",
      "Aktueller Node (step):  0\n"
     ]
    },
    {
     "data": {
      "text/html": [
       "<font color='Dodgerblue'>Aktueller Pfad: ['start', 520, 522, 0]</font>"
      ],
      "text/plain": [
       "<IPython.core.display.HTML object>"
      ]
     },
     "metadata": {},
     "output_type": "display_data"
    },
    {
     "name": "stdout",
     "output_type": "stream",
     "text": [
      "Nächstes Ziel-Interim:  [[10, 10], 6.345854102532449, 'interim0']\n",
      "NewResultInterim !!!=== ResultInterim\n",
      "Neuer Trypath:  [8, 5, 'interim0']\n",
      "\n",
      "While Schleife beginnt\n",
      "TRYPATH : [8, 5, 'interim0']\n",
      "\n",
      "For-Schleife beginnt\n",
      "Aktueller Node (step):  8\n"
     ]
    },
    {
     "data": {
      "text/html": [
       "<font color='Dodgerblue'>Aktueller Pfad: ['start', 520, 522, 0, 8]</font>"
      ],
      "text/plain": [
       "<IPython.core.display.HTML object>"
      ]
     },
     "metadata": {},
     "output_type": "display_data"
    },
    {
     "name": "stdout",
     "output_type": "stream",
     "text": [
      "Nächstes Ziel-Interim:  [[10, 10], 7.958068956668154, 'interim0']\n",
      "NewResultInterim !!!=== ResultInterim\n",
      "Neuer Trypath:  [5, 'interim0']\n",
      "\n",
      "While Schleife beginnt\n",
      "TRYPATH : [5, 'interim0']\n",
      "\n",
      "For-Schleife beginnt\n",
      "Aktueller Node (step):  5\n"
     ]
    },
    {
     "data": {
      "text/html": [
       "<font color='Dodgerblue'>Aktueller Pfad: ['start', 520, 522, 0, 8, 5]</font>"
      ],
      "text/plain": [
       "<IPython.core.display.HTML object>"
      ]
     },
     "metadata": {},
     "output_type": "display_data"
    },
    {
     "name": "stdout",
     "output_type": "stream",
     "text": [
      "Nächstes Ziel-Interim:  [[10, 10], 1.3275659461926936, 'interim0']\n",
      "NewResultInterim !!!=== ResultInterim\n",
      "Neuer Trypath:  ['interim0']\n",
      "\n",
      "While Schleife beginnt\n",
      "TRYPATH : ['interim0']\n",
      "\n",
      "For-Schleife beginnt\n",
      "Aktueller Node (step):  interim0\n"
     ]
    },
    {
     "data": {
      "text/html": [
       "<font color='Dodgerblue'>Aktueller Pfad: ['start', 520, 522, 0, 8, 5, 'interim0']</font>"
      ],
      "text/plain": [
       "<IPython.core.display.HTML object>"
      ]
     },
     "metadata": {},
     "output_type": "display_data"
    },
    {
     "name": "stdout",
     "output_type": "stream",
     "text": [
      "Nächstes Ziel-Interim:  [[10, 10], 0.0, 'interim0']\n",
      "Ziel-Interim erreicht\n",
      "Neues Ziel-Interim:  [[17.25, 10], 7.25, 'interim3']\n",
      "Neuer Trypath:  [5, 117, 'interim3']\n",
      "\n",
      "While Schleife beginnt\n",
      "TRYPATH : [5, 117, 'interim3']\n",
      "\n",
      "For-Schleife beginnt\n",
      "Aktueller Node (step):  5\n"
     ]
    },
    {
     "data": {
      "text/html": [
       "<font color='Dodgerblue'>Aktueller Pfad: ['start', 520, 522, 0, 8, 5, 'interim0', 5]</font>"
      ],
      "text/plain": [
       "<IPython.core.display.HTML object>"
      ]
     },
     "metadata": {},
     "output_type": "display_data"
    },
    {
     "name": "stdout",
     "output_type": "stream",
     "text": [
      "Nächstes Ziel-Interim:  [[17.25, 10], 6.710369702268583, 'interim3']\n",
      "NewResultInterim !!!=== ResultInterim\n",
      "Neuer Trypath:  [117, 'interim3']\n",
      "\n",
      "While Schleife beginnt\n",
      "TRYPATH : [117, 'interim3']\n",
      "\n",
      "For-Schleife beginnt\n",
      "Aktueller Node (step):  117\n"
     ]
    },
    {
     "data": {
      "text/html": [
       "<font color='Dodgerblue'>Aktueller Pfad: ['start', 520, 522, 0, 8, 5, 'interim0', 5, 117]</font>"
      ],
      "text/plain": [
       "<IPython.core.display.HTML object>"
      ]
     },
     "metadata": {},
     "output_type": "display_data"
    },
    {
     "name": "stdout",
     "output_type": "stream",
     "text": [
      "Nächstes Ziel-Interim:  [[17.25, 10], 2.048784990725215, 'interim3']\n",
      "NewResultInterim !!!=== ResultInterim\n",
      "Neuer Trypath:  ['interim3']\n",
      "\n",
      "While Schleife beginnt\n",
      "TRYPATH : ['interim3']\n",
      "\n",
      "For-Schleife beginnt\n",
      "Aktueller Node (step):  interim3\n"
     ]
    },
    {
     "data": {
      "text/html": [
       "<font color='Dodgerblue'>Aktueller Pfad: ['start', 520, 522, 0, 8, 5, 'interim0', 5, 117, 'interim3']</font>"
      ],
      "text/plain": [
       "<IPython.core.display.HTML object>"
      ]
     },
     "metadata": {},
     "output_type": "display_data"
    },
    {
     "name": "stdout",
     "output_type": "stream",
     "text": [
      "Nächstes Ziel-Interim:  [[17.25, 10], 0.0, 'interim3']\n",
      "Ziel-Interim erreicht\n",
      "Neues Ziel-Interim:  [[15, 2], 8.31038506929733, 'interim1']\n",
      "Neuer Trypath:  [117, 2, 135, 'interim1']\n",
      "\n",
      "While Schleife beginnt\n",
      "TRYPATH : [117, 2, 135, 'interim1']\n",
      "\n",
      "For-Schleife beginnt\n",
      "Aktueller Node (step):  117\n"
     ]
    },
    {
     "data": {
      "text/html": [
       "<font color='Dodgerblue'>Aktueller Pfad: ['start', 520, 522, 0, 8, 5, 'interim0', 5, 117, 'interim3', 117]</font>"
      ],
      "text/plain": [
       "<IPython.core.display.HTML object>"
      ]
     },
     "metadata": {},
     "output_type": "display_data"
    },
    {
     "name": "stdout",
     "output_type": "stream",
     "text": [
      "Nächstes Ziel-Interim:  [[15, 2], 6.416438977561674, 'interim1']\n",
      "NewResultInterim !!!=== ResultInterim\n",
      "Neuer Trypath:  [2, 135, 'interim1']\n",
      "\n",
      "While Schleife beginnt\n",
      "TRYPATH : [2, 135, 'interim1']\n",
      "\n",
      "For-Schleife beginnt\n",
      "Aktueller Node (step):  2\n"
     ]
    },
    {
     "data": {
      "text/html": [
       "<font color='Dodgerblue'>Aktueller Pfad: ['start', 520, 522, 0, 8, 5, 'interim0', 5, 117, 'interim3', 117, 2]</font>"
      ],
      "text/plain": [
       "<IPython.core.display.HTML object>"
      ]
     },
     "metadata": {},
     "output_type": "display_data"
    },
    {
     "name": "stdout",
     "output_type": "stream",
     "text": [
      "Nächstes Ziel-Interim:  [[15, 2], 4.248839678224589, 'interim1']\n",
      "NewResultInterim !!!=== ResultInterim\n",
      "Neuer Trypath:  [135, 'interim1']\n",
      "\n",
      "While Schleife beginnt\n",
      "TRYPATH : [135, 'interim1']\n",
      "\n",
      "For-Schleife beginnt\n",
      "Aktueller Node (step):  135\n"
     ]
    },
    {
     "data": {
      "text/html": [
       "<font color='Dodgerblue'>Aktueller Pfad: ['start', 520, 522, 0, 8, 5, 'interim0', 5, 117, 'interim3', 117, 2, 135]</font>"
      ],
      "text/plain": [
       "<IPython.core.display.HTML object>"
      ]
     },
     "metadata": {},
     "output_type": "display_data"
    },
    {
     "name": "stdout",
     "output_type": "stream",
     "text": [
      "Nächstes Ziel-Interim:  [[15, 2], 2.991202155532532, 'interim1']\n",
      "NewResultInterim !!!=== ResultInterim\n",
      "Neuer Trypath:  ['interim1']\n",
      "\n",
      "While Schleife beginnt\n",
      "TRYPATH : ['interim1']\n",
      "\n",
      "For-Schleife beginnt\n",
      "Aktueller Node (step):  interim1\n"
     ]
    },
    {
     "data": {
      "text/html": [
       "<font color='Dodgerblue'>Aktueller Pfad: ['start', 520, 522, 0, 8, 5, 'interim0', 5, 117, 'interim3', 117, 2, 135, 'interim1']</font>"
      ],
      "text/plain": [
       "<IPython.core.display.HTML object>"
      ]
     },
     "metadata": {},
     "output_type": "display_data"
    },
    {
     "name": "stdout",
     "output_type": "stream",
     "text": [
      "Nächstes Ziel-Interim:  [[15, 2], 0.0, 'interim1']\n",
      "Ziel-Interim erreicht\n",
      "Neues Ziel-Interim:  [[20, 18], 16.76305461424021, 'interim2']\n",
      "Neuer Trypath:  [135, 2, 117, 5, 8, 0, 40, 18, 'interim2']\n",
      "\n",
      "While Schleife beginnt\n",
      "TRYPATH : [135, 2, 117, 5, 8, 0, 40, 18, 'interim2']\n",
      "\n",
      "For-Schleife beginnt\n",
      "Aktueller Node (step):  135\n"
     ]
    },
    {
     "data": {
      "text/html": [
       "<font color='Dodgerblue'>Aktueller Pfad: ['start', 520, 522, 0, 8, 5, 'interim0', 5, 117, 'interim3', 117, 2, 135, 'interim1', 135]</font>"
      ],
      "text/plain": [
       "<IPython.core.display.HTML object>"
      ]
     },
     "metadata": {},
     "output_type": "display_data"
    },
    {
     "name": "stdout",
     "output_type": "stream",
     "text": [
      "Nächstes Ziel-Interim:  [[20, 18], 17.6917370418362, 'interim2']\n",
      "NewResultInterim !!!=== ResultInterim\n",
      "Neuer Trypath:  [2, 117, 5, 8, 0, 40, 18, 'interim2']\n",
      "\n",
      "While Schleife beginnt\n",
      "TRYPATH : [2, 117, 5, 8, 0, 40, 18, 'interim2']\n",
      "\n",
      "For-Schleife beginnt\n",
      "Aktueller Node (step):  2\n"
     ]
    },
    {
     "data": {
      "text/html": [
       "<font color='Dodgerblue'>Aktueller Pfad: ['start', 520, 522, 0, 8, 5, 'interim0', 5, 117, 'interim3', 117, 2, 135, 'interim1', 135, 2]</font>"
      ],
      "text/plain": [
       "<IPython.core.display.HTML object>"
      ]
     },
     "metadata": {},
     "output_type": "display_data"
    },
    {
     "name": "stdout",
     "output_type": "stream",
     "text": [
      "Nächstes Ziel-Interim:  [[20, 18], 14.587085911731693, 'interim2']\n",
      "NewResultInterim !!!=== ResultInterim\n",
      "Neuer Trypath:  [117, 5, 8, 0, 40, 18, 'interim2']\n",
      "\n",
      "While Schleife beginnt\n",
      "TRYPATH : [117, 5, 8, 0, 40, 18, 'interim2']\n",
      "\n",
      "For-Schleife beginnt\n",
      "Aktueller Node (step):  117\n"
     ]
    },
    {
     "data": {
      "text/html": [
       "<font color='Dodgerblue'>Aktueller Pfad: ['start', 520, 522, 0, 8, 5, 'interim0', 5, 117, 'interim3', 117, 2, 135, 'interim1', 135, 2, 117]</font>"
      ],
      "text/plain": [
       "<IPython.core.display.HTML object>"
      ]
     },
     "metadata": {},
     "output_type": "display_data"
    },
    {
     "name": "stdout",
     "output_type": "stream",
     "text": [
      "Nächstes Ziel-Interim:  [[20, 18], 10.378444341286318, 'interim2']\n",
      "NewResultInterim !!!=== ResultInterim\n",
      "Neuer Trypath:  [5, 8, 0, 40, 18, 'interim2']\n",
      "\n",
      "While Schleife beginnt\n",
      "TRYPATH : [5, 8, 0, 40, 18, 'interim2']\n",
      "\n",
      "For-Schleife beginnt\n",
      "Aktueller Node (step):  5\n"
     ]
    },
    {
     "data": {
      "text/html": [
       "<font color='Dodgerblue'>Aktueller Pfad: ['start', 520, 522, 0, 8, 5, 'interim0', 5, 117, 'interim3', 117, 2, 135, 'interim1', 135, 2, 117, 5]</font>"
      ],
      "text/plain": [
       "<IPython.core.display.HTML object>"
      ]
     },
     "metadata": {},
     "output_type": "display_data"
    },
    {
     "name": "stdout",
     "output_type": "stream",
     "text": [
      "Nächstes Ziel-Interim:  [[20, 18], 13.09735469692136, 'interim2']\n",
      "NewResultInterim !!!=== ResultInterim\n",
      "Neuer Trypath:  [8, 0, 40, 18, 'interim2']\n",
      "\n",
      "While Schleife beginnt\n",
      "TRYPATH : [8, 0, 40, 18, 'interim2']\n",
      "\n",
      "For-Schleife beginnt\n",
      "Aktueller Node (step):  8\n"
     ]
    },
    {
     "data": {
      "text/html": [
       "<font color='Dodgerblue'>Aktueller Pfad: ['start', 520, 522, 0, 8, 5, 'interim0', 5, 117, 'interim3', 117, 2, 135, 'interim1', 135, 2, 117, 5, 8]</font>"
      ],
      "text/plain": [
       "<IPython.core.display.HTML object>"
      ]
     },
     "metadata": {},
     "output_type": "display_data"
    },
    {
     "name": "stdout",
     "output_type": "stream",
     "text": [
      "Nächstes Ziel-Interim:  [[20, 18], 14.017821871939482, 'interim2']\n",
      "NewResultInterim !!!=== ResultInterim\n",
      "Neuer Trypath:  [0, 40, 18, 'interim2']\n",
      "\n",
      "While Schleife beginnt\n",
      "TRYPATH : [0, 40, 18, 'interim2']\n",
      "\n",
      "For-Schleife beginnt\n",
      "Aktueller Node (step):  0\n"
     ]
    },
    {
     "data": {
      "text/html": [
       "<font color='Dodgerblue'>Aktueller Pfad: ['start', 520, 522, 0, 8, 5, 'interim0', 5, 117, 'interim3', 117, 2, 135, 'interim1', 135, 2, 117, 5, 8, 0]</font>"
      ],
      "text/plain": [
       "<IPython.core.display.HTML object>"
      ]
     },
     "metadata": {},
     "output_type": "display_data"
    },
    {
     "name": "stdout",
     "output_type": "stream",
     "text": [
      "Nächstes Ziel-Interim:  [[20, 18], 10.241853951854823, 'interim2']\n",
      "NewResultInterim !!!=== ResultInterim\n",
      "Neuer Trypath:  [40, 18, 'interim2']\n",
      "\n",
      "While Schleife beginnt\n",
      "TRYPATH : [40, 18, 'interim2']\n",
      "\n",
      "For-Schleife beginnt\n",
      "Aktueller Node (step):  40\n"
     ]
    },
    {
     "data": {
      "text/html": [
       "<font color='Dodgerblue'>Aktueller Pfad: ['start', 520, 522, 0, 8, 5, 'interim0', 5, 117, 'interim3', 117, 2, 135, 'interim1', 135, 2, 117, 5, 8, 0, 40]</font>"
      ],
      "text/plain": [
       "<IPython.core.display.HTML object>"
      ]
     },
     "metadata": {},
     "output_type": "display_data"
    },
    {
     "name": "stdout",
     "output_type": "stream",
     "text": [
      "Nächstes Ziel-Interim:  [[20, 18], 6.063642751955911, 'interim2']\n",
      "NewResultInterim !!!=== ResultInterim\n",
      "Neuer Trypath:  [18, 'interim2']\n",
      "\n",
      "While Schleife beginnt\n",
      "TRYPATH : [18, 'interim2']\n",
      "\n",
      "For-Schleife beginnt\n",
      "Aktueller Node (step):  18\n"
     ]
    },
    {
     "data": {
      "text/html": [
       "<font color='Dodgerblue'>Aktueller Pfad: ['start', 520, 522, 0, 8, 5, 'interim0', 5, 117, 'interim3', 117, 2, 135, 'interim1', 135, 2, 117, 5, 8, 0, 40, 18]</font>"
      ],
      "text/plain": [
       "<IPython.core.display.HTML object>"
      ]
     },
     "metadata": {},
     "output_type": "display_data"
    },
    {
     "name": "stdout",
     "output_type": "stream",
     "text": [
      "Nächstes Ziel-Interim:  [[20, 18], 2.592202515682909, 'interim2']\n",
      "NewResultInterim !!!=== ResultInterim\n",
      "Neuer Trypath:  ['interim2']\n",
      "\n",
      "While Schleife beginnt\n",
      "TRYPATH : ['interim2']\n",
      "\n",
      "For-Schleife beginnt\n",
      "Aktueller Node (step):  interim2\n"
     ]
    },
    {
     "data": {
      "text/html": [
       "<font color='Dodgerblue'>Aktueller Pfad: ['start', 520, 522, 0, 8, 5, 'interim0', 5, 117, 'interim3', 117, 2, 135, 'interim1', 135, 2, 117, 5, 8, 0, 40, 18, 'interim2']</font>"
      ],
      "text/plain": [
       "<IPython.core.display.HTML object>"
      ]
     },
     "metadata": {},
     "output_type": "display_data"
    },
    {
     "name": "stdout",
     "output_type": "stream",
     "text": [
      "Nächstes Ziel-Interim:  [[20, 18], 0.0, 'interim2']\n",
      "Ziel-Interim erreicht\n"
     ]
    },
    {
     "data": {
      "text/html": [
       "<font color='lawngreen'>Solution =  ['start', 520, 522, 0, 8, 5, 'interim0', 5, 117, 'interim3', 117, 2, 135, 'interim1', 135, 2, 117, 5, 8, 0, 40, 18, 'interim2']</font>"
      ],
      "text/plain": [
       "<IPython.core.display.HTML object>"
      ]
     },
     "metadata": {},
     "output_type": "display_data"
    },
    {
     "data": {
      "text/html": [
       "<font color='red'>PLANNING ERROR ! PLANNING ERROR ! PLANNING ERROR</font>"
      ],
      "text/plain": [
       "<IPython.core.display.HTML object>"
      ]
     },
     "metadata": {},
     "output_type": "display_data"
    },
    {
     "data": {
      "text/html": [
       "<font color='red'>module 'IPPerfMonitor' has no attribute 'dataFrame'</font>"
      ],
      "text/plain": [
       "<IPython.core.display.HTML object>"
      ]
     },
     "metadata": {},
     "output_type": "display_data"
    },
    {
     "data": {
      "text/html": [
       "<font color='yellow'>Planning: visibilityPRM - circle od death</font>"
      ],
      "text/plain": [
       "<IPython.core.display.HTML object>"
      ]
     },
     "metadata": {},
     "output_type": "display_data"
    },
    {
     "name": "stdout",
     "output_type": "stream",
     "text": [
      "Ziel Interim:[[10, 7.5], 2.5, 'interim1']\n",
      "Try Path: ['start', 10, 217, 1, 'interim1']\n",
      "\n",
      "While Schleife beginnt\n",
      "TRYPATH : ['start', 10, 217, 1, 'interim1']\n",
      "\n",
      "For-Schleife beginnt\n",
      "Aktueller Node (step):  start\n"
     ]
    },
    {
     "data": {
      "text/html": [
       "<font color='Dodgerblue'>Aktueller Pfad: ['start']</font>"
      ],
      "text/plain": [
       "<IPython.core.display.HTML object>"
      ]
     },
     "metadata": {},
     "output_type": "display_data"
    },
    {
     "name": "stdout",
     "output_type": "stream",
     "text": [
      "Nächstes Ziel-Interim:  [[10, 7.5], 2.5, 'interim1']\n",
      "\n",
      "For-Schleife beginnt\n",
      "Aktueller Node (step):  10\n"
     ]
    },
    {
     "data": {
      "text/html": [
       "<font color='Dodgerblue'>Aktueller Pfad: ['start', 10]</font>"
      ],
      "text/plain": [
       "<IPython.core.display.HTML object>"
      ]
     },
     "metadata": {},
     "output_type": "display_data"
    },
    {
     "name": "stdout",
     "output_type": "stream",
     "text": [
      "Nächstes Ziel-Interim:  [[10, 7.5], 4.1336921692546165, 'interim1']\n",
      "NewResultInterim !!!=== ResultInterim\n",
      "Neuer Trypath:  [217, 1, 'interim1']\n",
      "\n",
      "While Schleife beginnt\n",
      "TRYPATH : [217, 1, 'interim1']\n",
      "\n",
      "For-Schleife beginnt\n",
      "Aktueller Node (step):  217\n"
     ]
    },
    {
     "data": {
      "text/html": [
       "<font color='Dodgerblue'>Aktueller Pfad: ['start', 10, 217]</font>"
      ],
      "text/plain": [
       "<IPython.core.display.HTML object>"
      ]
     },
     "metadata": {},
     "output_type": "display_data"
    },
    {
     "name": "stdout",
     "output_type": "stream",
     "text": [
      "Nächstes Ziel-Interim:  [[10, 7.5], 5.763452540329008, 'interim1']\n",
      "NewResultInterim !!!=== ResultInterim\n",
      "Neuer Trypath:  [1, 'interim1']\n",
      "\n",
      "While Schleife beginnt\n",
      "TRYPATH : [1, 'interim1']\n",
      "\n",
      "For-Schleife beginnt\n",
      "Aktueller Node (step):  1\n"
     ]
    },
    {
     "data": {
      "text/html": [
       "<font color='Dodgerblue'>Aktueller Pfad: ['start', 10, 217, 1]</font>"
      ],
      "text/plain": [
       "<IPython.core.display.HTML object>"
      ]
     },
     "metadata": {},
     "output_type": "display_data"
    },
    {
     "name": "stdout",
     "output_type": "stream",
     "text": [
      "Nächstes Ziel-Interim:  [[10, 7.5], 0.8674205220913463, 'interim1']\n",
      "NewResultInterim !!!=== ResultInterim\n",
      "Neuer Trypath:  ['interim1']\n",
      "\n",
      "While Schleife beginnt\n",
      "TRYPATH : ['interim1']\n",
      "\n",
      "For-Schleife beginnt\n",
      "Aktueller Node (step):  interim1\n"
     ]
    },
    {
     "data": {
      "text/html": [
       "<font color='Dodgerblue'>Aktueller Pfad: ['start', 10, 217, 1, 'interim1']</font>"
      ],
      "text/plain": [
       "<IPython.core.display.HTML object>"
      ]
     },
     "metadata": {},
     "output_type": "display_data"
    },
    {
     "name": "stdout",
     "output_type": "stream",
     "text": [
      "Nächstes Ziel-Interim:  [[10, 7.5], 0.0, 'interim1']\n",
      "Ziel-Interim erreicht\n",
      "Neues Ziel-Interim:  [[10, 4.5], 3.0, 'interim0']\n",
      "Neuer Trypath:  [1, 217, 10, 124, 66, 116, 8, 160, 133, 169, 21, 'interim0']\n",
      "\n",
      "While Schleife beginnt\n",
      "TRYPATH : [1, 217, 10, 124, 66, 116, 8, 160, 133, 169, 21, 'interim0']\n",
      "\n",
      "For-Schleife beginnt\n",
      "Aktueller Node (step):  1\n"
     ]
    },
    {
     "data": {
      "text/html": [
       "<font color='Dodgerblue'>Aktueller Pfad: ['start', 10, 217, 1, 'interim1', 1]</font>"
      ],
      "text/plain": [
       "<IPython.core.display.HTML object>"
      ]
     },
     "metadata": {},
     "output_type": "display_data"
    },
    {
     "name": "stdout",
     "output_type": "stream",
     "text": [
      "Nächstes Ziel-Interim:  [[10, 4.5], 2.6525799611184895, 'interim0']\n",
      "NewResultInterim !!!=== ResultInterim\n",
      "Neuer Trypath:  [217, 10, 124, 66, 116, 8, 160, 133, 169, 21, 'interim0']\n",
      "\n",
      "While Schleife beginnt\n",
      "TRYPATH : [217, 10, 124, 66, 116, 8, 160, 133, 169, 21, 'interim0']\n",
      "\n",
      "For-Schleife beginnt\n",
      "Aktueller Node (step):  217\n"
     ]
    },
    {
     "data": {
      "text/html": [
       "<font color='Dodgerblue'>Aktueller Pfad: ['start', 10, 217, 1, 'interim1', 1, 217]</font>"
      ],
      "text/plain": [
       "<IPython.core.display.HTML object>"
      ]
     },
     "metadata": {},
     "output_type": "display_data"
    },
    {
     "name": "stdout",
     "output_type": "stream",
     "text": [
      "Nächstes Ziel-Interim:  [[10, 4.5], 7.7572615342399, 'interim0']\n",
      "NewResultInterim !!!=== ResultInterim\n",
      "Neuer Trypath:  [10, 124, 66, 116, 8, 160, 133, 169, 21, 'interim0']\n",
      "\n",
      "While Schleife beginnt\n",
      "TRYPATH : [10, 124, 66, 116, 8, 160, 133, 169, 21, 'interim0']\n",
      "\n",
      "For-Schleife beginnt\n",
      "Aktueller Node (step):  10\n"
     ]
    },
    {
     "data": {
      "text/html": [
       "<font color='Dodgerblue'>Aktueller Pfad: ['start', 10, 217, 1, 'interim1', 1, 217, 10]</font>"
      ],
      "text/plain": [
       "<IPython.core.display.HTML object>"
      ]
     },
     "metadata": {},
     "output_type": "display_data"
    },
    {
     "name": "stdout",
     "output_type": "stream",
     "text": [
      "Nächstes Ziel-Interim:  [[10, 4.5], 7.077203661934944, 'interim0']\n",
      "NewResultInterim !!!=== ResultInterim\n",
      "Neuer Trypath:  [124, 66, 116, 8, 160, 133, 169, 21, 'interim0']\n",
      "\n",
      "While Schleife beginnt\n",
      "TRYPATH : [124, 66, 116, 8, 160, 133, 169, 21, 'interim0']\n",
      "\n",
      "For-Schleife beginnt\n",
      "Aktueller Node (step):  124\n"
     ]
    },
    {
     "data": {
      "text/html": [
       "<font color='Dodgerblue'>Aktueller Pfad: ['start', 10, 217, 1, 'interim1', 1, 217, 10, 124]</font>"
      ],
      "text/plain": [
       "<IPython.core.display.HTML object>"
      ]
     },
     "metadata": {},
     "output_type": "display_data"
    },
    {
     "name": "stdout",
     "output_type": "stream",
     "text": [
      "Nächstes Ziel-Interim:  [[10, 4.5], 8.221796062925687, 'interim0']\n",
      "NewResultInterim !!!=== ResultInterim\n",
      "Neuer Trypath:  [66, 116, 8, 160, 133, 169, 21, 'interim0']\n",
      "\n",
      "While Schleife beginnt\n",
      "TRYPATH : [66, 116, 8, 160, 133, 169, 21, 'interim0']\n",
      "\n",
      "For-Schleife beginnt\n",
      "Aktueller Node (step):  66\n"
     ]
    },
    {
     "data": {
      "text/html": [
       "<font color='Dodgerblue'>Aktueller Pfad: ['start', 10, 217, 1, 'interim1', 1, 217, 10, 124, 66]</font>"
      ],
      "text/plain": [
       "<IPython.core.display.HTML object>"
      ]
     },
     "metadata": {},
     "output_type": "display_data"
    },
    {
     "name": "stdout",
     "output_type": "stream",
     "text": [
      "Nächstes Ziel-Interim:  [[10, 4.5], 11.073121868472688, 'interim0']\n",
      "NewResultInterim !!!=== ResultInterim\n",
      "Neuer Trypath:  [116, 8, 160, 133, 169, 21, 'interim0']\n",
      "\n",
      "While Schleife beginnt\n",
      "TRYPATH : [116, 8, 160, 133, 169, 21, 'interim0']\n",
      "\n",
      "For-Schleife beginnt\n",
      "Aktueller Node (step):  116\n"
     ]
    },
    {
     "data": {
      "text/html": [
       "<font color='Dodgerblue'>Aktueller Pfad: ['start', 10, 217, 1, 'interim1', 1, 217, 10, 124, 66, 116]</font>"
      ],
      "text/plain": [
       "<IPython.core.display.HTML object>"
      ]
     },
     "metadata": {},
     "output_type": "display_data"
    },
    {
     "name": "stdout",
     "output_type": "stream",
     "text": [
      "Nächstes Ziel-Interim:  [[10, 4.5], 11.441897977758927, 'interim0']\n",
      "NewResultInterim !!!=== ResultInterim\n",
      "Neuer Trypath:  [8, 160, 133, 169, 21, 'interim0']\n",
      "\n",
      "While Schleife beginnt\n",
      "TRYPATH : [8, 160, 133, 169, 21, 'interim0']\n",
      "\n",
      "For-Schleife beginnt\n",
      "Aktueller Node (step):  8\n"
     ]
    },
    {
     "data": {
      "text/html": [
       "<font color='Dodgerblue'>Aktueller Pfad: ['start', 10, 217, 1, 'interim1', 1, 217, 10, 124, 66, 116, 8]</font>"
      ],
      "text/plain": [
       "<IPython.core.display.HTML object>"
      ]
     },
     "metadata": {},
     "output_type": "display_data"
    },
    {
     "name": "stdout",
     "output_type": "stream",
     "text": [
      "Nächstes Ziel-Interim:  [[10, 4.5], 10.212111467545354, 'interim0']\n",
      "NewResultInterim !!!=== ResultInterim\n",
      "Neuer Trypath:  [160, 133, 169, 21, 'interim0']\n",
      "\n",
      "While Schleife beginnt\n",
      "TRYPATH : [160, 133, 169, 21, 'interim0']\n",
      "\n",
      "For-Schleife beginnt\n",
      "Aktueller Node (step):  160\n"
     ]
    },
    {
     "data": {
      "text/html": [
       "<font color='Dodgerblue'>Aktueller Pfad: ['start', 10, 217, 1, 'interim1', 1, 217, 10, 124, 66, 116, 8, 160]</font>"
      ],
      "text/plain": [
       "<IPython.core.display.HTML object>"
      ]
     },
     "metadata": {},
     "output_type": "display_data"
    },
    {
     "name": "stdout",
     "output_type": "stream",
     "text": [
      "Nächstes Ziel-Interim:  [[10, 4.5], 10.728980020881918, 'interim0']\n",
      "NewResultInterim !!!=== ResultInterim\n",
      "Neuer Trypath:  [133, 169, 21, 'interim0']\n",
      "\n",
      "While Schleife beginnt\n",
      "TRYPATH : [133, 169, 21, 'interim0']\n",
      "\n",
      "For-Schleife beginnt\n",
      "Aktueller Node (step):  133\n"
     ]
    },
    {
     "data": {
      "text/html": [
       "<font color='Dodgerblue'>Aktueller Pfad: ['start', 10, 217, 1, 'interim1', 1, 217, 10, 124, 66, 116, 8, 160, 133]</font>"
      ],
      "text/plain": [
       "<IPython.core.display.HTML object>"
      ]
     },
     "metadata": {},
     "output_type": "display_data"
    },
    {
     "name": "stdout",
     "output_type": "stream",
     "text": [
      "Nächstes Ziel-Interim:  [[10, 4.5], 5.836026381421813, 'interim0']\n",
      "NewResultInterim !!!=== ResultInterim\n",
      "Neuer Trypath:  [169, 21, 'interim0']\n",
      "\n",
      "While Schleife beginnt\n",
      "TRYPATH : [169, 21, 'interim0']\n",
      "\n",
      "For-Schleife beginnt\n",
      "Aktueller Node (step):  169\n"
     ]
    },
    {
     "data": {
      "text/html": [
       "<font color='Dodgerblue'>Aktueller Pfad: ['start', 10, 217, 1, 'interim1', 1, 217, 10, 124, 66, 116, 8, 160, 133, 169]</font>"
      ],
      "text/plain": [
       "<IPython.core.display.HTML object>"
      ]
     },
     "metadata": {},
     "output_type": "display_data"
    },
    {
     "name": "stdout",
     "output_type": "stream",
     "text": [
      "Nächstes Ziel-Interim:  [[10, 4.5], 4.954477866308306, 'interim0']\n",
      "NewResultInterim !!!=== ResultInterim\n",
      "Neuer Trypath:  [21, 'interim0']\n",
      "\n",
      "While Schleife beginnt\n",
      "TRYPATH : [21, 'interim0']\n",
      "\n",
      "For-Schleife beginnt\n",
      "Aktueller Node (step):  21\n"
     ]
    },
    {
     "data": {
      "text/html": [
       "<font color='Dodgerblue'>Aktueller Pfad: ['start', 10, 217, 1, 'interim1', 1, 217, 10, 124, 66, 116, 8, 160, 133, 169, 21]</font>"
      ],
      "text/plain": [
       "<IPython.core.display.HTML object>"
      ]
     },
     "metadata": {},
     "output_type": "display_data"
    },
    {
     "name": "stdout",
     "output_type": "stream",
     "text": [
      "Nächstes Ziel-Interim:  [[10, 4.5], 2.1612011452843567, 'interim0']\n",
      "NewResultInterim !!!=== ResultInterim\n",
      "Neuer Trypath:  ['interim0']\n",
      "\n",
      "While Schleife beginnt\n",
      "TRYPATH : ['interim0']\n",
      "\n",
      "For-Schleife beginnt\n",
      "Aktueller Node (step):  interim0\n"
     ]
    },
    {
     "data": {
      "text/html": [
       "<font color='Dodgerblue'>Aktueller Pfad: ['start', 10, 217, 1, 'interim1', 1, 217, 10, 124, 66, 116, 8, 160, 133, 169, 21, 'interim0']</font>"
      ],
      "text/plain": [
       "<IPython.core.display.HTML object>"
      ]
     },
     "metadata": {},
     "output_type": "display_data"
    },
    {
     "name": "stdout",
     "output_type": "stream",
     "text": [
      "Nächstes Ziel-Interim:  [[10, 4.5], 0.0, 'interim0']\n",
      "Ziel-Interim erreicht\n",
      "Neues Ziel-Interim:  [[1, 1], 9.656603957913983, 'interim3']\n",
      "Neuer Trypath:  [21, 169, 133, 160, 8, 12, 0, 19, 2, 'interim3']\n",
      "\n",
      "While Schleife beginnt\n",
      "TRYPATH : [21, 169, 133, 160, 8, 12, 0, 19, 2, 'interim3']\n",
      "\n",
      "For-Schleife beginnt\n",
      "Aktueller Node (step):  21\n"
     ]
    },
    {
     "data": {
      "text/html": [
       "<font color='Dodgerblue'>Aktueller Pfad: ['start', 10, 217, 1, 'interim1', 1, 217, 10, 124, 66, 116, 8, 160, 133, 169, 21, 'interim0', 21]</font>"
      ],
      "text/plain": [
       "<IPython.core.display.HTML object>"
      ]
     },
     "metadata": {},
     "output_type": "display_data"
    },
    {
     "name": "stdout",
     "output_type": "stream",
     "text": [
      "Nächstes Ziel-Interim:  [[1, 1], 7.585406908026119, 'interim3']\n",
      "NewResultInterim !!!=== ResultInterim\n",
      "Neuer Trypath:  [169, 133, 160, 8, 12, 0, 19, 2, 'interim3']\n",
      "\n",
      "While Schleife beginnt\n",
      "TRYPATH : [169, 133, 160, 8, 12, 0, 19, 2, 'interim3']\n",
      "\n",
      "For-Schleife beginnt\n",
      "Aktueller Node (step):  169\n"
     ]
    },
    {
     "data": {
      "text/html": [
       "<font color='Dodgerblue'>Aktueller Pfad: ['start', 10, 217, 1, 'interim1', 1, 217, 10, 124, 66, 116, 8, 160, 133, 169, 21, 'interim0', 21, 169]</font>"
      ],
      "text/plain": [
       "<IPython.core.display.HTML object>"
      ]
     },
     "metadata": {},
     "output_type": "display_data"
    },
    {
     "name": "stdout",
     "output_type": "stream",
     "text": [
      "Nächstes Ziel-Interim:  [[20, 3], 6.382732353857763, 'interim2']\n",
      "NewResultInterim !!!=== ResultInterim\n",
      "Neuer Trypath:  [133, 160, 8, 12, 0, 19, 'interim2']\n",
      "\n",
      "While Schleife beginnt\n",
      "TRYPATH : [133, 160, 8, 12, 0, 19, 'interim2']\n",
      "\n",
      "For-Schleife beginnt\n",
      "Aktueller Node (step):  133\n"
     ]
    },
    {
     "data": {
      "text/html": [
       "<font color='Dodgerblue'>Aktueller Pfad: ['start', 10, 217, 1, 'interim1', 1, 217, 10, 124, 66, 116, 8, 160, 133, 169, 21, 'interim0', 21, 169, 133]</font>"
      ],
      "text/plain": [
       "<IPython.core.display.HTML object>"
      ]
     },
     "metadata": {},
     "output_type": "display_data"
    },
    {
     "name": "stdout",
     "output_type": "stream",
     "text": [
      "Nächstes Ziel-Interim:  [[20, 3], 6.463100524526247, 'interim2']\n",
      "NewResultInterim !!!=== ResultInterim\n",
      "Neuer Trypath:  [160, 8, 12, 0, 19, 'interim2']\n",
      "\n",
      "While Schleife beginnt\n",
      "TRYPATH : [160, 8, 12, 0, 19, 'interim2']\n",
      "\n",
      "For-Schleife beginnt\n",
      "Aktueller Node (step):  160\n"
     ]
    },
    {
     "data": {
      "text/html": [
       "<font color='Dodgerblue'>Aktueller Pfad: ['start', 10, 217, 1, 'interim1', 1, 217, 10, 124, 66, 116, 8, 160, 133, 169, 21, 'interim0', 21, 169, 133, 160]</font>"
      ],
      "text/plain": [
       "<IPython.core.display.HTML object>"
      ]
     },
     "metadata": {},
     "output_type": "display_data"
    },
    {
     "name": "stdout",
     "output_type": "stream",
     "text": [
      "Nächstes Ziel-Interim:  [[20, 3], 11.810615911108597, 'interim2']\n",
      "NewResultInterim !!!=== ResultInterim\n",
      "Neuer Trypath:  [8, 12, 0, 19, 'interim2']\n",
      "\n",
      "While Schleife beginnt\n",
      "TRYPATH : [8, 12, 0, 19, 'interim2']\n",
      "\n",
      "For-Schleife beginnt\n",
      "Aktueller Node (step):  8\n"
     ]
    },
    {
     "data": {
      "text/html": [
       "<font color='Dodgerblue'>Aktueller Pfad: ['start', 10, 217, 1, 'interim1', 1, 217, 10, 124, 66, 116, 8, 160, 133, 169, 21, 'interim0', 21, 169, 133, 160, 8]</font>"
      ],
      "text/plain": [
       "<IPython.core.display.HTML object>"
      ]
     },
     "metadata": {},
     "output_type": "display_data"
    },
    {
     "name": "stdout",
     "output_type": "stream",
     "text": [
      "Nächstes Ziel-Interim:  [[20, 3], 12.821572103117596, 'interim2']\n",
      "NewResultInterim !!!=== ResultInterim\n",
      "Neuer Trypath:  [12, 0, 19, 'interim2']\n",
      "\n",
      "While Schleife beginnt\n",
      "TRYPATH : [12, 0, 19, 'interim2']\n",
      "\n",
      "For-Schleife beginnt\n",
      "Aktueller Node (step):  12\n"
     ]
    },
    {
     "data": {
      "text/html": [
       "<font color='Dodgerblue'>Aktueller Pfad: ['start', 10, 217, 1, 'interim1', 1, 217, 10, 124, 66, 116, 8, 160, 133, 169, 21, 'interim0', 21, 169, 133, 160, 8, 12]</font>"
      ],
      "text/plain": [
       "<IPython.core.display.HTML object>"
      ]
     },
     "metadata": {},
     "output_type": "display_data"
    },
    {
     "name": "stdout",
     "output_type": "stream",
     "text": [
      "Nächstes Ziel-Interim:  [[20, 3], 6.626669427992785, 'interim2']\n",
      "NewResultInterim !!!=== ResultInterim\n",
      "Neuer Trypath:  [0, 19, 'interim2']\n",
      "\n",
      "While Schleife beginnt\n",
      "TRYPATH : [0, 19, 'interim2']\n",
      "\n",
      "For-Schleife beginnt\n",
      "Aktueller Node (step):  0\n"
     ]
    },
    {
     "data": {
      "text/html": [
       "<font color='Dodgerblue'>Aktueller Pfad: ['start', 10, 217, 1, 'interim1', 1, 217, 10, 124, 66, 116, 8, 160, 133, 169, 21, 'interim0', 21, 169, 133, 160, 8, 12, 0]</font>"
      ],
      "text/plain": [
       "<IPython.core.display.HTML object>"
      ]
     },
     "metadata": {},
     "output_type": "display_data"
    },
    {
     "name": "stdout",
     "output_type": "stream",
     "text": [
      "Nächstes Ziel-Interim:  [[20, 3], 11.0541755651821, 'interim2']\n",
      "NewResultInterim !!!=== ResultInterim\n",
      "Neuer Trypath:  [19, 'interim2']\n",
      "\n",
      "While Schleife beginnt\n",
      "TRYPATH : [19, 'interim2']\n",
      "\n",
      "For-Schleife beginnt\n",
      "Aktueller Node (step):  19\n"
     ]
    },
    {
     "data": {
      "text/html": [
       "<font color='Dodgerblue'>Aktueller Pfad: ['start', 10, 217, 1, 'interim1', 1, 217, 10, 124, 66, 116, 8, 160, 133, 169, 21, 'interim0', 21, 169, 133, 160, 8, 12, 0, 19]</font>"
      ],
      "text/plain": [
       "<IPython.core.display.HTML object>"
      ]
     },
     "metadata": {},
     "output_type": "display_data"
    },
    {
     "name": "stdout",
     "output_type": "stream",
     "text": [
      "Nächstes Ziel-Interim:  [[20, 3], 2.194237722865238, 'interim2']\n",
      "NewResultInterim !!!=== ResultInterim\n",
      "Neuer Trypath:  ['interim2']\n",
      "\n",
      "While Schleife beginnt\n",
      "TRYPATH : ['interim2']\n",
      "\n",
      "For-Schleife beginnt\n",
      "Aktueller Node (step):  interim2\n"
     ]
    },
    {
     "data": {
      "text/html": [
       "<font color='Dodgerblue'>Aktueller Pfad: ['start', 10, 217, 1, 'interim1', 1, 217, 10, 124, 66, 116, 8, 160, 133, 169, 21, 'interim0', 21, 169, 133, 160, 8, 12, 0, 19, 'interim2']</font>"
      ],
      "text/plain": [
       "<IPython.core.display.HTML object>"
      ]
     },
     "metadata": {},
     "output_type": "display_data"
    },
    {
     "name": "stdout",
     "output_type": "stream",
     "text": [
      "Nächstes Ziel-Interim:  [[20, 3], 0.0, 'interim2']\n",
      "Ziel-Interim erreicht\n",
      "Neues Ziel-Interim:  [[1, 1], 19.1049731745428, 'interim3']\n",
      "Neuer Trypath:  [19, 2, 'interim3']\n",
      "\n",
      "While Schleife beginnt\n",
      "TRYPATH : [19, 2, 'interim3']\n",
      "\n",
      "For-Schleife beginnt\n",
      "Aktueller Node (step):  19\n"
     ]
    },
    {
     "data": {
      "text/html": [
       "<font color='Dodgerblue'>Aktueller Pfad: ['start', 10, 217, 1, 'interim1', 1, 217, 10, 124, 66, 116, 8, 160, 133, 169, 21, 'interim0', 21, 169, 133, 160, 8, 12, 0, 19, 'interim2', 19]</font>"
      ],
      "text/plain": [
       "<IPython.core.display.HTML object>"
      ]
     },
     "metadata": {},
     "output_type": "display_data"
    },
    {
     "name": "stdout",
     "output_type": "stream",
     "text": [
      "Nächstes Ziel-Interim:  [[1, 1], 16.969478246404716, 'interim3']\n",
      "NewResultInterim !!!=== ResultInterim\n",
      "Neuer Trypath:  [2, 'interim3']\n",
      "\n",
      "While Schleife beginnt\n",
      "TRYPATH : [2, 'interim3']\n",
      "\n",
      "For-Schleife beginnt\n",
      "Aktueller Node (step):  2\n"
     ]
    },
    {
     "data": {
      "text/html": [
       "<font color='Dodgerblue'>Aktueller Pfad: ['start', 10, 217, 1, 'interim1', 1, 217, 10, 124, 66, 116, 8, 160, 133, 169, 21, 'interim0', 21, 169, 133, 160, 8, 12, 0, 19, 'interim2', 19, 2]</font>"
      ],
      "text/plain": [
       "<IPython.core.display.HTML object>"
      ]
     },
     "metadata": {},
     "output_type": "display_data"
    },
    {
     "name": "stdout",
     "output_type": "stream",
     "text": [
      "Nächstes Ziel-Interim:  [[1, 1], 4.467298095774856, 'interim3']\n",
      "NewResultInterim !!!=== ResultInterim\n",
      "Neuer Trypath:  ['interim3']\n",
      "\n",
      "While Schleife beginnt\n",
      "TRYPATH : ['interim3']\n",
      "\n",
      "For-Schleife beginnt\n",
      "Aktueller Node (step):  interim3\n"
     ]
    },
    {
     "data": {
      "text/html": [
       "<font color='Dodgerblue'>Aktueller Pfad: ['start', 10, 217, 1, 'interim1', 1, 217, 10, 124, 66, 116, 8, 160, 133, 169, 21, 'interim0', 21, 169, 133, 160, 8, 12, 0, 19, 'interim2', 19, 2, 'interim3']</font>"
      ],
      "text/plain": [
       "<IPython.core.display.HTML object>"
      ]
     },
     "metadata": {},
     "output_type": "display_data"
    },
    {
     "name": "stdout",
     "output_type": "stream",
     "text": [
      "Nächstes Ziel-Interim:  [[1, 1], 0.0, 'interim3']\n",
      "Ziel-Interim erreicht\n"
     ]
    },
    {
     "data": {
      "text/html": [
       "<font color='lawngreen'>Solution =  ['start', 10, 217, 1, 'interim1', 1, 217, 10, 124, 66, 116, 8, 160, 133, 169, 21, 'interim0', 21, 169, 133, 160, 8, 12, 0, 19, 'interim2', 19, 2, 'interim3']</font>"
      ],
      "text/plain": [
       "<IPython.core.display.HTML object>"
      ]
     },
     "metadata": {},
     "output_type": "display_data"
    },
    {
     "data": {
      "text/html": [
       "<font color='red'>PLANNING ERROR ! PLANNING ERROR ! PLANNING ERROR</font>"
      ],
      "text/plain": [
       "<IPython.core.display.HTML object>"
      ]
     },
     "metadata": {},
     "output_type": "display_data"
    },
    {
     "data": {
      "text/html": [
       "<font color='red'>module 'IPPerfMonitor' has no attribute 'dataFrame'</font>"
      ],
      "text/plain": [
       "<IPython.core.display.HTML object>"
      ]
     },
     "metadata": {},
     "output_type": "display_data"
    }
   ],
   "source": [
    "resultList = list()\n",
    "testList = benchList\n",
    "\n",
    "for key,producer in list(plannerFactory.items()):\n",
    "    HelperClass.HelperClass.printInColor(str(key)+\" \"+ str(producer), 'yellow')\n",
    "    #print(key, producer)\n",
    "    for benchmark in testList:\n",
    "        HelperClass.HelperClass.printInColor(\"Planning: \" + key + \" - \" + benchmark.name, 'yellow')\n",
    "        #planner = IPBasicPRM.BasicPRM(benchmark.collisionChecker)\n",
    "        planner = producer[0](benchmark.collisionChecker)\n",
    "        #IPPerfMonitor.clearData()\n",
    "        \n",
    "\n",
    "        try:\n",
    "            resultList.append(ResultCollection(key,\n",
    "                                        planner, \n",
    "                                        benchmark, \n",
    "                                        planner.planRoundPath(benchmark.startList,benchmark.interimGoalList,benchmark.goalList,producer[1]),\n",
    "                                        IPPerfMonitor.dataFrame()),)\n",
    "            #a = planner.planPath(benchmark.startList,benchmark.goalList,producer[1])\n",
    "            # print(\"\")\n",
    "\n",
    "\n",
    "        except Exception as e:\n",
    "            HelperClass.HelperClass.printInColor(\"PLANNING ERROR ! PLANNING ERROR ! PLANNING ERROR\", 'red')\n",
    "            HelperClass.HelperClass.printInColor(e, 'red')\n",
    "            pass\n",
    "\n",
    "        "
   ]
  },
  {
   "cell_type": "code",
   "execution_count": 4,
   "id": "1dd955f1-e25e-4a83-b49d-f16a90729982",
   "metadata": {
    "tags": []
   },
   "outputs": [
    {
     "name": "stdout",
     "output_type": "stream",
     "text": [
      "[<IPBenchmark.Benchmark object at 0x7fb7950dd650>, <IPBenchmark.Benchmark object at 0x7fb794fb6f50>, <IPBenchmark.Benchmark object at 0x7fb794fb7310>, <IPBenchmark.Benchmark object at 0x7fb794fb7a50>, <IPBenchmark.Benchmark object at 0x7fb794fcc710>]\n",
      "[<class 'IPVisibilityPRM_Roundtrip.VisPRM'>, {'ntry': 300}, <function visibilityPRMVisualize at 0x7fb794fbb6a0>]\n",
      "Ziel Interim:[[20, 15], 11.0, 'interim2']\n",
      "Try Path: ['start', 300, 318, 44, 48, 15, 18, 3, 19, 12, 20, 'interim2']\n",
      "\n",
      "While Schleife beginnt\n",
      "TRYPATH : ['start', 300, 318, 44, 48, 15, 18, 3, 19, 12, 20, 'interim2']\n",
      "\n",
      "For-Schleife beginnt\n",
      "Aktueller Node (step):  start\n"
     ]
    },
    {
     "data": {
      "text/html": [
       "<font color='Dodgerblue'>Aktueller Pfad: ['start']</font>"
      ],
      "text/plain": [
       "<IPython.core.display.HTML object>"
      ]
     },
     "metadata": {},
     "output_type": "display_data"
    },
    {
     "name": "stdout",
     "output_type": "stream",
     "text": [
      "Nächstes Ziel-Interim:  [[20, 15], 11.0, 'interim2']\n",
      "\n",
      "For-Schleife beginnt\n",
      "Aktueller Node (step):  300\n"
     ]
    },
    {
     "data": {
      "text/html": [
       "<font color='Dodgerblue'>Aktueller Pfad: ['start', 300]</font>"
      ],
      "text/plain": [
       "<IPython.core.display.HTML object>"
      ]
     },
     "metadata": {},
     "output_type": "display_data"
    },
    {
     "name": "stdout",
     "output_type": "stream",
     "text": [
      "Nächstes Ziel-Interim:  [[20, 15], 11.096526886347338, 'interim2']\n",
      "NewResultInterim !!!=== ResultInterim\n",
      "Neuer Trypath:  [318, 44, 48, 15, 18, 3, 19, 12, 20, 'interim2']\n",
      "\n",
      "While Schleife beginnt\n",
      "TRYPATH : [318, 44, 48, 15, 18, 3, 19, 12, 20, 'interim2']\n",
      "\n",
      "For-Schleife beginnt\n",
      "Aktueller Node (step):  318\n"
     ]
    },
    {
     "data": {
      "text/html": [
       "<font color='Dodgerblue'>Aktueller Pfad: ['start', 300, 318]</font>"
      ],
      "text/plain": [
       "<IPython.core.display.HTML object>"
      ]
     },
     "metadata": {},
     "output_type": "display_data"
    },
    {
     "name": "stdout",
     "output_type": "stream",
     "text": [
      "Nächstes Ziel-Interim:  [[3, 3], 11.754778393315432, 'interim1']\n",
      "NewResultInterim !!!=== ResultInterim\n",
      "Neuer Trypath:  [44, 48, 15, 18, 3, 19, 12, 20, 14, 16, 0, 'interim1']\n",
      "\n",
      "While Schleife beginnt\n",
      "TRYPATH : [44, 48, 15, 18, 3, 19, 12, 20, 14, 16, 0, 'interim1']\n",
      "\n",
      "For-Schleife beginnt\n",
      "Aktueller Node (step):  44\n"
     ]
    },
    {
     "data": {
      "text/html": [
       "<font color='Dodgerblue'>Aktueller Pfad: ['start', 300, 318, 44]</font>"
      ],
      "text/plain": [
       "<IPython.core.display.HTML object>"
      ]
     },
     "metadata": {},
     "output_type": "display_data"
    },
    {
     "name": "stdout",
     "output_type": "stream",
     "text": [
      "Nächstes Ziel-Interim:  [[3, 3], 8.221573687822952, 'interim1']\n",
      "NewResultInterim !!!=== ResultInterim\n",
      "Neuer Trypath:  [48, 15, 18, 3, 19, 12, 20, 14, 16, 0, 'interim1']\n",
      "\n",
      "While Schleife beginnt\n",
      "TRYPATH : [48, 15, 18, 3, 19, 12, 20, 14, 16, 0, 'interim1']\n",
      "\n",
      "For-Schleife beginnt\n",
      "Aktueller Node (step):  48\n"
     ]
    },
    {
     "data": {
      "text/html": [
       "<font color='Dodgerblue'>Aktueller Pfad: ['start', 300, 318, 44, 48]</font>"
      ],
      "text/plain": [
       "<IPython.core.display.HTML object>"
      ]
     },
     "metadata": {},
     "output_type": "display_data"
    },
    {
     "name": "stdout",
     "output_type": "stream",
     "text": [
      "Nächstes Ziel-Interim:  [[3, 3], 4.796435777284482, 'interim1']\n",
      "NewResultInterim !!!=== ResultInterim\n",
      "Neuer Trypath:  [15, 18, 3, 19, 12, 20, 14, 16, 0, 'interim1']\n",
      "\n",
      "While Schleife beginnt\n",
      "TRYPATH : [15, 18, 3, 19, 12, 20, 14, 16, 0, 'interim1']\n",
      "\n",
      "For-Schleife beginnt\n",
      "Aktueller Node (step):  15\n"
     ]
    },
    {
     "data": {
      "text/html": [
       "<font color='Dodgerblue'>Aktueller Pfad: ['start', 300, 318, 44, 48, 15]</font>"
      ],
      "text/plain": [
       "<IPython.core.display.HTML object>"
      ]
     },
     "metadata": {},
     "output_type": "display_data"
    },
    {
     "name": "stdout",
     "output_type": "stream",
     "text": [
      "Nächstes Ziel-Interim:  [[10, 1], 4.369707252362273, 'interim3']\n",
      "NewResultInterim !!!=== ResultInterim\n",
      "Neuer Trypath:  [18, 3, 19, 12, 24, 21, 'interim3']\n",
      "\n",
      "While Schleife beginnt\n",
      "TRYPATH : [18, 3, 19, 12, 24, 21, 'interim3']\n",
      "\n",
      "For-Schleife beginnt\n",
      "Aktueller Node (step):  18\n"
     ]
    },
    {
     "data": {
      "text/html": [
       "<font color='Dodgerblue'>Aktueller Pfad: ['start', 300, 318, 44, 48, 15, 18]</font>"
      ],
      "text/plain": [
       "<IPython.core.display.HTML object>"
      ]
     },
     "metadata": {},
     "output_type": "display_data"
    },
    {
     "name": "stdout",
     "output_type": "stream",
     "text": [
      "Nächstes Ziel-Interim:  [[10, 1], 3.8916062768809296, 'interim3']\n",
      "NewResultInterim !!!=== ResultInterim\n",
      "Neuer Trypath:  [3, 19, 12, 24, 21, 'interim3']\n",
      "\n",
      "While Schleife beginnt\n",
      "TRYPATH : [3, 19, 12, 24, 21, 'interim3']\n",
      "\n",
      "For-Schleife beginnt\n",
      "Aktueller Node (step):  3\n"
     ]
    },
    {
     "data": {
      "text/html": [
       "<font color='Dodgerblue'>Aktueller Pfad: ['start', 300, 318, 44, 48, 15, 18, 3]</font>"
      ],
      "text/plain": [
       "<IPython.core.display.HTML object>"
      ]
     },
     "metadata": {},
     "output_type": "display_data"
    },
    {
     "name": "stdout",
     "output_type": "stream",
     "text": [
      "Nächstes Ziel-Interim:  [[10, 1], 5.923448291443783, 'interim3']\n",
      "NewResultInterim !!!=== ResultInterim\n",
      "Neuer Trypath:  [19, 12, 24, 21, 'interim3']\n",
      "\n",
      "While Schleife beginnt\n",
      "TRYPATH : [19, 12, 24, 21, 'interim3']\n",
      "\n",
      "For-Schleife beginnt\n",
      "Aktueller Node (step):  19\n"
     ]
    },
    {
     "data": {
      "text/html": [
       "<font color='Dodgerblue'>Aktueller Pfad: ['start', 300, 318, 44, 48, 15, 18, 3, 19]</font>"
      ],
      "text/plain": [
       "<IPython.core.display.HTML object>"
      ]
     },
     "metadata": {},
     "output_type": "display_data"
    },
    {
     "name": "stdout",
     "output_type": "stream",
     "text": [
      "Nächstes Ziel-Interim:  [[22, 8], 6.6989462084831235, 'interim0']\n",
      "NewResultInterim !!!=== ResultInterim\n",
      "Neuer Trypath:  [12, 'interim0']\n",
      "\n",
      "While Schleife beginnt\n",
      "TRYPATH : [12, 'interim0']\n",
      "\n",
      "For-Schleife beginnt\n",
      "Aktueller Node (step):  12\n"
     ]
    },
    {
     "data": {
      "text/html": [
       "<font color='Dodgerblue'>Aktueller Pfad: ['start', 300, 318, 44, 48, 15, 18, 3, 19, 12]</font>"
      ],
      "text/plain": [
       "<IPython.core.display.HTML object>"
      ]
     },
     "metadata": {},
     "output_type": "display_data"
    },
    {
     "name": "stdout",
     "output_type": "stream",
     "text": [
      "Nächstes Ziel-Interim:  [[22, 8], 3.6385621642382, 'interim0']\n",
      "NewResultInterim !!!=== ResultInterim\n",
      "Neuer Trypath:  ['interim0']\n",
      "\n",
      "While Schleife beginnt\n",
      "TRYPATH : ['interim0']\n",
      "\n",
      "For-Schleife beginnt\n",
      "Aktueller Node (step):  interim0\n"
     ]
    },
    {
     "data": {
      "text/html": [
       "<font color='Dodgerblue'>Aktueller Pfad: ['start', 300, 318, 44, 48, 15, 18, 3, 19, 12, 'interim0']</font>"
      ],
      "text/plain": [
       "<IPython.core.display.HTML object>"
      ]
     },
     "metadata": {},
     "output_type": "display_data"
    },
    {
     "name": "stdout",
     "output_type": "stream",
     "text": [
      "Nächstes Ziel-Interim:  [[22, 8], 0.0, 'interim0']\n",
      "Ziel-Interim erreicht\n",
      "Neues Ziel-Interim:  [[20, 15], 7.280109889280518, 'interim2']\n",
      "Neuer Trypath:  [12, 20, 'interim2']\n",
      "\n",
      "While Schleife beginnt\n",
      "TRYPATH : [12, 20, 'interim2']\n",
      "\n",
      "For-Schleife beginnt\n",
      "Aktueller Node (step):  12\n"
     ]
    },
    {
     "data": {
      "text/html": [
       "<font color='Dodgerblue'>Aktueller Pfad: ['start', 300, 318, 44, 48, 15, 18, 3, 19, 12, 'interim0', 12]</font>"
      ],
      "text/plain": [
       "<IPython.core.display.HTML object>"
      ]
     },
     "metadata": {},
     "output_type": "display_data"
    },
    {
     "name": "stdout",
     "output_type": "stream",
     "text": [
      "Nächstes Ziel-Interim:  [[20, 15], 4.760497163984412, 'interim2']\n",
      "NewResultInterim !!!=== ResultInterim\n",
      "Neuer Trypath:  [20, 'interim2']\n",
      "\n",
      "While Schleife beginnt\n",
      "TRYPATH : [20, 'interim2']\n",
      "\n",
      "For-Schleife beginnt\n",
      "Aktueller Node (step):  20\n"
     ]
    },
    {
     "data": {
      "text/html": [
       "<font color='Dodgerblue'>Aktueller Pfad: ['start', 300, 318, 44, 48, 15, 18, 3, 19, 12, 'interim0', 12, 20]</font>"
      ],
      "text/plain": [
       "<IPython.core.display.HTML object>"
      ]
     },
     "metadata": {},
     "output_type": "display_data"
    },
    {
     "name": "stdout",
     "output_type": "stream",
     "text": [
      "Nächstes Ziel-Interim:  [[20, 15], 2.6694567836316963, 'interim2']\n",
      "NewResultInterim !!!=== ResultInterim\n",
      "Neuer Trypath:  ['interim2']\n",
      "\n",
      "While Schleife beginnt\n",
      "TRYPATH : ['interim2']\n",
      "\n",
      "For-Schleife beginnt\n",
      "Aktueller Node (step):  interim2\n"
     ]
    },
    {
     "data": {
      "text/html": [
       "<font color='Dodgerblue'>Aktueller Pfad: ['start', 300, 318, 44, 48, 15, 18, 3, 19, 12, 'interim0', 12, 20, 'interim2']</font>"
      ],
      "text/plain": [
       "<IPython.core.display.HTML object>"
      ]
     },
     "metadata": {},
     "output_type": "display_data"
    },
    {
     "name": "stdout",
     "output_type": "stream",
     "text": [
      "Nächstes Ziel-Interim:  [[20, 15], 0.0, 'interim2']\n",
      "Ziel-Interim erreicht\n",
      "Neues Ziel-Interim:  [[10, 1], 17.204650534085253, 'interim3']\n",
      "Neuer Trypath:  [20, 12, 24, 21, 'interim3']\n",
      "\n",
      "While Schleife beginnt\n",
      "TRYPATH : [20, 12, 24, 21, 'interim3']\n",
      "\n",
      "For-Schleife beginnt\n",
      "Aktueller Node (step):  20\n"
     ]
    },
    {
     "data": {
      "text/html": [
       "<font color='Dodgerblue'>Aktueller Pfad: ['start', 300, 318, 44, 48, 15, 18, 3, 19, 12, 'interim0', 12, 20, 'interim2', 20]</font>"
      ],
      "text/plain": [
       "<IPython.core.display.HTML object>"
      ]
     },
     "metadata": {},
     "output_type": "display_data"
    },
    {
     "name": "stdout",
     "output_type": "stream",
     "text": [
      "Nächstes Ziel-Interim:  [[10, 1], 18.9092373284912, 'interim3']\n",
      "NewResultInterim !!!=== ResultInterim\n",
      "Neuer Trypath:  [12, 24, 21, 'interim3']\n",
      "\n",
      "While Schleife beginnt\n",
      "TRYPATH : [12, 24, 21, 'interim3']\n",
      "\n",
      "For-Schleife beginnt\n",
      "Aktueller Node (step):  12\n"
     ]
    },
    {
     "data": {
      "text/html": [
       "<font color='Dodgerblue'>Aktueller Pfad: ['start', 300, 318, 44, 48, 15, 18, 3, 19, 12, 'interim0', 12, 20, 'interim2', 20, 12]</font>"
      ],
      "text/plain": [
       "<IPython.core.display.HTML object>"
      ]
     },
     "metadata": {},
     "output_type": "display_data"
    },
    {
     "name": "stdout",
     "output_type": "stream",
     "text": [
      "Nächstes Ziel-Interim:  [[10, 1], 13.079905703068082, 'interim3']\n",
      "NewResultInterim !!!=== ResultInterim\n",
      "Neuer Trypath:  [24, 21, 'interim3']\n",
      "\n",
      "While Schleife beginnt\n",
      "TRYPATH : [24, 21, 'interim3']\n",
      "\n",
      "For-Schleife beginnt\n",
      "Aktueller Node (step):  24\n"
     ]
    },
    {
     "data": {
      "text/html": [
       "<font color='Dodgerblue'>Aktueller Pfad: ['start', 300, 318, 44, 48, 15, 18, 3, 19, 12, 'interim0', 12, 20, 'interim2', 20, 12, 24]</font>"
      ],
      "text/plain": [
       "<IPython.core.display.HTML object>"
      ]
     },
     "metadata": {},
     "output_type": "display_data"
    },
    {
     "name": "stdout",
     "output_type": "stream",
     "text": [
      "Nächstes Ziel-Interim:  [[10, 1], 6.821806892498759, 'interim3']\n",
      "NewResultInterim !!!=== ResultInterim\n",
      "Neuer Trypath:  [21, 'interim3']\n",
      "\n",
      "While Schleife beginnt\n",
      "TRYPATH : [21, 'interim3']\n",
      "\n",
      "For-Schleife beginnt\n",
      "Aktueller Node (step):  21\n"
     ]
    },
    {
     "data": {
      "text/html": [
       "<font color='Dodgerblue'>Aktueller Pfad: ['start', 300, 318, 44, 48, 15, 18, 3, 19, 12, 'interim0', 12, 20, 'interim2', 20, 12, 24, 21]</font>"
      ],
      "text/plain": [
       "<IPython.core.display.HTML object>"
      ]
     },
     "metadata": {},
     "output_type": "display_data"
    },
    {
     "name": "stdout",
     "output_type": "stream",
     "text": [
      "Nächstes Ziel-Interim:  [[10, 1], 3.7274811970906794, 'interim3']\n",
      "NewResultInterim !!!=== ResultInterim\n",
      "Neuer Trypath:  ['interim3']\n",
      "\n",
      "While Schleife beginnt\n",
      "TRYPATH : ['interim3']\n",
      "\n",
      "For-Schleife beginnt\n",
      "Aktueller Node (step):  interim3\n"
     ]
    },
    {
     "data": {
      "text/html": [
       "<font color='Dodgerblue'>Aktueller Pfad: ['start', 300, 318, 44, 48, 15, 18, 3, 19, 12, 'interim0', 12, 20, 'interim2', 20, 12, 24, 21, 'interim3']</font>"
      ],
      "text/plain": [
       "<IPython.core.display.HTML object>"
      ]
     },
     "metadata": {},
     "output_type": "display_data"
    },
    {
     "name": "stdout",
     "output_type": "stream",
     "text": [
      "Nächstes Ziel-Interim:  [[10, 1], 0.0, 'interim3']\n",
      "Ziel-Interim erreicht\n",
      "Neues Ziel-Interim:  [[3, 3], 7.280109889280518, 'interim1']\n",
      "Neuer Trypath:  [21, 24, 12, 20, 14, 16, 0, 'interim1']\n",
      "\n",
      "While Schleife beginnt\n",
      "TRYPATH : [21, 24, 12, 20, 14, 16, 0, 'interim1']\n",
      "\n",
      "For-Schleife beginnt\n",
      "Aktueller Node (step):  21\n"
     ]
    },
    {
     "data": {
      "text/html": [
       "<font color='Dodgerblue'>Aktueller Pfad: ['start', 300, 318, 44, 48, 15, 18, 3, 19, 12, 'interim0', 12, 20, 'interim2', 20, 12, 24, 21, 'interim3', 21]</font>"
      ],
      "text/plain": [
       "<IPython.core.display.HTML object>"
      ]
     },
     "metadata": {},
     "output_type": "display_data"
    },
    {
     "name": "stdout",
     "output_type": "stream",
     "text": [
      "Nächstes Ziel-Interim:  [[3, 3], 10.903796688145581, 'interim1']\n",
      "NewResultInterim !!!=== ResultInterim\n",
      "Neuer Trypath:  [24, 12, 20, 14, 16, 0, 'interim1']\n",
      "\n",
      "While Schleife beginnt\n",
      "TRYPATH : [24, 12, 20, 14, 16, 0, 'interim1']\n",
      "\n",
      "For-Schleife beginnt\n",
      "Aktueller Node (step):  24\n"
     ]
    },
    {
     "data": {
      "text/html": [
       "<font color='Dodgerblue'>Aktueller Pfad: ['start', 300, 318, 44, 48, 15, 18, 3, 19, 12, 'interim0', 12, 20, 'interim2', 20, 12, 24, 21, 'interim3', 21, 24]</font>"
      ],
      "text/plain": [
       "<IPython.core.display.HTML object>"
      ]
     },
     "metadata": {},
     "output_type": "display_data"
    },
    {
     "name": "stdout",
     "output_type": "stream",
     "text": [
      "Nächstes Ziel-Interim:  [[3, 3], 14.011761391582507, 'interim1']\n",
      "NewResultInterim !!!=== ResultInterim\n",
      "Neuer Trypath:  [12, 20, 14, 16, 0, 'interim1']\n",
      "\n",
      "While Schleife beginnt\n",
      "TRYPATH : [12, 20, 14, 16, 0, 'interim1']\n",
      "\n",
      "For-Schleife beginnt\n",
      "Aktueller Node (step):  12\n"
     ]
    },
    {
     "data": {
      "text/html": [
       "<font color='Dodgerblue'>Aktueller Pfad: ['start', 300, 318, 44, 48, 15, 18, 3, 19, 12, 'interim0', 12, 20, 'interim2', 20, 12, 24, 21, 'interim3', 21, 24, 12]</font>"
      ],
      "text/plain": [
       "<IPython.core.display.HTML object>"
      ]
     },
     "metadata": {},
     "output_type": "display_data"
    },
    {
     "name": "stdout",
     "output_type": "stream",
     "text": [
      "Nächstes Ziel-Interim:  [[3, 3], 17.761783926703938, 'interim1']\n",
      "NewResultInterim !!!=== ResultInterim\n",
      "Neuer Trypath:  [20, 14, 16, 0, 'interim1']\n",
      "\n",
      "While Schleife beginnt\n",
      "TRYPATH : [20, 14, 16, 0, 'interim1']\n",
      "\n",
      "For-Schleife beginnt\n",
      "Aktueller Node (step):  20\n"
     ]
    },
    {
     "data": {
      "text/html": [
       "<font color='Dodgerblue'>Aktueller Pfad: ['start', 300, 318, 44, 48, 15, 18, 3, 19, 12, 'interim0', 12, 20, 'interim2', 20, 12, 24, 21, 'interim3', 21, 24, 12, 20]</font>"
      ],
      "text/plain": [
       "<IPython.core.display.HTML object>"
      ]
     },
     "metadata": {},
     "output_type": "display_data"
    },
    {
     "name": "stdout",
     "output_type": "stream",
     "text": [
      "Nächstes Ziel-Interim:  [[3, 3], 21.74368258222758, 'interim1']\n",
      "NewResultInterim !!!=== ResultInterim\n",
      "Neuer Trypath:  [14, 16, 0, 'interim1']\n",
      "\n",
      "While Schleife beginnt\n",
      "TRYPATH : [14, 16, 0, 'interim1']\n",
      "\n",
      "For-Schleife beginnt\n",
      "Aktueller Node (step):  14\n"
     ]
    },
    {
     "data": {
      "text/html": [
       "<font color='Dodgerblue'>Aktueller Pfad: ['start', 300, 318, 44, 48, 15, 18, 3, 19, 12, 'interim0', 12, 20, 'interim2', 20, 12, 24, 21, 'interim3', 21, 24, 12, 20, 14]</font>"
      ],
      "text/plain": [
       "<IPython.core.display.HTML object>"
      ]
     },
     "metadata": {},
     "output_type": "display_data"
    },
    {
     "name": "stdout",
     "output_type": "stream",
     "text": [
      "Nächstes Ziel-Interim:  [[3, 3], 18.25985658578631, 'interim1']\n",
      "NewResultInterim !!!=== ResultInterim\n",
      "Neuer Trypath:  [16, 0, 'interim1']\n",
      "\n",
      "While Schleife beginnt\n",
      "TRYPATH : [16, 0, 'interim1']\n",
      "\n",
      "For-Schleife beginnt\n",
      "Aktueller Node (step):  16\n"
     ]
    },
    {
     "data": {
      "text/html": [
       "<font color='Dodgerblue'>Aktueller Pfad: ['start', 300, 318, 44, 48, 15, 18, 3, 19, 12, 'interim0', 12, 20, 'interim2', 20, 12, 24, 21, 'interim3', 21, 24, 12, 20, 14, 16]</font>"
      ],
      "text/plain": [
       "<IPython.core.display.HTML object>"
      ]
     },
     "metadata": {},
     "output_type": "display_data"
    },
    {
     "name": "stdout",
     "output_type": "stream",
     "text": [
      "Nächstes Ziel-Interim:  [[3, 3], 18.175465843632654, 'interim1']\n",
      "NewResultInterim !!!=== ResultInterim\n",
      "Neuer Trypath:  [0, 'interim1']\n",
      "\n",
      "While Schleife beginnt\n",
      "TRYPATH : [0, 'interim1']\n",
      "\n",
      "For-Schleife beginnt\n",
      "Aktueller Node (step):  0\n"
     ]
    },
    {
     "data": {
      "text/html": [
       "<font color='Dodgerblue'>Aktueller Pfad: ['start', 300, 318, 44, 48, 15, 18, 3, 19, 12, 'interim0', 12, 20, 'interim2', 20, 12, 24, 21, 'interim3', 21, 24, 12, 20, 14, 16, 0]</font>"
      ],
      "text/plain": [
       "<IPython.core.display.HTML object>"
      ]
     },
     "metadata": {},
     "output_type": "display_data"
    },
    {
     "name": "stdout",
     "output_type": "stream",
     "text": [
      "Nächstes Ziel-Interim:  [[3, 3], 2.5349217870458447, 'interim1']\n",
      "NewResultInterim !!!=== ResultInterim\n",
      "Neuer Trypath:  ['interim1']\n",
      "\n",
      "While Schleife beginnt\n",
      "TRYPATH : ['interim1']\n",
      "\n",
      "For-Schleife beginnt\n",
      "Aktueller Node (step):  interim1\n"
     ]
    },
    {
     "data": {
      "text/html": [
       "<font color='Dodgerblue'>Aktueller Pfad: ['start', 300, 318, 44, 48, 15, 18, 3, 19, 12, 'interim0', 12, 20, 'interim2', 20, 12, 24, 21, 'interim3', 21, 24, 12, 20, 14, 16, 0, 'interim1']</font>"
      ],
      "text/plain": [
       "<IPython.core.display.HTML object>"
      ]
     },
     "metadata": {},
     "output_type": "display_data"
    },
    {
     "name": "stdout",
     "output_type": "stream",
     "text": [
      "Nächstes Ziel-Interim:  [[3, 3], 0.0, 'interim1']\n",
      "Ziel-Interim erreicht\n"
     ]
    },
    {
     "data": {
      "text/html": [
       "<font color='lawngreen'>Solution =  ['start', 300, 318, 44, 48, 15, 18, 3, 19, 12, 'interim0', 12, 20, 'interim2', 20, 12, 24, 21, 'interim3', 21, 24, 12, 20, 14, 16, 0, 'interim1']</font>"
      ],
      "text/plain": [
       "<IPython.core.display.HTML object>"
      ]
     },
     "metadata": {},
     "output_type": "display_data"
    }
   ],
   "source": [
    "# Executing the planning. Stats data will be saved in astarstats\n",
    "import cProfile\n",
    "from IPPRMBase import PRMBase\n",
    "\n",
    "#cProfile.run('solution = astar.planPath(start, goal, astarConfig)','astartstats') # will save astartstats to current directory\n",
    "print(benchList)\n",
    "#cProfile.run('solution = IPVisibilityPRM_Roundtrip.VisPRM.planRoundPath()','visibilitystats') # will save astartstats to current directory\n",
    "\n",
    "\n",
    "#super(VisPRM, self).__init__(_collChecker)\n",
    "#superObject = IPVisibilityPRM_Roundtrip.VisPRM(PRMBase).planRoundPath(benchList[0].startList,benchList[0].interimGoalList,benchList[0].goalList,producer[1])\n",
    "\n",
    "#cProfile.run('solution = IPVisibilityPRM_Roundtrip.VisPRM(PRMBase).planRoundPath(benchList[0].startList,benchList[0].interimGoalList,benchList[0].goalList,producer[1])','visibilitystats') # will save astartstats to current directory\n",
    "print(plannerFactory[\"visibilityPRM\"])\n",
    "planner = producer[0](benchmark.collisionChecker)\n",
    "\n",
    "cProfile.run('solution =planner.planRoundPath(benchList[0].startList,benchList[0].interimGoalList,benchList[0].goalList,producer[1])','visibilitystats') # will save astartstats to current directory\n",
    "\n",
    "#planner.planRoundPath(benchmark.startList,benchmark.interimGoalList,benchmark.goalList,producer[1]),\n",
    "#print(cProfile)"
   ]
  },
  {
   "cell_type": "code",
   "execution_count": 5,
   "id": "4c24095d-f9c6-4572-881c-402bf61ce3cf",
   "metadata": {
    "tags": []
   },
   "outputs": [
    {
     "name": "stdout",
     "output_type": "stream",
     "text": [
      "Mon Jan  8 20:11:47 2024    visibilitystats\n",
      "\n",
      "         7671602 function calls (7595820 primitive calls) in 10.041 seconds\n",
      "\n",
      "   Ordered by: cumulative time\n",
      "\n",
      "   ncalls  tottime  percall  cumtime  percall filename:lineno(function)\n",
      "        1    0.000    0.000   10.041   10.041 {built-in method builtins.exec}\n",
      "        1    0.000    0.000   10.040   10.040 <string>:1(<module>)\n",
      "  75783/1    0.230    0.000   10.040   10.040 IPPerfMonitor.py:24(__call__)\n",
      "        1    0.001    0.001   10.040   10.040 IPVisibilityPRM_Roundtrip.py:145(planRoundPath)\n",
      "        1    0.032    0.032    9.881    9.881 IPVisibilityPRM_Roundtrip.py:96(_learnRoadmap)\n",
      "     4198    0.009    0.000    9.567    0.002 IPVisibilityPRM_Roundtrip.py:38(_isVisible)\n",
      "     4204    0.599    0.000    9.549    0.002 IPEnvironment.py:42(lineInCollision)\n",
      "    70661    0.660    0.000    8.577    0.000 IPEnvironment.py:31(pointInCollision)\n",
      "   209997    0.627    0.000    3.778    0.000 point.py:38(__init__)\n",
      "   209997    0.278    0.000    2.951    0.000 base.py:803(intersects)\n",
      "   209997    2.051    0.000    2.614    0.000 predicates.py:11(__call__)\n",
      "   209997    1.567    0.000    1.762    0.000 point.py:244(geos_point_from_py)\n",
      "   419994    0.719    0.000    1.451    0.000 base.py:191(_empty)\n",
      "  1679976    1.266    0.000    1.266    0.000 base.py:245(__setattr__)\n",
      "   209997    0.275    0.000    1.175    0.000 base.py:240(_set_geom)\n",
      "   209997    0.189    0.000    1.143    0.000 base.py:208(__del__)\n",
      "   419994    0.301    0.000    0.439    0.000 topology.py:18(_validate)\n",
      "    75783    0.243    0.000    0.243    0.000 IPPerfMonitor.py:38(__get__)\n",
      "   839988    0.163    0.000    0.163    0.000 base.py:228(_geom)\n",
      "      885    0.003    0.000    0.143    0.000 IPPRMBase.py:28(_getRandomFreePosition)\n",
      "   920427    0.129    0.000    0.129    0.000 {built-in method builtins.len}\n",
      "   432031    0.115    0.000    0.115    0.000 {built-in method builtins.isinstance}\n",
      "       28    0.000    0.000    0.110    0.004 HelperClass.py:9(printInColor)\n",
      "   421297    0.106    0.000    0.106    0.000 {built-in method builtins.hasattr}\n",
      "       28    0.001    0.000    0.105    0.004 display_functions.py:105(display)\n",
      "     2024    0.006    0.000    0.088    0.000 connected.py:15(connected_components)\n",
      "     1139    0.032    0.000    0.080    0.000 connected.py:191(_plain_bfs)\n",
      "       28    0.000    0.000    0.062    0.002 display_functions.py:45(publish_display_data)\n",
      "       28    0.001    0.000    0.061    0.002 zmqshell.py:80(publish)\n",
      "   209997    0.059    0.000    0.059    0.000 impl.py:56(__getitem__)\n",
      "   209997    0.053    0.000    0.053    0.000 geos.py:607(errcheck_predicate)\n",
      "       28    0.000    0.000    0.050    0.002 zmqshell.py:63(_flush_streams)\n",
      "       56    0.001    0.000    0.049    0.001 iostream.py:547(flush)\n",
      "       56    0.000    0.000    0.043    0.001 threading.py:604(wait)\n",
      "       28    0.001    0.000    0.043    0.002 formatters.py:90(format)\n",
      "       55    0.001    0.000    0.042    0.001 threading.py:288(wait)\n",
      "      444    0.041    0.000    0.041    0.000 {method 'acquire' of '_thread.lock' objects}\n",
      "      336    0.001    0.000    0.041    0.000 decorator.py:229(fun)\n",
      "   151566    0.037    0.000    0.037    0.000 {built-in method time.time}\n",
      "    23902    0.014    0.000    0.025    0.000 {method 'update' of 'set' objects}\n",
      "      336    0.001    0.000    0.022    0.000 formatters.py:219(catch_format_error)\n",
      "     4198    0.004    0.000    0.021    0.000 IPVisibilityPRM_Roundtrip.py:26(addVisTest)\n",
      "    22961    0.015    0.000    0.020    0.000 coreviews.py:80(__getitem__)\n",
      "      336    0.002    0.000    0.018    0.000 decorator.py:199(fix)\n",
      "     4232    0.014    0.000    0.017    0.000 graph.py:893(add_edge)\n",
      "    78300    0.017    0.000    0.017    0.000 {method 'append' of 'list' objects}\n",
      "     8410    0.017    0.000    0.017    0.000 {built-in method numpy.array}\n",
      "    70803    0.015    0.000    0.015    0.000 {method 'items' of 'dict' objects}\n",
      "      252    0.001    0.000    0.013    0.000 formatters.py:330(__call__)\n",
      "    79075    0.013    0.000    0.013    0.000 IPEnvironment.py:23(getDim)\n",
      "      308    0.001    0.000    0.012    0.000 formatters.py:373(lookup)\n",
      "    22961    0.008    0.000    0.011    0.000 coreviews.py:49(__iter__)\n",
      "     9735    0.008    0.000    0.011    0.000 reportviews.py:188(__getitem__)\n",
      "       31    0.003    0.000    0.010    0.000 IPVisibilityPRM_Roundtrip.py:58(_nearestInterim)\n",
      "      308    0.003    0.000    0.010    0.000 formatters.py:396(lookup_by_type)\n",
      "     1064    0.002    0.000    0.009    0.000 IPPRMBase.py:23(_getRandomPosition)\n",
      "      336    0.000    0.000    0.009    0.000 inspect.py:3207(bind)\n",
      "       28    0.001    0.000    0.009    0.000 session.py:751(send)\n",
      "      336    0.006    0.000    0.008    0.000 inspect.py:3076(_bind)\n",
      "      242    0.001    0.000    0.008    0.000 {built-in method builtins.print}\n",
      "      911    0.002    0.000    0.007    0.000 backends.py:129(wrapper)\n",
      "      700    0.003    0.000    0.007    0.000 iostream.py:610(write)\n",
      "       81    0.000    0.000    0.007    0.000 distance.py:500(euclidean)\n",
      "       81    0.001    0.000    0.007    0.000 distance.py:429(minkowski)\n",
      "       28    0.001    0.000    0.006    0.000 session.py:687(serialize)\n",
      "     1064    0.003    0.000    0.006    0.000 IPPRMBase.py:25(<listcomp>)\n",
      "     4340    0.003    0.000    0.006    0.000 traitlets.py:689(__get__)\n",
      "      168    0.001    0.000    0.006    0.000 iostream.py:243(schedule)\n",
      "      885    0.002    0.000    0.005    0.000 IPVisibilityPRM_Roundtrip.py:22(addNodeAtPos)\n",
      "    22763    0.005    0.000    0.005    0.000 {method 'add' of 'set' objects}\n",
      "    22962    0.004    0.000    0.004    0.000 coreviews.py:43(__init__)\n",
      "       28    0.000    0.000    0.004    0.000 formatters.py:695(__call__)\n",
      "     1232    0.002    0.000    0.004    0.000 formatters.py:552(_in_deferred_types)\n",
      "      112    0.000    0.000    0.004    0.000 session.py:97(json_packer)\n",
      "       28    0.000    0.000    0.004    0.000 display.py:417(__init__)\n",
      "       81    0.001    0.000    0.004    0.000 _misc.py:17(norm)\n",
      "       28    0.000    0.000    0.004    0.000 display.py:281(__init__)\n",
      "      112    0.001    0.000    0.004    0.000 __init__.py:183(dumps)\n",
      "        1    0.000    0.000    0.004    0.004 IPPlanerBase.py:22(_checkStartGoal)\n",
      "    24625    0.004    0.000    0.004    0.000 {built-in method builtins.iter}\n",
      "      920    0.003    0.000    0.003    0.000 graph.py:515(add_node)\n",
      "      168    0.003    0.000    0.003    0.000 socket.py:621(send)\n",
      "       28    0.000    0.000    0.003    0.000 display.py:57(_safe_exists)\n",
      "       28    0.000    0.000    0.003    0.000 <frozen genericpath>:16(exists)\n",
      "       28    0.003    0.000    0.003    0.000 {built-in method posix.stat}\n",
      "      112    0.000    0.000    0.003    0.000 encoder.py:183(encode)\n",
      "     2128    0.003    0.000    0.003    0.000 random.py:520(uniform)\n",
      "       28    0.001    0.000    0.003    0.000 pretty.py:372(pretty)\n",
      "      336    0.002    0.000    0.003    0.000 inspect.py:2839(args)\n",
      "     9757    0.003    0.000    0.003    0.000 reportviews.py:205(__call__)\n",
      "      885    0.002    0.000    0.003    0.000 <class 'networkx.utils.decorators.argmap'> compilation 4:1(argmap_connected_components_1)\n",
      "     4340    0.003    0.000    0.003    0.000 traitlets.py:651(get)\n",
      "      112    0.002    0.000    0.003    0.000 encoder.py:205(iterencode)\n",
      "     5152    0.002    0.000    0.002    0.000 {method 'update' of 'dict' objects}\n",
      "      336    0.002    0.000    0.002    0.000 inspect.py:2892(apply_defaults)\n",
      "       26    0.000    0.000    0.002    0.000 generic.py:41(shortest_path)\n",
      "       26    0.000    0.000    0.002    0.000 unweighted.py:196(bidirectional_shortest_path)\n",
      "       28    0.000    0.000    0.002    0.000 formatters.py:907(__call__)\n",
      "       26    0.001    0.000    0.002    0.000 unweighted.py:259(_bidirectional_pred_succ)\n",
      "       52    0.000    0.000    0.002    0.000 {built-in method numpy.core._multiarray_umath.implement_array_function}\n",
      "      336    0.001    0.000    0.002    0.000 inspect.py:2862(kwargs)\n",
      "      308    0.001    0.000    0.002    0.000 dir2.py:54(get_real_method)\n",
      "      700    0.001    0.000    0.002    0.000 iostream.py:505(_is_master_process)\n",
      "       81    0.001    0.000    0.002    0.000 function_base.py:562(asarray_chkfinite)\n",
      "       24    0.000    0.000    0.002    0.000 <__array_function__ internals>:177(norm)\n",
      "       28    0.000    0.000    0.002    0.000 session.py:646(msg)\n",
      "       28    0.000    0.000    0.002    0.000 pretty.py:775(_repr_pprint)\n",
      "       28    0.000    0.000    0.001    0.000 formatters.py:953(__call__)\n",
      "       24    0.000    0.000    0.001    0.000 linalg.py:2342(norm)\n",
      "     4377    0.001    0.000    0.001    0.000 {method 'get' of 'dict' objects}\n",
      "     2072    0.001    0.000    0.001    0.000 {built-in method builtins.next}\n",
      "      224    0.001    0.000    0.001    0.000 threading.py:1185(is_alive)\n",
      "     3636    0.001    0.000    0.001    0.000 {built-in method builtins.getattr}\n",
      "      885    0.001    0.000    0.001    0.000 decorators.py:82(_not_implemented_for)\n",
      "       28    0.000    0.000    0.001    0.000 session.py:672(sign)\n",
      "      756    0.001    0.000    0.001    0.000 {built-in method posix.getpid}\n",
      "       28    0.000    0.000    0.001    0.000 iostream.py:327(send_multipart)\n",
      "      162    0.000    0.000    0.001    0.000 distance.py:313(_validate_vector)\n",
      "      700    0.000    0.000    0.001    0.000 iostream.py:532(_schedule_flush)\n",
      "       56    0.000    0.000    0.001    0.000 threading.py:555(__init__)\n",
      "       28    0.000    0.000    0.001    0.000 iostream.py:255(send_multipart)\n",
      "       28    0.000    0.000    0.001    0.000 session.py:643(msg_header)\n",
      "       56    0.000    0.000    0.001    0.000 jsonutil.py:108(json_default)\n",
      "       57    0.000    0.000    0.001    0.000 {method 'all' of 'numpy.ndarray' objects}\n",
      "      885    0.001    0.000    0.001    0.000 graph.py:435(__iter__)\n",
      "       64    0.000    0.000    0.001    0.000 _methods.py:61(_all)\n",
      "     1064    0.001    0.000    0.001    0.000 IPEnvironment.py:27(getEnvironmentLimits)\n",
      "      279    0.001    0.000    0.001    0.000 {built-in method numpy.asarray}\n",
      "     3752    0.001    0.000    0.001    0.000 inspect.py:2751(kind)\n",
      "       72    0.001    0.000    0.001    0.000 {method 'reduce' of 'numpy.ufunc' objects}\n",
      "       56    0.001    0.000    0.001    0.000 threading.py:236(__init__)\n",
      "       24    0.001    0.000    0.001    0.000 {method 'dot' of 'numpy.ndarray' objects}\n",
      "      336    0.001    0.000    0.001    0.000 {method 'format' of 'str' objects}\n",
      "       56    0.001    0.000    0.001    0.000 {method 'isoformat' of 'datetime.datetime' objects}\n",
      "      224    0.000    0.000    0.001    0.000 threading.py:1118(_wait_for_tstate_lock)\n",
      "       28    0.000    0.000    0.001    0.000 pretty.py:355(__init__)\n",
      "       25    0.000    0.000    0.001    0.000 IPVisibilityPRM_Roundtrip.py:41(_getNodeNamebasedOnCoordinates)\n",
      "      336    0.000    0.000    0.001    0.000 pretty.py:321(_get_mro)\n",
      "        6    0.000    0.000    0.001    0.000 {method 'query' of 'scipy.spatial._ckdtree.cKDTree' objects}\n",
      "       56    0.000    0.000    0.001    0.000 pretty.py:184(group)\n",
      "     2128    0.001    0.000    0.001    0.000 {method 'random' of '_random.Random' objects}\n",
      "       28    0.000    0.000    0.000    0.000 session.py:273(msg_header)\n",
      "       56    0.000    0.000    0.000    0.000 pretty.py:280(begin_group)\n",
      "      308    0.000    0.000    0.000    0.000 inspect.py:292(isclass)\n",
      "       28    0.000    0.000    0.000    0.000 pretty.py:201(__init__)\n",
      "      308    0.000    0.000    0.000    0.000 formatters.py:273(_get_type)\n",
      "     1344    0.000    0.000    0.000    0.000 inspect.py:3032(parameters)\n",
      "     1008    0.000    0.000    0.000    0.000 {method 'items' of 'mappingproxy' objects}\n",
      "     1428    0.000    0.000    0.000    0.000 inspect.py:2739(name)\n",
      "       28    0.000    0.000    0.000    0.000 contextlib.py:141(__exit__)\n",
      "       28    0.000    0.000    0.000    0.000 contextlib.py:132(__enter__)\n",
      "       84    0.000    0.000    0.000    0.000 pretty.py:495(enq)\n",
      "       28    0.000    0.000    0.000    0.000 session.py:599(msg_id)\n",
      "       28    0.000    0.000    0.000    0.000 session.py:201(utcnow)\n",
      "      106    0.000    0.000    0.000    0.000 reportviews.py:329(__iter__)\n",
      "       28    0.000    0.000    0.000    0.000 hmac.py:122(copy)\n",
      "       56    0.000    0.000    0.000    0.000 pretty.py:304(end_group)\n",
      "       84    0.000    0.000    0.000    0.000 pretty.py:417(_in_deferred_types)\n",
      "      728    0.000    0.000    0.000    0.000 {method 'write' of '_io.StringIO' objects}\n",
      "      112    0.000    0.000    0.000    0.000 hmac.py:117(update)\n",
      "       28    0.000    0.000    0.000    0.000 contextlib.py:287(helper)\n",
      "       28    0.000    0.000    0.000    0.000 session.py:850(<listcomp>)\n",
      "      336    0.000    0.000    0.000    0.000 inspect.py:2831(__init__)\n",
      "      168    0.000    0.000    0.000    0.000 iostream.py:127(_event_pipe)\n",
      "       28    0.000    0.000    0.000    0.000 zmqshell.py:73(_hooks)\n",
      "       28    0.000    0.000    0.000    0.000 hmac.py:161(hexdigest)\n",
      "      911    0.000    0.000    0.000    0.000 graph.py:1557(is_directed)\n",
      "       28    0.000    0.000    0.000    0.000 pretty.py:490(__init__)\n",
      "       28    0.000    0.000    0.000    0.000 session.py:280(extract_header)\n",
      "      702    0.000    0.000    0.000    0.000 {method '__exit__' of '_thread.RLock' objects}\n",
      "      336    0.000    0.000    0.000    0.000 {method 'values' of 'mappingproxy' objects}\n",
      "       24    0.000    0.000    0.000    0.000 {method 'astype' of 'numpy.ndarray' objects}\n",
      "      308    0.000    0.000    0.000    0.000 formatters.py:358(_check_return)\n",
      "       56    0.000    0.000    0.000    0.000 configurable.py:522(instance)\n",
      "       28    0.000    0.000    0.000    0.000 {method 'replace' of 'datetime.datetime' objects}\n",
      "      336    0.000    0.000    0.000    0.000 {built-in method builtins.id}\n",
      "      196    0.000    0.000    0.000    0.000 pretty.py:118(_safe_getattr)\n",
      "       57    0.000    0.000    0.000    0.000 blas.py:384(getter)\n",
      "       28    0.000    0.000    0.000    0.000 display.py:418(warn)\n",
      "      112    0.000    0.000    0.000    0.000 {method 'update' of '_hashlib.HMAC' objects}\n",
      "       28    0.000    0.000    0.000    0.000 contextlib.py:104(__init__)\n",
      "       56    0.000    0.000    0.000    0.000 threading.py:1446(current_thread)\n",
      "       55    0.000    0.000    0.000    0.000 threading.py:276(_acquire_restore)\n",
      "       12    0.000    0.000    0.000    0.000 <__array_function__ internals>:177(reshape)\n",
      "      112    0.000    0.000    0.000    0.000 encoder.py:105(__init__)\n",
      "      106    0.000    0.000    0.000    0.000 reportviews.py:311(__init__)\n",
      "       28    0.000    0.000    0.000    0.000 {built-in method builtins.repr}\n",
      "       28    0.000    0.000    0.000    0.000 {method 'hexdigest' of '_hashlib.HMAC' objects}\n",
      "       56    0.000    0.000    0.000    0.000 threading.py:267(__exit__)\n",
      "       28    0.000    0.000    0.000    0.000 {method 'copy' of '_hashlib.HMAC' objects}\n",
      "       12    0.000    0.000    0.000    0.000 fromnumeric.py:198(reshape)\n",
      "       28    0.000    0.000    0.000    0.000 pretty.py:232(text)\n",
      "      392    0.000    0.000    0.000    0.000 {built-in method builtins.callable}\n",
      "       28    0.000    0.000    0.000    0.000 displaypub.py:43(_validate_data)\n",
      "       56    0.000    0.000    0.000    0.000 threading.py:264(__enter__)\n",
      "       84    0.000    0.000    0.000    0.000 pretty.py:482(__init__)\n",
      "       12    0.000    0.000    0.000    0.000 fromnumeric.py:51(_wrapfunc)\n",
      "      140    0.000    0.000    0.000    0.000 {method 'encode' of 'str' objects}\n",
      "        7    0.000    0.000    0.000    0.000 <__array_function__ internals>:177(amax)\n",
      "       55    0.000    0.000    0.000    0.000 threading.py:279(_is_owned)\n",
      "       55    0.000    0.000    0.000    0.000 threading.py:273(_release_save)\n",
      "      111    0.000    0.000    0.000    0.000 {built-in method _thread.allocate_lock}\n",
      "       28    0.000    0.000    0.000    0.000 configurable.py:566(initialized)\n",
      "      224    0.000    0.000    0.000    0.000 threading.py:568(is_set)\n",
      "        7    0.000    0.000    0.000    0.000 fromnumeric.py:2703(amax)\n",
      "       56    0.000    0.000    0.000    0.000 pretty.py:512(remove)\n",
      "      223    0.000    0.000    0.000    0.000 {method 'append' of 'collections.deque' objects}\n",
      "       56    0.000    0.000    0.000    0.000 {method 'replace' of 'str' objects}\n",
      "       28    0.000    0.000    0.000    0.000 formatters.py:944(_check_return)\n",
      "       12    0.000    0.000    0.000    0.000 fromnumeric.py:38(_wrapit)\n",
      "        8    0.000    0.000    0.000    0.000 fromnumeric.py:69(_wrapreduction)\n",
      "       24    0.000    0.000    0.000    0.000 linalg.py:117(isComplexType)\n",
      "       28    0.000    0.000    0.000    0.000 display.py:330(__repr__)\n",
      "      112    0.000    0.000    0.000    0.000 threading.py:1161(ident)\n",
      "       28    0.000    0.000    0.000    0.000 pretty.py:313(flush)\n",
      "       84    0.000    0.000    0.000    0.000 {method 'get' of 'mappingproxy' objects}\n",
      "        2    0.000    0.000    0.000    0.000 functools.py:981(__get__)\n",
      "       28    0.000    0.000    0.000    0.000 display.py:434(_repr_html_)\n",
      "       28    0.000    0.000    0.000    0.000 display.py:349(reload)\n",
      "       28    0.000    0.000    0.000    0.000 display.py:405(_check_data)\n",
      "        1    0.000    0.000    0.000    0.000 function.py:655(get_node_attributes)\n",
      "      109    0.000    0.000    0.000    0.000 {method 'pop' of 'list' objects}\n",
      "       28    0.000    0.000    0.000    0.000 jsonutil.py:77(json_clean)\n",
      "       56    0.000    0.000    0.000    0.000 jsonutil.py:39(_ensure_tzinfo)\n",
      "       28    0.000    0.000    0.000    0.000 {built-in method utcnow}\n",
      "       56    0.000    0.000    0.000    0.000 {built-in method _thread.get_ident}\n",
      "       56    0.000    0.000    0.000    0.000 {method 'startswith' of 'str' objects}\n",
      "       28    0.000    0.000    0.000    0.000 {built-in method builtins.locals}\n",
      "        1    0.000    0.000    0.000    0.000 function.py:677(<dictcomp>)\n",
      "       48    0.000    0.000    0.000    0.000 {built-in method builtins.issubclass}\n",
      "       59    0.000    0.000    0.000    0.000 {method 'remove' of 'list' objects}\n",
      "       31    0.000    0.000    0.000    0.000 {built-in method builtins.min}\n",
      "       56    0.000    0.000    0.000    0.000 {method '__exit__' of '_thread.lock' objects}\n",
      "       52    0.000    0.000    0.000    0.000 graph.py:453(__contains__)\n",
      "       28    0.000    0.000    0.000    0.000 {built-in method builtins.max}\n",
      "      112    0.000    0.000    0.000    0.000 {method 'join' of 'str' objects}\n",
      "       56    0.000    0.000    0.000    0.000 {method '__enter__' of '_thread.lock' objects}\n",
      "       30    0.000    0.000    0.000    0.000 <frozen _collections_abc>:859(__iter__)\n",
      "       28    0.000    0.000    0.000    0.000 {method 'splitlines' of 'str' objects}\n",
      "       24    0.000    0.000    0.000    0.000 {method 'ravel' of 'numpy.ndarray' objects}\n",
      "       28    0.000    0.000    0.000    0.000 {method 'getvalue' of '_io.StringIO' objects}\n",
      "       56    0.000    0.000    0.000    0.000 {method 'pop' of 'dict' objects}\n",
      "       56    0.000    0.000    0.000    0.000 {method 'extend' of 'list' objects}\n",
      "       55    0.000    0.000    0.000    0.000 {method 'release' of '_thread.lock' objects}\n",
      "        6    0.000    0.000    0.000    0.000 <__array_function__ internals>:177(shape)\n",
      "       56    0.000    0.000    0.000    0.000 {method 'lower' of 'str' objects}\n",
      "       28    0.000    0.000    0.000    0.000 display.py:342(_data_and_metadata)\n",
      "       31    0.000    0.000    0.000    0.000 {method 'index' of 'list' objects}\n",
      "       28    0.000    0.000    0.000    0.000 {built-in method __new__ of type object at 0x860f60}\n",
      "       28    0.000    0.000    0.000    0.000 tz.py:74(utcoffset)\n",
      "       12    0.000    0.000    0.000    0.000 {method 'reshape' of 'numpy.ndarray' objects}\n",
      "       28    0.000    0.000    0.000    0.000 hmac.py:139(_current)\n",
      "        1    0.000    0.000    0.000    0.000 <__array_function__ internals>:177(amin)\n",
      "       26    0.000    0.000    0.000    0.000 {method 'reverse' of 'list' objects}\n",
      "       28    0.000    0.000    0.000    0.000 {method 'copy' of 'dict' objects}\n",
      "       28    0.000    0.000    0.000    0.000 {method 'clear' of 'collections.deque' objects}\n",
      "       28    0.000    0.000    0.000    0.000 formatters.py:830(_check_return)\n",
      "       24    0.000    0.000    0.000    0.000 linalg.py:2338(_norm_dispatcher)\n",
      "        6    0.000    0.000    0.000    0.000 numeric.py:1878(isscalar)\n",
      "        1    0.000    0.000    0.000    0.000 graph.py:374(adj)\n",
      "        1    0.000    0.000    0.000    0.000 fromnumeric.py:2829(amin)\n",
      "       28    0.000    0.000    0.000    0.000 jsonutil.py:52(encode_images)\n",
      "        2    0.000    0.000    0.000    0.000 <__array_function__ internals>:177(copy)\n",
      "        8    0.000    0.000    0.000    0.000 fromnumeric.py:70(<dictcomp>)\n",
      "        1    0.000    0.000    0.000    0.000 graph.py:1519(clear)\n",
      "        1    0.000    0.000    0.000    0.000 graph.py:732(nodes)\n",
      "        1    0.000    0.000    0.000    0.000 <frozen _collections_abc>:790(items)\n",
      "        2    0.000    0.000    0.000    0.000 function_base.py:871(copy)\n",
      "       12    0.000    0.000    0.000    0.000 {method 'keys' of 'dict' objects}\n",
      "        6    0.000    0.000    0.000    0.000 fromnumeric.py:1991(shape)\n",
      "       12    0.000    0.000    0.000    0.000 fromnumeric.py:193(_reshape_dispatcher)\n",
      "        1    0.000    0.000    0.000    0.000 reportviews.py:178(__init__)\n",
      "        7    0.000    0.000    0.000    0.000 fromnumeric.py:2698(_amax_dispatcher)\n",
      "        6    0.000    0.000    0.000    0.000 fromnumeric.py:1987(_shape_dispatcher)\n",
      "        1    0.000    0.000    0.000    0.000 reportviews.py:185(__iter__)\n",
      "        3    0.000    0.000    0.000    0.000 {method 'clear' of 'dict' objects}\n",
      "        1    0.000    0.000    0.000    0.000 {method 'disable' of '_lsprof.Profiler' objects}\n",
      "        1    0.000    0.000    0.000    0.000 <frozen _collections_abc>:812(__init__)\n",
      "        1    0.000    0.000    0.000    0.000 {method 'values' of 'dict' objects}\n",
      "        2    0.000    0.000    0.000    0.000 function_base.py:867(_copy_dispatcher)\n",
      "        1    0.000    0.000    0.000    0.000 fromnumeric.py:2824(_amin_dispatcher)\n",
      "\n",
      "\n",
      "Mon Jan  8 20:11:47 2024    visibilitystats\n",
      "\n",
      "         7671602 function calls (7595820 primitive calls) in 10.041 seconds\n",
      "\n",
      "   Ordered by: cumulative time\n",
      "   List reduced from 281 to 15 due to restriction <15>\n",
      "\n",
      "   ncalls  tottime  percall  cumtime  percall filename:lineno(function)\n",
      "        1    0.000    0.000   10.041   10.041 {built-in method builtins.exec}\n",
      "        1    0.000    0.000   10.040   10.040 <string>:1(<module>)\n",
      "  75783/1    0.230    0.000   10.040   10.040 IPPerfMonitor.py:24(__call__)\n",
      "        1    0.001    0.001   10.040   10.040 IPVisibilityPRM_Roundtrip.py:145(planRoundPath)\n",
      "        1    0.032    0.032    9.881    9.881 IPVisibilityPRM_Roundtrip.py:96(_learnRoadmap)\n",
      "     4198    0.009    0.000    9.567    0.002 IPVisibilityPRM_Roundtrip.py:38(_isVisible)\n",
      "     4204    0.599    0.000    9.549    0.002 IPEnvironment.py:42(lineInCollision)\n",
      "    70661    0.660    0.000    8.577    0.000 IPEnvironment.py:31(pointInCollision)\n",
      "   209997    0.627    0.000    3.778    0.000 point.py:38(__init__)\n",
      "   209997    0.278    0.000    2.951    0.000 base.py:803(intersects)\n",
      "   209997    2.051    0.000    2.614    0.000 predicates.py:11(__call__)\n",
      "   209997    1.567    0.000    1.762    0.000 point.py:244(geos_point_from_py)\n",
      "   419994    0.719    0.000    1.451    0.000 base.py:191(_empty)\n",
      "  1679976    1.266    0.000    1.266    0.000 base.py:245(__setattr__)\n",
      "   209997    0.275    0.000    1.175    0.000 base.py:240(_set_geom)\n",
      "\n",
      "\n",
      "Mon Jan  8 20:11:47 2024    visibilitystats\n",
      "\n",
      "         7671602 function calls (7595820 primitive calls) in 10.041 seconds\n",
      "\n",
      "   Ordered by: call count\n",
      "   List reduced from 281 to 15 due to restriction <15>\n",
      "\n",
      "   ncalls  tottime  percall  cumtime  percall filename:lineno(function)\n",
      "  1679976    1.266    0.000    1.266    0.000 base.py:245(__setattr__)\n",
      "   920427    0.129    0.000    0.129    0.000 {built-in method builtins.len}\n",
      "   839988    0.163    0.000    0.163    0.000 base.py:228(_geom)\n",
      "   432031    0.115    0.000    0.115    0.000 {built-in method builtins.isinstance}\n",
      "   421297    0.106    0.000    0.106    0.000 {built-in method builtins.hasattr}\n",
      "   419994    0.301    0.000    0.439    0.000 topology.py:18(_validate)\n",
      "   419994    0.719    0.000    1.451    0.000 base.py:191(_empty)\n",
      "   209997    0.627    0.000    3.778    0.000 point.py:38(__init__)\n",
      "   209997    1.567    0.000    1.762    0.000 point.py:244(geos_point_from_py)\n",
      "   209997    0.278    0.000    2.951    0.000 base.py:803(intersects)\n",
      "   209997    0.053    0.000    0.053    0.000 geos.py:607(errcheck_predicate)\n",
      "   209997    0.059    0.000    0.059    0.000 impl.py:56(__getitem__)\n",
      "   209997    0.189    0.000    1.143    0.000 base.py:208(__del__)\n",
      "   209997    2.051    0.000    2.614    0.000 predicates.py:11(__call__)\n",
      "   209997    0.275    0.000    1.175    0.000 base.py:240(_set_geom)\n",
      "\n",
      "\n",
      "Mon Jan  8 20:11:47 2024    visibilitystats\n",
      "\n",
      "         7671602 function calls (7595820 primitive calls) in 10.041 seconds\n",
      "\n",
      "   Ordered by: internal time\n",
      "   List reduced from 281 to 15 due to restriction <15>\n",
      "\n",
      "   ncalls  tottime  percall  cumtime  percall filename:lineno(function)\n",
      "   209997    2.051    0.000    2.614    0.000 predicates.py:11(__call__)\n",
      "   209997    1.567    0.000    1.762    0.000 point.py:244(geos_point_from_py)\n",
      "  1679976    1.266    0.000    1.266    0.000 base.py:245(__setattr__)\n",
      "   419994    0.719    0.000    1.451    0.000 base.py:191(_empty)\n",
      "    70661    0.660    0.000    8.577    0.000 IPEnvironment.py:31(pointInCollision)\n",
      "   209997    0.627    0.000    3.778    0.000 point.py:38(__init__)\n",
      "     4204    0.599    0.000    9.549    0.002 IPEnvironment.py:42(lineInCollision)\n",
      "   419994    0.301    0.000    0.439    0.000 topology.py:18(_validate)\n",
      "   209997    0.278    0.000    2.951    0.000 base.py:803(intersects)\n",
      "   209997    0.275    0.000    1.175    0.000 base.py:240(_set_geom)\n",
      "    75783    0.243    0.000    0.243    0.000 IPPerfMonitor.py:38(__get__)\n",
      "  75783/1    0.230    0.000   10.040   10.040 IPPerfMonitor.py:24(__call__)\n",
      "   209997    0.189    0.000    1.143    0.000 base.py:208(__del__)\n",
      "   839988    0.163    0.000    0.163    0.000 base.py:228(_geom)\n",
      "   920427    0.129    0.000    0.129    0.000 {built-in method builtins.len}\n",
      "\n",
      "\n"
     ]
    },
    {
     "data": {
      "image/png": "[encoded data removed]",
      "text/plain": [
       "<Figure size 1000x1000 with 1 Axes>"
      ]
     },
     "metadata": {},
     "output_type": "display_data"
    }
   ],
   "source": [
    "# utility functions to read and access data in astartstats\n",
    "import pstats\n",
    "from pstats import SortKey\n",
    "\n",
    "p = pstats.Stats('visibilitystats')\n",
    "p.strip_dirs().sort_stats(SortKey.CUMULATIVE).print_stats()\n",
    "p.sort_stats(SortKey.CUMULATIVE).print_stats(15)\n",
    "p.sort_stats(SortKey.CALLS).print_stats(15)\n",
    "p.sort_stats(SortKey.TIME).print_stats(15)\n",
    "\n",
    "fig_local = plt.figure(figsize=(10,10))\n",
    "ax = fig_local.add_subplot(1,1,1)\n",
    "\n",
    "for result in resultList:\n",
    "    print(\"result\")\n",
    "    if result.benchmark.name == bench.name:\n",
    "        #print result.benchmark.name  + \" - \" +  result.plannerFactoryName, len(result.solution)\n",
    "        pathLength[result.plannerFactoryName] = len(result.solution)\n",
    "        planningTime[result.plannerFactoryName] = result.perfDataFrame.groupby([\"name\"]).sum(numeric_only=True)[\"time\"][\"planRoundPath\"]\n",
    "        roadmapSize[result.plannerFactoryName] = result.planner.graph.size()\n",
    "\n",
    "#aStarVisualize(astar, solution, ax = ax)\n",
    "    IPVISVisibilityPRM.visibilityPRMVisualize(result.planner, result.solution, ax=ax, nodeSize=100)"
   ]
  },
  {
   "cell_type": "code",
   "execution_count": null,
   "id": "939e0eaf-e571-4a9a-8510-5f569a315685",
   "metadata": {},
   "outputs": [],
   "source": []
  },
  {
   "cell_type": "markdown",
   "id": "5fe3a3f3-5a7e-42ea-a446-b4a120411f29",
   "metadata": {
    "tags": []
   },
   "source": [
    "Example using IPerfMonitor\n",
    "--------------------------"
   ]
  },
  {
   "cell_type": "code",
   "execution_count": 6,
   "id": "39d219d4-9c65-4eb3-b520-9c25414296b2",
   "metadata": {},
   "outputs": [],
   "source": [
    "from IPPerfMonitor import IPPerfMonitor"
   ]
  },
  {
   "cell_type": "code",
   "execution_count": 7,
   "id": "09e99076-2957-4076-9c7d-0f90be63a4bb",
   "metadata": {},
   "outputs": [
    {
     "ename": "NameError",
     "evalue": "name 'IPTestSuiteSS2023' is not defined",
     "output_type": "error",
     "traceback": [
      "\u001b[0;31m---------------------------------------------------------------------------\u001b[0m",
      "\u001b[0;31mNameError\u001b[0m                                 Traceback (most recent call last)",
      "Cell \u001b[0;32mIn[7], line 1\u001b[0m\n\u001b[0;32m----> 1\u001b[0m benchList \u001b[38;5;241m=\u001b[39m IPTestSuiteSS2023\u001b[38;5;241m.\u001b[39mbenchList\n\u001b[1;32m      3\u001b[0m \u001b[38;5;66;03m# AStar and first environment\u001b[39;00m\n\u001b[1;32m      4\u001b[0m astar \u001b[38;5;241m=\u001b[39m AStar(benchList[\u001b[38;5;241m0\u001b[39m]\u001b[38;5;241m.\u001b[39mcollisionChecker)\n",
      "\u001b[0;31mNameError\u001b[0m: name 'IPTestSuiteSS2023' is not defined"
     ]
    }
   ],
   "source": [
    "\n",
    "\n",
    "\n",
    "benchList = IPTestSuiteSS2023.benchList\n",
    "\n",
    "# AStar and first environment\n",
    "astar = AStar(benchList[0].collisionChecker)\n",
    "astarConfig = dict()\n",
    "astarConfig[\"w\"] = 0.5\n",
    "astarConfig[\"heuristic\"]  = \"manhattan\"\n",
    "\n",
    "start = benchList[0].startList\n",
    "goal = benchList[0].goalList\n",
    "\n",
    "IPPerfMonitor.clearData()\n",
    "solution = astar.planPath(start, goal, astarConfig)\n",
    "data_frame = IPPerfMonitor.dataFrame()\n",
    "\n",
    "fig_local = plt.figure(figsize=(10,10))\n",
    "ax = fig_local.add_subplot(1,1,1)\n",
    "aStarVisualize(astar, solution, ax = ax)"
   ]
  },
  {
   "cell_type": "code",
   "execution_count": null,
   "id": "e2bf0fe1-4908-4895-a17a-7fe5557aa52c",
   "metadata": {},
   "outputs": [],
   "source": [
    "data_frame"
   ]
  },
  {
   "cell_type": "code",
   "execution_count": null,
   "id": "51bed6dc-8456-413e-b978-6b15084daba8",
   "metadata": {},
   "outputs": [],
   "source": [
    "data_frame.groupby([\"name\"]).sum(numeric_only=True)"
   ]
  },
  {
   "cell_type": "code",
   "execution_count": null,
   "id": "a8c2aadc-dcd7-43bb-b282-3b4040306f80",
   "metadata": {},
   "outputs": [],
   "source": [
    "data_frame.groupby([\"name\"]).count()"
   ]
  },
  {
   "cell_type": "code",
   "execution_count": null,
   "id": "777a60f9-c90c-45b0-ac4e-19f89aa36f49",
   "metadata": {},
   "outputs": [],
   "source": [
    "data_frame[data_frame[\"name\"]==\"pointInCollision\"][data_frame[\"retVal\"]==True].count()"
   ]
  },
  {
   "cell_type": "markdown",
   "id": "d8666ada-8cde-4075-b7d8-49ef38b5e2c1",
   "metadata": {},
   "source": [
    "Second Example using IPPerfMonitor\n",
    "----------------------------------"
   ]
  },
  {
   "cell_type": "code",
   "execution_count": null,
   "id": "2a70b89b-fbf8-439e-96c9-fabf4d3d58b0",
   "metadata": {},
   "outputs": [],
   "source": [
    "import IPVisibilityPRM\n",
    "import IPVISVisibilityPRM"
   ]
  },
  {
   "cell_type": "code",
   "execution_count": null,
   "id": "0d518867-bbfc-4b28-9119-f82494c876ce",
   "metadata": {},
   "outputs": [],
   "source": [
    "\n",
    "visbilityConfig = dict()\n",
    "visbilityConfig[\"ntry\"] = 300\n",
    "\n",
    "vis = IPVisibilityPRM.VisPRM(benchList[3].collisionChecker)\n",
    "\n",
    "start = benchList[3].startList\n",
    "goal = benchList[3].goalList\n",
    "\n",
    "IPPerfMonitor.clearData()\n",
    "solution = vis.planPath(start, goal, visbilityConfig)\n",
    "data_frame = IPPerfMonitor.dataFrame()\n",
    "\n",
    "fig_local = plt.figure(figsize=(10,10))\n",
    "ax = fig_local.add_subplot(1,1,1)\n",
    "IPVISVisibilityPRM.visibilityPRMVisualize(vis, solution, ax = ax)"
   ]
  },
  {
   "cell_type": "code",
   "execution_count": null,
   "id": "f25b6cc2-b756-44c2-ac2e-5fdf96ee1669",
   "metadata": {},
   "outputs": [],
   "source": [
    "data_frame"
   ]
  },
  {
   "cell_type": "code",
   "execution_count": null,
   "id": "472966ab-87ca-423b-afbb-86e07eb3530d",
   "metadata": {},
   "outputs": [],
   "source": [
    "data_frame.groupby([\"name\"]).count()"
   ]
  },
  {
   "cell_type": "code",
   "execution_count": null,
   "id": "b26dcbfa-9ad2-4a26-973d-2f730afe7834",
   "metadata": {
    "tags": []
   },
   "outputs": [],
   "source": [
    "data_frame.groupby([\"name\"]).sum(numeric_only=True)"
   ]
  },
  {
   "cell_type": "markdown",
   "id": "a52a48fa-548c-4664-816d-391b523d9a5e",
   "metadata": {},
   "source": [
    "Third example ...\n",
    "-----------------"
   ]
  },
  {
   "cell_type": "code",
   "execution_count": null,
   "id": "03f96276-28e7-4233-a432-b70f68e62398",
   "metadata": {},
   "outputs": [],
   "source": [
    "import IPRRT\n",
    "import IPVISRRT\n",
    "\n",
    "rrtSimpleConfig = dict()\n",
    "rrtSimpleConfig[\"numberOfGeneratedNodes\"] = 300 \n",
    "rrtSimpleConfig[\"testGoalAfterNumberOfNodes\"]  = 10\n"
   ]
  },
  {
   "cell_type": "code",
   "execution_count": null,
   "id": "f4536d5b-e0e8-4e70-b0c7-22916a29df2d",
   "metadata": {},
   "outputs": [],
   "source": [
    "\n",
    "\n",
    "rrt = IPRRT.RRTSimple(benchList[1].collisionChecker)\n",
    "\n",
    "start = benchList[1].startList\n",
    "goal = benchList[1].goalList\n",
    "\n",
    "IPPerfMonitor.clearData()\n",
    "solution = rrt.planPath(start, goal, rrtSimpleConfig)\n",
    "data_frame = IPPerfMonitor.dataFrame()\n",
    "\n",
    "fig_local = plt.figure(figsize=(10,10))\n",
    "ax = fig_local.add_subplot(1,1,1)\n",
    "IPVISRRT.rrtPRMVisualize(rrt, solution, ax = ax)"
   ]
  },
  {
   "cell_type": "code",
   "execution_count": null,
   "id": "149856cc-1f3f-4ced-838f-f285d02c1f44",
   "metadata": {},
   "outputs": [],
   "source": [
    "data_frame"
   ]
  },
  {
   "cell_type": "code",
   "execution_count": null,
   "id": "1e8b4ca5-fa93-4cc5-bc27-ba0afcb91c89",
   "metadata": {},
   "outputs": [],
   "source": [
    "data_frame.groupby([\"name\"]).count()"
   ]
  },
  {
   "cell_type": "code",
   "execution_count": null,
   "id": "92d54500-f0e9-4216-9e21-1ec34d5d4258",
   "metadata": {},
   "outputs": [],
   "source": [
    "data_frame.groupby([\"name\"]).sum(numeric_only=True)"
   ]
  },
  {
   "cell_type": "code",
   "execution_count": null,
   "id": "bf3bd804-d490-4cfa-a423-55873e0d4601",
   "metadata": {},
   "outputs": [],
   "source": []
  },
  {
   "cell_type": "code",
   "execution_count": null,
   "id": "4ef4d01e-098f-409b-bb9c-60c08c03b3fd",
   "metadata": {},
   "outputs": [],
   "source": []
  }
 ],
 "metadata": {
  "kernelspec": {
   "display_name": "Python 3 (ipykernel)",
   "language": "python",
   "name": "python3"
  },
  "language_info": {
   "codemirror_mode": {
    "name": "ipython",
    "version": 3
   },
   "file_extension": ".py",
   "mimetype": "text/x-python",
   "name": "python",
   "nbconvert_exporter": "python",
   "pygments_lexer": "ipython3",
   "version": "3.11.5"
  }
 },
 "nbformat": 4,
 "nbformat_minor": 5
}
