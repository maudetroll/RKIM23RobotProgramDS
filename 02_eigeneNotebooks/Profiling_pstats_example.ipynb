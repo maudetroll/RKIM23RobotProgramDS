{
 "cells": [
  {
   "cell_type": "markdown",
   "id": "d07ba628-123d-42c0-bf4a-06a1bf5a885a",
   "metadata": {},
   "source": [
    "Example Profiling\n",
    "==============================\n",
    "\n",
    "\n",
    "\n",
    "Example using cProfile/pstats\n",
    "-----------------------------\n",
    "\n",
    "Following an example how to profile the algorithm using https://docs.python.org/3/library/profile.html\n"
   ]
  },
  {
   "cell_type": "code",
   "execution_count": 1,
   "id": "6866714d-538a-48eb-ad09-14a50de4697c",
   "metadata": {
    "collapsed": false,
    "jupyter": {
     "outputs_hidden": false
    },
    "tags": []
   },
   "outputs": [
    {
     "name": "stdout",
     "output_type": "stream",
     "text": [
      "[<IPBenchmark.Benchmark object at 0x7f54542f2550>, <IPBenchmark.Benchmark object at 0x7f540e92fb50>, <IPBenchmark.Benchmark object at 0x7f540e92ff10>, <IPBenchmark.Benchmark object at 0x7f540e94c6d0>, <IPBenchmark.Benchmark object at 0x7f540e94d350>]\n"
     ]
    }
   ],
   "source": [
    "import IPTestSuite\n",
    "import IPLazyPRM_Roundtrip\n",
    "import IPVISLazyPRM\n",
    "\n",
    "import IPVISVisibilityPRM\n",
    "import IPVisibilityPRM_Roundtrip\n",
    "\n",
    "import IPBasicPRM_Roundtrip\n",
    "import IPVISBasicPRM\n",
    "\n",
    "import HelperClass\n",
    "from IPPerfMonitor import IPPerfMonitor\n",
    "\n",
    "import IPVISBasicPRM\n",
    "\n",
    "\n",
    "\n",
    "from __future__ import print_function\n",
    "import sys\n",
    "\n",
    "from IPython.utils import io\n",
    "\n",
    "from matplotlib import pylab as plt\n",
    "\n",
    "benchList = IPTestSuite.benchList\n",
    "print(benchList)\n",
    "\n",
    "\n",
    "start = benchList[0].startList\n",
    "goal = benchList[0].goalList\n",
    "\n",
    "plannerFactory = dict()\n",
    "\n",
    "basicConfig = dict()\n",
    "basicConfig[\"radius\"] = 3\n",
    "basicConfig[\"numNodes\"] = 200\n",
    "plannerFactory[\"basePRM\"] = [IPBasicPRM_Roundtrip.BasicPRM, basicConfig, IPVISBasicPRM.basicPRMVisualize]\n",
    "\n",
    "visbilityConfig = dict()\n",
    "visbilityConfig[\"ntry\"] = 300\n",
    "plannerFactory[\"visibilityPRM\"] = [IPVisibilityPRM_Roundtrip.VisPRM, visbilityConfig, IPVISVisibilityPRM.visibilityPRMVisualize ]\n",
    "\n",
    "lazyConfig = dict()\n",
    "lazyConfig[\"initialRoadmapSize\"] = 50\n",
    "lazyConfig[\"updateRoadmapSize\"]  = 2\n",
    "lazyConfig[\"kNearest\"] = 10\n",
    "plannerFactory[\"lazyPRM\"] = [IPLazyPRM_Roundtrip.LazyPRM, lazyConfig, IPVISLazyPRM.lazyPRMVisualize]"
   ]
  },
  {
   "cell_type": "code",
   "execution_count": 2,
   "id": "ea0b93c6-ef4b-47bb-a93d-bf7353416ab7",
   "metadata": {
    "tags": []
   },
   "outputs": [],
   "source": [
    "class ResultCollection (object):\n",
    "    \n",
    "    def __init__(self, plannerFactoryName, planner, benchmark, solution, perfDataFrame):\n",
    "        self.plannerFactoryName = plannerFactoryName\n",
    "        self.planner = planner\n",
    "        self.benchmark = benchmark\n",
    "        self.solution = solution\n",
    "        self.perfDataFrame = perfDataFrame"
   ]
  },
  {
   "cell_type": "code",
   "execution_count": 3,
   "id": "81ac144e-547b-40fa-81d4-b360f929a7fb",
   "metadata": {
    "tags": []
   },
   "outputs": [
    {
     "data": {
      "text/html": [
       "<font color='yellow'>basePRM [<class 'IPBasicPRM_Roundtrip.BasicPRM'>, {'radius': 3, 'numNodes': 200}, <function basicPRMVisualize at 0x7f540cbf2020>]</font>"
      ],
      "text/plain": [
       "<IPython.core.display.HTML object>"
      ]
     },
     "metadata": {},
     "output_type": "display_data"
    },
    {
     "name": "stdout",
     "output_type": "stream",
     "text": [
      "basePRM\n",
      "Hallo\n"
     ]
    },
    {
     "data": {
      "text/html": [
       "<font color='yellow'>visibilityPRM [<class 'IPVisibilityPRM_Roundtrip.VisPRM'>, {'ntry': 300}, <function visibilityPRMVisualize at 0x7f540cbf1f80>]</font>"
      ],
      "text/plain": [
       "<IPython.core.display.HTML object>"
      ]
     },
     "metadata": {},
     "output_type": "display_data"
    },
    {
     "name": "stdout",
     "output_type": "stream",
     "text": [
      "visibilityPRM\n",
      "Hallo\n"
     ]
    },
    {
     "data": {
      "text/html": [
       "<font color='yellow'>lazyPRM [<class 'IPLazyPRM_Roundtrip.LazyPRM'>, {'initialRoadmapSize': 50, 'updateRoadmapSize': 2, 'kNearest': 10}, <function lazyPRMVisualize at 0x7f540e937600>]</font>"
      ],
      "text/plain": [
       "<IPython.core.display.HTML object>"
      ]
     },
     "metadata": {},
     "output_type": "display_data"
    },
    {
     "name": "stdout",
     "output_type": "stream",
     "text": [
      "lazyPRM\n",
      "Hallo\n"
     ]
    }
   ],
   "source": [
    "resultList = list()\n",
    "testList = benchList[:1]\n",
    "i = 0\n",
    "for key,producer in list(plannerFactory.items()):\n",
    "    HelperClass.HelperClass.printInColor(str(key)+\" \"+ str(producer), 'yellow')\n",
    "    #print(key, producer)\n",
    "    print(key)\n",
    "    for benchmark in testList:\n",
    "        #HelperClass.HelperClass.printInColor(\"Planning: \" + key + \" - \" + benchmark.name, 'yellow')\n",
    "        #planner = IPBasicPRM.BasicPRM(benchmark.collisionChecker)\n",
    "        planner = producer[0](benchmark.collisionChecker)\n",
    "        IPPerfMonitor.clearData()\n",
    "        \n",
    "        print(\"Hallo\")\n",
    "        try:\n",
    "            with io.capture_output() as captured:\n",
    "                resultList.append(ResultCollection(key,\n",
    "                                        planner, \n",
    "                                        benchmark, \n",
    "                                        planner.planRoundPath(benchmark.startList,benchmark.interimGoalList,benchmark.goalList,producer[1]),\n",
    "                                        IPPerfMonitor.dataFrame()),)\n",
    "            #a = planner.planPath(benchmark.startList,benchmark.goalList,producer[1])\n",
    "            # print(\"\")\n",
    "            i = i + 1\n",
    "\n",
    "        except Exception as e:\n",
    "            HelperClass.HelperClass.printInColor(\"PLANNING ERROR ! PLANNING ERROR ! PLANNING ERROR\", 'red')\n",
    "            HelperClass.HelperClass.printInColor(e, 'red')\n",
    "            pass\n",
    "\n",
    "        "
   ]
  },
  {
   "cell_type": "code",
   "execution_count": 4,
   "id": "1dd955f1-e25e-4a83-b49d-f16a90729982",
   "metadata": {
    "tags": []
   },
   "outputs": [
    {
     "name": "stdout",
     "output_type": "stream",
     "text": [
      "i basePRM\n",
      "i visibilityPRM\n",
      "i lazyPRM\n",
      "plannerFactory 1 [<class 'IPBasicPRM_Roundtrip.BasicPRM'>, {'radius': 3, 'numNodes': 200}, <function basicPRMVisualize at 0x7f540cbf2020>]\n"
     ]
    },
    {
     "data": {
      "text/html": [
       "<font color='red'>BasicPRMRound</font>"
      ],
      "text/plain": [
       "<IPython.core.display.HTML object>"
      ]
     },
     "metadata": {},
     "output_type": "display_data"
    },
    {
     "ename": "TypeError",
     "evalue": "list indices must be integers or slices, not str",
     "output_type": "error",
     "traceback": [
      "\u001b[0;31m---------------------------------------------------------------------------\u001b[0m",
      "\u001b[0;31mTypeError\u001b[0m                                 Traceback (most recent call last)",
      "Cell \u001b[0;32mIn[4], line 21\u001b[0m\n\u001b[1;32m     19\u001b[0m HelperClass\u001b[38;5;241m.\u001b[39mHelperClass\u001b[38;5;241m.\u001b[39mprintInColor(\u001b[38;5;124m\"\u001b[39m\u001b[38;5;124mBasicPRMRound\u001b[39m\u001b[38;5;124m\"\u001b[39m, \u001b[38;5;124m\"\u001b[39m\u001b[38;5;124mred\u001b[39m\u001b[38;5;124m\"\u001b[39m)\n\u001b[1;32m     20\u001b[0m \u001b[38;5;28;01mwith\u001b[39;00m io\u001b[38;5;241m.\u001b[39mcapture_output() \u001b[38;5;28;01mas\u001b[39;00m capturedBasic:\n\u001b[0;32m---> 21\u001b[0m     cProfile\u001b[38;5;241m.\u001b[39mrun(\u001b[38;5;124m'\u001b[39m\u001b[38;5;124msolution =plannerBasic.planRoundPath(benchList[0].startList,benchList[0].interimGoalList,benchList[0].goalList,plannerBasicProducer)\u001b[39m\u001b[38;5;124m'\u001b[39m,\u001b[38;5;124m'\u001b[39m\u001b[38;5;124mbasicstats\u001b[39m\u001b[38;5;124m'\u001b[39m) \n\u001b[1;32m     23\u001b[0m HelperClass\u001b[38;5;241m.\u001b[39mHelperClass\u001b[38;5;241m.\u001b[39mprintInColor(\u001b[38;5;124m\"\u001b[39m\u001b[38;5;124mVisibiltyPRMRound\u001b[39m\u001b[38;5;124m\"\u001b[39m, \u001b[38;5;124m\"\u001b[39m\u001b[38;5;124morange\u001b[39m\u001b[38;5;124m\"\u001b[39m)\n\u001b[1;32m     24\u001b[0m \u001b[38;5;28;01mwith\u001b[39;00m io\u001b[38;5;241m.\u001b[39mcapture_output() \u001b[38;5;28;01mas\u001b[39;00m capturedVisibility:\n",
      "File \u001b[0;32m~/anaconda3/lib/python3.11/cProfile.py:17\u001b[0m, in \u001b[0;36mrun\u001b[0;34m(statement, filename, sort)\u001b[0m\n\u001b[1;32m     16\u001b[0m \u001b[38;5;28;01mdef\u001b[39;00m \u001b[38;5;21mrun\u001b[39m(statement, filename\u001b[38;5;241m=\u001b[39m\u001b[38;5;28;01mNone\u001b[39;00m, sort\u001b[38;5;241m=\u001b[39m\u001b[38;5;241m-\u001b[39m\u001b[38;5;241m1\u001b[39m):\n\u001b[0;32m---> 17\u001b[0m     \u001b[38;5;28;01mreturn\u001b[39;00m _pyprofile\u001b[38;5;241m.\u001b[39m_Utils(Profile)\u001b[38;5;241m.\u001b[39mrun(statement, filename, sort)\n",
      "File \u001b[0;32m~/anaconda3/lib/python3.11/profile.py:54\u001b[0m, in \u001b[0;36m_Utils.run\u001b[0;34m(self, statement, filename, sort)\u001b[0m\n\u001b[1;32m     52\u001b[0m prof \u001b[38;5;241m=\u001b[39m \u001b[38;5;28mself\u001b[39m\u001b[38;5;241m.\u001b[39mprofiler()\n\u001b[1;32m     53\u001b[0m \u001b[38;5;28;01mtry\u001b[39;00m:\n\u001b[0;32m---> 54\u001b[0m     prof\u001b[38;5;241m.\u001b[39mrun(statement)\n\u001b[1;32m     55\u001b[0m \u001b[38;5;28;01mexcept\u001b[39;00m \u001b[38;5;167;01mSystemExit\u001b[39;00m:\n\u001b[1;32m     56\u001b[0m     \u001b[38;5;28;01mpass\u001b[39;00m\n",
      "File \u001b[0;32m~/anaconda3/lib/python3.11/cProfile.py:96\u001b[0m, in \u001b[0;36mProfile.run\u001b[0;34m(self, cmd)\u001b[0m\n\u001b[1;32m     94\u001b[0m \u001b[38;5;28;01mimport\u001b[39;00m \u001b[38;5;21;01m__main__\u001b[39;00m\n\u001b[1;32m     95\u001b[0m \u001b[38;5;28mdict\u001b[39m \u001b[38;5;241m=\u001b[39m __main__\u001b[38;5;241m.\u001b[39m\u001b[38;5;18m__dict__\u001b[39m\n\u001b[0;32m---> 96\u001b[0m \u001b[38;5;28;01mreturn\u001b[39;00m \u001b[38;5;28mself\u001b[39m\u001b[38;5;241m.\u001b[39mrunctx(cmd, \u001b[38;5;28mdict\u001b[39m, \u001b[38;5;28mdict\u001b[39m)\n",
      "File \u001b[0;32m~/anaconda3/lib/python3.11/cProfile.py:101\u001b[0m, in \u001b[0;36mProfile.runctx\u001b[0;34m(self, cmd, globals, locals)\u001b[0m\n\u001b[1;32m     99\u001b[0m \u001b[38;5;28mself\u001b[39m\u001b[38;5;241m.\u001b[39menable()\n\u001b[1;32m    100\u001b[0m \u001b[38;5;28;01mtry\u001b[39;00m:\n\u001b[0;32m--> 101\u001b[0m     exec(cmd, \u001b[38;5;28mglobals\u001b[39m, \u001b[38;5;28mlocals\u001b[39m)\n\u001b[1;32m    102\u001b[0m \u001b[38;5;28;01mfinally\u001b[39;00m:\n\u001b[1;32m    103\u001b[0m     \u001b[38;5;28mself\u001b[39m\u001b[38;5;241m.\u001b[39mdisable()\n",
      "File \u001b[0;32m<string>:1\u001b[0m\n",
      "File \u001b[0;32m~/Dokumente/Projekt_Roboterprogrammierung/09_01_24_NeuerStand/RKIM23RobotProgramDS/02_eigeneNotebooks/IPPerfMonitor.py:27\u001b[0m, in \u001b[0;36mIPPerfMonitor.__call__\u001b[0;34m(self, *args, **kwargs)\u001b[0m\n\u001b[1;32m     24\u001b[0m \u001b[38;5;28;01mdef\u001b[39;00m \u001b[38;5;21m__call__\u001b[39m(\u001b[38;5;28mself\u001b[39m, \u001b[38;5;241m*\u001b[39margs, \u001b[38;5;241m*\u001b[39m\u001b[38;5;241m*\u001b[39mkwargs):\n\u001b[1;32m     26\u001b[0m     starttime \u001b[38;5;241m=\u001b[39m time\u001b[38;5;241m.\u001b[39mtime()\n\u001b[0;32m---> 27\u001b[0m     ret \u001b[38;5;241m=\u001b[39m \u001b[38;5;28mself\u001b[39m\u001b[38;5;241m.\u001b[39m__f(\u001b[38;5;241m*\u001b[39margs, \u001b[38;5;241m*\u001b[39m\u001b[38;5;241m*\u001b[39mkwargs)\n\u001b[1;32m     28\u001b[0m     endtime \u001b[38;5;241m=\u001b[39m time\u001b[38;5;241m.\u001b[39mtime()\n\u001b[1;32m     29\u001b[0m     element \u001b[38;5;241m=\u001b[39m {\u001b[38;5;124m'\u001b[39m\u001b[38;5;124margs\u001b[39m\u001b[38;5;124m'\u001b[39m: args, \u001b[38;5;124m'\u001b[39m\u001b[38;5;124mkwargs\u001b[39m\u001b[38;5;124m'\u001b[39m: kwargs, \u001b[38;5;124m\"\u001b[39m\u001b[38;5;124mretVal\u001b[39m\u001b[38;5;124m\"\u001b[39m: ret, \u001b[38;5;124m\"\u001b[39m\u001b[38;5;124mtime\u001b[39m\u001b[38;5;124m\"\u001b[39m: endtime\u001b[38;5;241m-\u001b[39mstarttime}\n",
      "File \u001b[0;32m~/Dokumente/Projekt_Roboterprogrammierung/09_01_24_NeuerStand/RKIM23RobotProgramDS/02_eigeneNotebooks/IPBasicPRM_Roundtrip.py:169\u001b[0m, in \u001b[0;36mBasicPRM.planRoundPath\u001b[0;34m(self, startList, interimGoalList, goalList, config)\u001b[0m\n\u001b[1;32m    162\u001b[0m checkedInterimGoalList\u001b[38;5;241m.\u001b[39mappend(checkedGoalList[\u001b[38;5;241m0\u001b[39m])\n\u001b[1;32m    164\u001b[0m \u001b[38;5;66;03m#print(checkedStartList)\u001b[39;00m\n\u001b[1;32m    165\u001b[0m \u001b[38;5;66;03m#print(checkedInterimGoalList)\u001b[39;00m\n\u001b[1;32m    166\u001b[0m \u001b[38;5;66;03m#print(checkedGoalList)\u001b[39;00m\n\u001b[1;32m    167\u001b[0m \n\u001b[1;32m    168\u001b[0m \u001b[38;5;66;03m# 2. learn Roadmap\u001b[39;00m\n\u001b[0;32m--> 169\u001b[0m \u001b[38;5;28mself\u001b[39m\u001b[38;5;241m.\u001b[39m_learnRoadmapNearestNeighbour(config[\u001b[38;5;124m\"\u001b[39m\u001b[38;5;124mradius\u001b[39m\u001b[38;5;124m\"\u001b[39m],config[\u001b[38;5;124m\"\u001b[39m\u001b[38;5;124mnumNodes\u001b[39m\u001b[38;5;124m\"\u001b[39m])\n\u001b[1;32m    171\u001b[0m \u001b[38;5;66;03m# 3. find connection of start and goal to roadmap\u001b[39;00m\n\u001b[1;32m    172\u001b[0m \u001b[38;5;66;03m# find nearest, collision-free connection between node on graph and start\u001b[39;00m\n\u001b[1;32m    173\u001b[0m result \u001b[38;5;241m=\u001b[39m \u001b[38;5;28mself\u001b[39m\u001b[38;5;241m.\u001b[39m_nearestNeighbours(checkedStartList[\u001b[38;5;241m0\u001b[39m], config[\u001b[38;5;124m\"\u001b[39m\u001b[38;5;124mradius\u001b[39m\u001b[38;5;124m\"\u001b[39m])\n",
      "\u001b[0;31mTypeError\u001b[0m: list indices must be integers or slices, not str"
     ]
    }
   ],
   "source": [
    "# Executing the planning. \n",
    "import cProfile\n",
    "from IPPRMBase import PRMBase\n",
    "\n",
    "for i in plannerFactory:\n",
    "    print(\"i\",i)\n",
    "#print(plannerFactory.)\n",
    "\n",
    "print(\"plannerFactory 1\", plannerFactory[\"basePRM\"])\n",
    "\n",
    "plannerBasic = resultList[0].planner\n",
    "plannerBasicProducer = plannerFactory[\"basePRM\"]\n",
    "plannerVisibility = resultList[1].planner\n",
    "plannerVisibilityProducer = plannerFactory[\"visibilityPRM\"]\n",
    "plannerLazy = resultList[2].planner\n",
    "plannerLazyProducer = plannerFactory[\"lazyPRM\"]\n",
    "\n",
    "\n",
    "HelperClass.HelperClass.printInColor(\"BasicPRMRound\", \"red\")\n",
    "with io.capture_output() as capturedBasic:\n",
    "    cProfile.run('solution =plannerBasic.planRoundPath(benchList[0].startList,benchList[0].interimGoalList,benchList[0].goalList,plannerBasicProducer)','basicstats') \n",
    "\n",
    "HelperClass.HelperClass.printInColor(\"VisibiltyPRMRound\", \"orange\")\n",
    "with io.capture_output() as capturedVisibility:\n",
    "    cProfile.run('solution = plannerVisibility.planRoundPath(benchList[0].startList,benchList[0].interimGoalList,benchList[0].goalList,plannerVisibilityProducer)','visibilitystats') \n",
    "HelperClass.HelperClass.printInColor(\"LazyPRMRound\", \"green\")\n",
    "with io.capture_output() as capturedVisibility:\n",
    "    cProfile.run('solution = plannerLazy.planRoundPath(benchList[0].startList,benchList[0].interimGoalList,benchList[0].goalList,plannerLazyProducer)','lazystats')"
   ]
  },
  {
   "cell_type": "code",
   "execution_count": null,
   "id": "4c24095d-f9c6-4572-881c-402bf61ce3cf",
   "metadata": {
    "tags": []
   },
   "outputs": [],
   "source": [
    "# utility functions to read and access data in astartstats\n",
    "import pstats\n",
    "from pstats import SortKey\n",
    "\n",
    "p = pstats.Stats('visibilitystats')\n",
    "p.strip_dirs().sort_stats(SortKey.CALLS).print_stats()\n",
    "p.sort_stats(SortKey.CUMULATIVE).print_stats(15)\n",
    "p.sort_stats(SortKey.CALLS).print_stats(15)\n",
    "p.sort_stats(SortKey.TIME).print_stats(15)\n",
    "\n",
    "fig_local = plt.figure(figsize=(10,10))\n",
    "ax = fig_local.add_subplot(1,1,1)\n",
    "  \n",
    "    \n",
    "# Anzeige der Benchmarks, noch nicht mit allen Vis möglich\n",
    "\n",
    "for bench, result in zip(testList, resultList):\n",
    "    title = bench.name\n",
    "    pathLength = dict()\n",
    "    planningTime = dict()\n",
    "    roadmapSize  = dict()\n",
    "    if result.benchmark.name == bench.name:\n",
    "        #print result.benchmark.name  + \" - \" +  result.plannerFactoryName, len(result.solution)\n",
    "        pathLength[result.plannerFactoryName] = len(result.solution)\n",
    "        planningTime[result.plannerFactoryName] = result.perfDataFrame.groupby([\"name\"]).sum(numeric_only=True)[\"time\"][\"planRoundPath\"]\n",
    "        roadmapSize[result.plannerFactoryName] = result.planner.graph.size()\n",
    "\n",
    "    IPVISVisibilityPRM.visibilityPRMVisualize(result.planner, result.solution, ax=ax, nodeSize=100)"
   ]
  },
  {
   "cell_type": "code",
   "execution_count": null,
   "id": "939e0eaf-e571-4a9a-8510-5f569a315685",
   "metadata": {},
   "outputs": [],
   "source": []
  },
  {
   "cell_type": "markdown",
   "id": "5fe3a3f3-5a7e-42ea-a446-b4a120411f29",
   "metadata": {
    "tags": []
   },
   "source": [
    "Example using IPerfMonitor\n",
    "--------------------------"
   ]
  },
  {
   "cell_type": "code",
   "execution_count": null,
   "id": "39d219d4-9c65-4eb3-b520-9c25414296b2",
   "metadata": {},
   "outputs": [],
   "source": [
    "from IPPerfMonitor import IPPerfMonitor"
   ]
  },
  {
   "cell_type": "code",
   "execution_count": null,
   "id": "09e99076-2957-4076-9c7d-0f90be63a4bb",
   "metadata": {},
   "outputs": [],
   "source": [
    "benchList = IPTestSuite.benchList\n",
    "\n",
    "# KOnfig steht in plannerFactory\n",
    "print(str(planner))\n",
    "with io.capture_output() as captured:\n",
    "    solution = planner.planRoundPath(benchList[0].startList,benchList[0].interimGoalList,benchList[0].goalList,producer[1])\n",
    "\n",
    "\n",
    "start = benchList[0].startList\n",
    "goal = benchList[0].goalList\n",
    "\n",
    "data_frame = IPPerfMonitor.dataFrame()\n",
    "\n",
    "#fig_local = plt.figure(figsize=(10,10))\n",
    "#ax = fig_local.add_subplot(1,1,1)\n",
    "\n",
    "#IPVISVisibilityPRM.visibilityPRMVisualize(planner, solution, ax=ax, nodeSize=100)"
   ]
  },
  {
   "cell_type": "code",
   "execution_count": null,
   "id": "bffef153-0889-4c90-b4a8-6b869bab4dda",
   "metadata": {
    "tags": []
   },
   "outputs": [],
   "source": [
    "resultList = list()\n",
    "testList = benchList[:1]\n",
    "\n",
    "solution = list()\n",
    "data_frame = list()\n",
    "i = 0\n",
    "for key,producer in list(plannerFactory.items()):\n",
    "    HelperClass.HelperClass.printInColor(str(key)+\" \"+ str(producer), 'yellow')\n",
    "\n",
    "    for benchmark in testList:\n",
    "\n",
    "        planner = producer[0](benchmark.collisionChecker)\n",
    "        IPPerfMonitor.clearData()\n",
    "        \n",
    "        try:\n",
    "            with io.capture_output() as captured:\n",
    "                #resultList.append(ResultCollection(key,\n",
    "                #                        planner, \n",
    "                #                        benchmark, \n",
    "                #                        planner.planRoundPath(benchmark.startList,benchmark.interimGoalList,benchmark.goalList,producer[1]),\n",
    "                #                        IPPerfMonitor.dataFrame()),)\n",
    "                solution.append(planner.planRoundPath(benchList[0].startList,benchList[0].interimGoalList,benchList[0].goalList,producer[1]))\n",
    "                data_frame.append(IPPerfMonitor.dataFrame())\n",
    "\n",
    "                i = i + 1\n",
    "\n",
    "\n",
    "        except Exception as e:\n",
    "            HelperClass.HelperClass.printInColor(\"PLANNING ERROR ! PLANNING ERROR ! PLANNING ERROR\", 'red')\n",
    "            HelperClass.HelperClass.printInColor(e, 'red')\n",
    "            pass\n",
    "\n",
    "print(solution[1])"
   ]
  },
  {
   "cell_type": "code",
   "execution_count": null,
   "id": "e2bf0fe1-4908-4895-a17a-7fe5557aa52c",
   "metadata": {},
   "outputs": [],
   "source": [
    "#data_frame\n"
   ]
  },
  {
   "cell_type": "code",
   "execution_count": null,
   "id": "51bed6dc-8456-413e-b978-6b15084daba8",
   "metadata": {},
   "outputs": [],
   "source": [
    "HelperClass.HelperClass.printInColor(\"Basic\", \"red\")\n",
    "print(data_frame[0].groupby([\"name\"]).sum(numeric_only=True))\n",
    "print(\"\")\n",
    "\n",
    "HelperClass.HelperClass.printInColor(\"Visibility\", \"yellow\")\n",
    "print(data_frame[1].groupby([\"name\"]).sum(numeric_only=True))\n",
    "print(\"\")\n",
    "\n",
    "HelperClass.HelperClass.printInColor(\"Lazy\", \"green\")\n",
    "print(data_frame[2].groupby([\"name\"]).sum(numeric_only=True))"
   ]
  },
  {
   "cell_type": "code",
   "execution_count": null,
   "id": "777a60f9-c90c-45b0-ac4e-19f89aa36f49",
   "metadata": {},
   "outputs": [],
   "source": [
    "HelperClass.HelperClass.printInColor(\"Basic\", \"red\")\n",
    "print(data_frame[0][data_frame[0][\"name\"]==\"pointInCollision\"][data_frame[0][\"retVal\"]==True].count())\n",
    "\n",
    "HelperClass.HelperClass.printInColor(\"Visibility\", \"yellow\")\n",
    "print(data_frame[1][data_frame[1][\"name\"]==\"pointInCollision\"][data_frame[1][\"retVal\"]==True].count())\n",
    "\n",
    "HelperClass.HelperClass.printInColor(\"Lazy\", \"green\")\n",
    "print(data_frame[2][data_frame[2][\"name\"]==\"pointInCollision\"][data_frame[2][\"retVal\"]==True].count())\n"
   ]
  },
  {
   "cell_type": "code",
   "execution_count": null,
   "id": "a8c2aadc-dcd7-43bb-b282-3b4040306f80",
   "metadata": {},
   "outputs": [],
   "source": [
    "HelperClass.HelperClass.printInColor(\"Basic\", \"red\")\n",
    "print(data_frame[0].groupby([\"name\"]).count())\n",
    "print(\"\")\n",
    "HelperClass.HelperClass.printInColor(\"Visibility\", \"yellow\")\n",
    "print(data_frame[1].groupby([\"name\"]).count())\n",
    "print(\"\")\n",
    "HelperClass.HelperClass.printInColor(\"Lazy\", \"green\")\n",
    "print(data_frame[2].groupby([\"name\"]).count())\n",
    "\n"
   ]
  },
  {
   "cell_type": "markdown",
   "id": "d8666ada-8cde-4075-b7d8-49ef38b5e2c1",
   "metadata": {},
   "source": [
    "Second Example using IPPerfMonitor\n",
    "----------------------------------"
   ]
  },
  {
   "cell_type": "code",
   "execution_count": null,
   "id": "2a70b89b-fbf8-439e-96c9-fabf4d3d58b0",
   "metadata": {},
   "outputs": [],
   "source": [
    "import IPVisibilityPRM_Roundtrip\n",
    "import IPVISVisibilityPRM"
   ]
  },
  {
   "cell_type": "code",
   "execution_count": null,
   "id": "0d518867-bbfc-4b28-9119-f82494c876ce",
   "metadata": {},
   "outputs": [],
   "source": [
    "visbilityConfig = dict()\n",
    "visbilityConfig[\"ntry\"] = 300\n",
    "\n",
    "vis = plannerFactory[\"visibilityPRM\"][0](benchList[3].collisionChecker)\n",
    "\n",
    "start = benchList[3].startList\n",
    "goal = benchList[3].goalList\n",
    "\n",
    "IPPerfMonitor.clearData()\n",
    "\n",
    "with io.capture_output() as captured:\n",
    "    solution = vis.planRoundPath(benchmark.startList,benchmark.interimGoalList,benchmark.goalList,visbilityConfig)\n",
    "\n",
    "data_frame = IPPerfMonitor.dataFrame()\n",
    "\n",
    "fig_local = plt.figure(figsize=(10,10))\n",
    "ax = fig_local.add_subplot(1,1,1)\n",
    "IPVISVisibilityPRM.visibilityPRMVisualize(vis, solution, ax = ax)"
   ]
  },
  {
   "cell_type": "code",
   "execution_count": null,
   "id": "f25b6cc2-b756-44c2-ac2e-5fdf96ee1669",
   "metadata": {},
   "outputs": [],
   "source": [
    "data_frame"
   ]
  },
  {
   "cell_type": "code",
   "execution_count": null,
   "id": "472966ab-87ca-423b-afbb-86e07eb3530d",
   "metadata": {},
   "outputs": [],
   "source": [
    "data_frame.groupby([\"name\"]).count()"
   ]
  },
  {
   "cell_type": "code",
   "execution_count": null,
   "id": "b26dcbfa-9ad2-4a26-973d-2f730afe7834",
   "metadata": {
    "tags": []
   },
   "outputs": [],
   "source": [
    "data_frame.groupby([\"name\"]).sum(numeric_only=True)"
   ]
  }
 ],
 "metadata": {
  "kernelspec": {
   "display_name": "Python 3 (ipykernel)",
   "language": "python",
   "name": "python3"
  },
  "language_info": {
   "codemirror_mode": {
    "name": "ipython",
    "version": 3
   },
   "file_extension": ".py",
   "mimetype": "text/x-python",
   "name": "python",
   "nbconvert_exporter": "python",
   "pygments_lexer": "ipython3",
   "version": "3.11.5"
  }
 },
 "nbformat": 4,
 "nbformat_minor": 5
}
